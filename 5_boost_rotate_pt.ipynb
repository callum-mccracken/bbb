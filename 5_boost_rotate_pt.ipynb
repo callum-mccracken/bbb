{
 "cells": [
  {
   "cell_type": "markdown",
   "metadata": {},
   "source": [
    "# Boost and Rotate Stack Plot"
   ]
  },
  {
   "cell_type": "code",
   "execution_count": 1,
   "metadata": {},
   "outputs": [
    {
     "name": "stderr",
     "output_type": "stream",
     "text": [
      "Using TensorFlow backend.\n"
     ]
    }
   ],
   "source": [
    "import uproot as ur\n",
    "import uproot_methods as urm\n",
    "import numpy as np\n",
    "import awkward\n",
    "import matplotlib.pyplot as plt\n",
    "from tqdm import tqdm\n",
    "from keras.preprocessing.sequence import pad_sequences\n",
    "\n",
    "import tools\n",
    "\n",
    "filename = 'user.jagrundy.20736236._000001.MiniNTuple.root'"
   ]
  },
  {
   "cell_type": "markdown",
   "metadata": {},
   "source": [
    "Load ntuple, get the data we need from the file"
   ]
  },
  {
   "cell_type": "code",
   "execution_count": 2,
   "metadata": {},
   "outputs": [
    {
     "name": "stdout",
     "output_type": "stream",
     "text": [
      "sorting data by tag\n"
     ]
    }
   ],
   "source": [
    "s_table = tools.open_file(filename, sort_by=\"tag\")"
   ]
  },
  {
   "cell_type": "markdown",
   "metadata": {},
   "source": [
    "Filters"
   ]
  },
  {
   "cell_type": "code",
   "execution_count": 3,
   "metadata": {},
   "outputs": [
    {
     "name": "stdout",
     "output_type": "stream",
     "text": [
      "filtering from 777150 total events\n",
      "302694\n"
     ]
    }
   ],
   "source": [
    "print(\"filtering from\", len(s_table), \"total events\")\n",
    "\n",
    "# filter so we get events with 3 or 4 b-jets, and 3 tags\n",
    "nb34 = (s_table.nbjets == 3) | (s_table.nbjets == 4) # 3 or 4 b-jets\n",
    "nj4 = s_table.njets >= 4 # at least 4 jets\n",
    "nt3 = s_table.nbtags==3  # 3 b-tags\n",
    "events = s_table[nb34 & nt3 & nj4]\n",
    "\n",
    "# and ensure that the 3 tags are actually correct\n",
    "# this results in very little event loss\n",
    "events = events[events.truth[:,0] == 1]\n",
    "events = events[events.truth[:,1] == 1]\n",
    "events = events[events.truth[:,2] == 1]\n",
    "\n",
    "n_events = len(events)\n",
    "print(n_events)"
   ]
  },
  {
   "cell_type": "code",
   "execution_count": 4,
   "metadata": {},
   "outputs": [
    {
     "name": "stderr",
     "output_type": "stream",
     "text": [
      "/home/callum/anaconda3/envs/437env/lib/python3.8/site-packages/uproot_methods/classes/TLorentzVector.py:181: RuntimeWarning: invalid value encountered in true_divide\n",
      "  return self._trymemo(\"eta\", lambda self: self.awkward.numpy.arcsinh(self.z / self.awkward.numpy.sqrt(self.x**2 + self.y**2)))\n"
     ]
    },
    {
     "name": "stdout",
     "output_type": "stream",
     "text": [
      "Don't worry if you see a warning about dividing by zero, fixing that!\n"
     ]
    }
   ],
   "source": [
    "cutoff = np.max(events.njets)\n",
    "padding_val = 0\n",
    "\n",
    "# pad events out to 'cutoff' events\n",
    "events = tools.pad(events, cutoff)\n",
    "# boost/rotate\n",
    "events = tools.boost_and_rotate(events)"
   ]
  },
  {
   "cell_type": "code",
   "execution_count": 5,
   "metadata": {},
   "outputs": [],
   "source": [
    "# separate the 3 first jets from the rest since they're already tagged correctly\n",
    "# (given our filtering procedure above)\n",
    "px_3, px_rest = events.resolved_lv.p3.x[:, :3], events.resolved_lv.p3.x[:, 3:]\n",
    "py_3, py_rest = events.resolved_lv.p3.y[:, :3], events.resolved_lv.p3.y[:, 3:]"
   ]
  },
  {
   "cell_type": "code",
   "execution_count": 9,
   "metadata": {
    "tags": [
     "outputPrepend"
    ]
   },
   "outputs": [
    {
     "name": "stderr",
     "output_type": "stream",
     "text": [
      "\r",
      "  0%|          | 0/302694 [00:00<?, ?it/s]"
     ]
    },
    {
     "name": "stdout",
     "output_type": "stream",
     "text": [
      "237283\n"
     ]
    },
    {
     "name": "stderr",
     "output_type": "stream",
     "text": [
      "100%|██████████| 302694/302694 [00:01<00:00, 177060.74it/s]"
     ]
    },
    {
     "name": "stdout",
     "output_type": "stream",
     "text": [
      "\r\n"
     ]
    },
    {
     "name": "stderr",
     "output_type": "stream",
     "text": [
      "\n"
     ]
    },
    {
     "data": {
      "image/png": "[encoded data removed]",
      "text/plain": [
       "<Figure size 432x288 with 1 Axes>"
      ]
     },
     "metadata": {
      "needs_background": "light"
     },
     "output_type": "display_data"
    },
    {
     "data": {
      "text/plain": [
       "(15.44033750138968,\n",
       " 0.009947163010596656,\n",
       " 84.54971533559973,\n",
       " 29.596861697688006,\n",
       " 70.403138302312)"
      ]
     },
     "execution_count": 9,
     "metadata": {},
     "output_type": "execute_result"
    }
   ],
   "source": [
    "# find the best jet from _rest that fits with _3, in terms of pt sum = 0\n",
    "px_3_sums = np.repeat(np.sum(px_3, axis=1).reshape(-1, 1), cutoff-3, axis=1)\n",
    "py_3_sums = np.repeat(np.sum(py_3, axis=1).reshape(-1, 1), cutoff-3, axis=1)\n",
    "\n",
    "px_sums = np.abs(px_rest + px_3_sums)\n",
    "py_sums = np.abs(py_rest + py_3_sums)\n",
    "\n",
    "magnitudes = np.sqrt(px_sums**2 + py_sums**2)\n",
    "lowest_vals = np.min(magnitudes, axis=1)\n",
    "lowest_indices = np.argmin(magnitudes, axis=1)\n",
    "\n",
    "# lower values = more certainty\n",
    "# let's set an arbitrary threshold,\n",
    "# and say if lowest_val > thresh, pick no jet\n",
    "thresh = 1\n",
    "lowest_indices[lowest_vals>thresh] = cutoff-3\n",
    "\n",
    "# also if the event was fine before adding a 4th jet, pick no jet\n",
    "# this ends up having a small effect\n",
    "px_sums_no_4th = np.abs(px_3_sums[:,0])\n",
    "py_sums_no_4th = np.abs(py_3_sums[:,0])\n",
    "magnitudes_no_4th = np.sqrt(px_sums_no_4th**2 + py_sums_no_4th**2)\n",
    "lowest_indices[magnitudes_no_4th<thresh] = cutoff-3\n",
    "print(np.count_nonzero(lowest_indices == cutoff-3))\n",
    "\n",
    "# put this in a better format\n",
    "selection_index = lowest_indices + 3\n",
    "selections = np.zeros((len(events.truth), cutoff+1), dtype=int)\n",
    "for i, s in enumerate(selection_index):\n",
    "    selections[i][s] = 1\n",
    "# chop off last index so selection = [0,...,0] for no selection\n",
    "selections = selections[:, :-1]\n",
    "\n",
    "# compare to tag_u, truth_u\n",
    "tools.evaluate_model(events.truth, events.tag, selections)\n"
   ]
  },
  {
   "cell_type": "code",
   "execution_count": 7,
   "metadata": {},
   "outputs": [
    {
     "data": {
      "text/plain": [
       "<Figure size 432x288 with 0 Axes>"
      ]
     },
     "metadata": {},
     "output_type": "display_data"
    },
    {
     "data": {
      "image/png": "[encoded data removed]",
      "text/plain": [
       "<Figure size 432x288 with 1 Axes>"
      ]
     },
     "metadata": {
      "needs_background": "light"
     },
     "output_type": "display_data"
    }
   ],
   "source": [
    "# stack plot\n",
    "plt.cla();plt.clf()\n",
    "fig, ax = plt.subplots()\n",
    "n_list = list(range(4,8))\n",
    "labels = [str(n) for n in n_list]\n",
    "all_data_for_hist = np.array([lowest_vals[events.njets == n] for n in n_list])\n",
    "ax.hist(all_data_for_hist, bins=1000, histtype='bar', stacked=True, label=labels)\n",
    "plt.yscale('log')\n",
    "plt.xlabel(f\"lowest $||(p_x, p_y)||$ sum of 4, by number of total jets\")\n",
    "plt.legend(loc='upper right')\n",
    "plt.xlim(0,100)\n",
    "plt.show()"
   ]
  }
 ],
 "metadata": {
  "file_extension": ".py",
  "kernelspec": {
   "display_name": "Python 3.8.2 64-bit",
   "language": "python",
   "name": "python38264bit1bc87f48281d409ab7479945988ac1ab"
  },
  "language_info": {
   "codemirror_mode": {
    "name": "ipython",
    "version": 3
   },
   "file_extension": ".py",
   "mimetype": "text/x-python",
   "name": "python",
   "nbconvert_exporter": "python",
   "pygments_lexer": "ipython3",
   "version": "3.8.2"
  },
  "mimetype": "text/x-python",
  "name": "python",
  "npconvert_exporter": "python",
  "pygments_lexer": "ipython3",
  "version": 3
 },
 "nbformat": 4,
 "nbformat_minor": 2
}
