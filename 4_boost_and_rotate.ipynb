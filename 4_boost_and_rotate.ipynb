{
 "cells": [
  {
   "cell_type": "markdown",
   "metadata": {},
   "source": [
    "# Boost and Rotate"
   ]
  },
  {
   "cell_type": "code",
   "execution_count": 1,
   "metadata": {},
   "outputs": [
    {
     "name": "stderr",
     "output_type": "stream",
     "text": [
      "Using TensorFlow backend.\n"
     ]
    }
   ],
   "source": [
    "from ptetaphi_nn import PtEtaPhiNN\n",
    "import tools\n",
    "\n",
    "filename = 'user.jagrundy.20736236._000001.MiniNTuple.root'"
   ]
  },
  {
   "cell_type": "markdown",
   "metadata": {},
   "source": [
    "Load ntuple, get the data we need from the file"
   ]
  },
  {
   "cell_type": "code",
   "execution_count": 2,
   "metadata": {},
   "outputs": [
    {
     "name": "stdout",
     "output_type": "stream",
     "text": [
      "sorting data by tag\n"
     ]
    }
   ],
   "source": [
    "s_table = tools.open_file(filename, sort_by=\"tag\")"
   ]
  },
  {
   "cell_type": "code",
   "execution_count": 3,
   "metadata": {},
   "outputs": [
    {
     "name": "stdout",
     "output_type": "stream",
     "text": [
      "filtering from 777150 total events\n",
      "303925\n"
     ]
    }
   ],
   "source": [
    "print(\"filtering from\", len(s_table), \"total events\")\n",
    "\n",
    "# filter so we get events with 3 or 4 b-jets, and 3 tags\n",
    "b34 = (s_table.nbjets == 3) | (s_table.nbjets == 4) # 3 or 4 b-jets\n",
    "nt3 = s_table.nbtags==3  # 3 b-tags\n",
    "events = s_table[b34 & nt3]\n",
    "\n",
    "# and ensure that the 3 tags are actually correct\n",
    "# this results in very little event loss\n",
    "events = events[events.truth[:,0] == 1]\n",
    "events = events[events.truth[:,1] == 1]\n",
    "events = events[events.truth[:,2] == 1]\n",
    "\n",
    "n_events = len(events)\n",
    "print(n_events)"
   ]
  },
  {
   "cell_type": "code",
   "execution_count": 4,
   "metadata": {},
   "outputs": [
    {
     "name": "stderr",
     "output_type": "stream",
     "text": [
      "/home/callum/anaconda3/envs/437env/lib/python3.8/site-packages/uproot_methods/classes/TLorentzVector.py:181: RuntimeWarning: invalid value encountered in true_divide\n",
      "  return self._trymemo(\"eta\", lambda self: self.awkward.numpy.arcsinh(self.z / self.awkward.numpy.sqrt(self.x**2 + self.y**2)))\n"
     ]
    },
    {
     "name": "stdout",
     "output_type": "stream",
     "text": [
      "Don't worry if you see a warning about dividing by zero, fixing that!\n"
     ]
    }
   ],
   "source": [
    "cutoff = 10\n",
    "# pad events out to 'cutoff' events\n",
    "events = tools.pad(events, cutoff)\n",
    "# boost/rotate\n",
    "events = tools.boost_and_rotate(events)"
   ]
  },
  {
   "cell_type": "code",
   "execution_count": 5,
   "metadata": {
    "tags": [
     "outputPrepend"
    ]
   },
   "outputs": [
    {
     "name": "stdout",
     "output_type": "stream",
     "text": [
      "Model: \"sequential_1\"\n",
      "_________________________________________________________________\n",
      "Layer (type)                 Output Shape              Param #   \n",
      "=================================================================\n",
      "dense_1 (Dense)              (None, 21)                462       \n",
      "_________________________________________________________________\n",
      "dense_2 (Dense)              (None, 21)                462       \n",
      "_________________________________________________________________\n",
      "dense_3 (Dense)              (None, 15)                330       \n",
      "_________________________________________________________________\n",
      "dense_4 (Dense)              (None, 8)                 128       \n",
      "=================================================================\n",
      "Total params: 1,382\n",
      "Trainable params: 1,382\n",
      "Non-trainable params: 0\n",
      "_________________________________________________________________\n",
      "Train on 212747 samples, validate on 30393 samples\n",
      "Epoch 1/200\n",
      "212747/212747 [==============================] - 1s 7us/step - loss: 1.8212 - acc: 0.3777 - val_loss: 1.3729 - val_acc: 0.4376\n",
      "Epoch 2/200\n",
      "212747/212747 [==============================] - 1s 6us/step - loss: 1.2469 - acc: 0.4378 - val_loss: 1.1990 - val_acc: 0.4377\n",
      "Epoch 3/200\n",
      "212747/212747 [==============================] - 1s 6us/step - loss: 1.1854 - acc: 0.4414 - val_loss: 1.1742 - val_acc: 0.4452\n",
      "Epoch 4/200\n",
      "212747/212747 [==============================] - 1s 6us/step - loss: 1.1676 - acc: 0.4482 - val_loss: 1.1616 - val_acc: 0.4492\n",
      "Epoch 5/200\n",
      "212747/212747 [==============================] - 1s 6us/step - loss: 1.1570 - acc: 0.4537 - val_loss: 1.1529 - val_acc: 0.4543\n",
      "Epoch 6/200\n",
      "212747/212747 [==============================] - 1s 6us/step - loss: 1.1485 - acc: 0.4623 - val_loss: 1.1449 - val_acc: 0.4644\n",
      "Epoch 7/200\n",
      "212747/212747 [==============================] - 1s 6us/step - loss: 1.1403 - acc: 0.4730 - val_loss: 1.1374 - val_acc: 0.4742\n",
      "Epoch 8/200\n",
      "212747/212747 [==============================] - 1s 6us/step - loss: 1.1327 - acc: 0.4827 - val_loss: 1.1303 - val_acc: 0.4833\n",
      "Epoch 9/200\n",
      "212747/212747 [==============================] - 1s 6us/step - loss: 1.1256 - acc: 0.4898 - val_loss: 1.1238 - val_acc: 0.4910\n",
      "Epoch 10/200\n",
      "212747/212747 [==============================] - 1s 6us/step - loss: 1.1192 - acc: 0.4958 - val_loss: 1.1177 - val_acc: 0.4966\n",
      "Epoch 11/200\n",
      "212747/212747 [==============================] - 1s 6us/step - loss: 1.1133 - acc: 0.5009 - val_loss: 1.1121 - val_acc: 0.5007\n",
      "Epoch 12/200\n",
      "212747/212747 [==============================] - 1s 6us/step - loss: 1.1079 - acc: 0.5048 - val_loss: 1.1069 - val_acc: 0.5057\n",
      "Epoch 13/200\n",
      "212747/212747 [==============================] - 1s 6us/step - loss: 1.1030 - acc: 0.5082 - val_loss: 1.1022 - val_acc: 0.5081\n",
      "Epoch 14/200\n",
      "212747/212747 [==============================] - 1s 6us/step - loss: 1.0986 - acc: 0.5109 - val_loss: 1.0979 - val_acc: 0.5103\n",
      "Epoch 15/200\n",
      "212747/212747 [==============================] - 1s 6us/step - loss: 1.0945 - acc: 0.5134 - val_loss: 1.0939 - val_acc: 0.5125\n",
      "Epoch 16/200\n",
      "212747/212747 [==============================] - 1s 6us/step - loss: 1.0908 - acc: 0.5153 - val_loss: 1.0901 - val_acc: 0.5149\n",
      "Epoch 17/200\n",
      "212747/212747 [==============================] - 1s 6us/step - loss: 1.0873 - acc: 0.5169 - val_loss: 1.0865 - val_acc: 0.5161\n",
      "Epoch 18/200\n",
      "212747/212747 [==============================] - 1s 6us/step - loss: 1.0838 - acc: 0.5184 - val_loss: 1.0832 - val_acc: 0.5174\n",
      "Epoch 19/200\n",
      "212747/212747 [==============================] - 1s 6us/step - loss: 1.0807 - acc: 0.5202 - val_loss: 1.0800 - val_acc: 0.5193\n",
      "Epoch 20/200\n",
      "212747/212747 [==============================] - 1s 6us/step - loss: 1.0777 - acc: 0.5215 - val_loss: 1.0769 - val_acc: 0.5210\n",
      "Epoch 21/200\n",
      "212747/212747 [==============================] - 1s 6us/step - loss: 1.0750 - acc: 0.5231 - val_loss: 1.0742 - val_acc: 0.5226\n",
      "Epoch 22/200\n",
      "212747/212747 [==============================] - 1s 6us/step - loss: 1.0725 - acc: 0.5242 - val_loss: 1.0718 - val_acc: 0.5241\n",
      "Epoch 23/200\n",
      "212747/212747 [==============================] - 1s 6us/step - loss: 1.0702 - acc: 0.5253 - val_loss: 1.0696 - val_acc: 0.5242\n",
      "Epoch 24/200\n",
      "212747/212747 [==============================] - 1s 6us/step - loss: 1.0682 - acc: 0.5264 - val_loss: 1.0676 - val_acc: 0.5262\n",
      "Epoch 25/200\n",
      "212747/212747 [==============================] - 1s 6us/step - loss: 1.0663 - acc: 0.5272 - val_loss: 1.0658 - val_acc: 0.5260\n",
      "Epoch 26/200\n",
      "212747/212747 [==============================] - 1s 6us/step - loss: 1.0645 - acc: 0.5279 - val_loss: 1.0643 - val_acc: 0.5249\n",
      "Epoch 27/200\n",
      "212747/212747 [==============================] - 1s 6us/step - loss: 1.0630 - acc: 0.5285 - val_loss: 1.0626 - val_acc: 0.5272\n",
      "Epoch 28/200\n",
      "212747/212747 [==============================] - 1s 6us/step - loss: 1.0614 - acc: 0.5293 - val_loss: 1.0614 - val_acc: 0.5287\n",
      "Epoch 29/200\n",
      "212747/212747 [==============================] - 1s 6us/step - loss: 1.0600 - acc: 0.5297 - val_loss: 1.0599 - val_acc: 0.5284\n",
      "Epoch 30/200\n",
      "212747/212747 [==============================] - 1s 6us/step - loss: 1.0586 - acc: 0.5301 - val_loss: 1.0586 - val_acc: 0.5295\n",
      "Epoch 31/200\n",
      "212747/212747 [==============================] - 1s 6us/step - loss: 1.0574 - acc: 0.5309 - val_loss: 1.0573 - val_acc: 0.5281\n",
      "Epoch 32/200\n",
      "212747/212747 [==============================] - 1s 6us/step - loss: 1.0561 - acc: 0.5315 - val_loss: 1.0561 - val_acc: 0.5308\n",
      "Epoch 33/200\n",
      "212747/212747 [==============================] - 1s 6us/step - loss: 1.0549 - acc: 0.5320 - val_loss: 1.0551 - val_acc: 0.5313\n",
      "Epoch 34/200\n",
      "212747/212747 [==============================] - 1s 6us/step - loss: 1.0537 - acc: 0.5324 - val_loss: 1.0538 - val_acc: 0.5310\n",
      "Epoch 35/200\n",
      "212747/212747 [==============================] - 1s 6us/step - loss: 1.0525 - acc: 0.5330 - val_loss: 1.0527 - val_acc: 0.5315\n",
      "Epoch 36/200\n",
      "212747/212747 [==============================] - 1s 7us/step - loss: 1.0514 - acc: 0.5336 - val_loss: 1.0517 - val_acc: 0.5322\n",
      "Epoch 37/200\n",
      "212747/212747 [==============================] - 1s 6us/step - loss: 1.0504 - acc: 0.5341 - val_loss: 1.0507 - val_acc: 0.5317\n",
      "Epoch 38/200\n",
      "212747/212747 [==============================] - 1s 6us/step - loss: 1.0493 - acc: 0.5342 - val_loss: 1.0496 - val_acc: 0.5324\n",
      "Epoch 39/200\n",
      "212747/212747 [==============================] - 1s 6us/step - loss: 1.0484 - acc: 0.5346 - val_loss: 1.0487 - val_acc: 0.5333\n",
      "Epoch 40/200\n",
      "212747/212747 [==============================] - 1s 6us/step - loss: 1.0474 - acc: 0.5348 - val_loss: 1.0479 - val_acc: 0.5337\n",
      "Epoch 41/200\n",
      "212747/212747 [==============================] - 1s 6us/step - loss: 1.0465 - acc: 0.5354 - val_loss: 1.0471 - val_acc: 0.5335\n",
      "Epoch 42/200\n",
      "212747/212747 [==============================] - 1s 6us/step - loss: 1.0456 - acc: 0.5354 - val_loss: 1.0466 - val_acc: 0.5347\n",
      "Epoch 43/200\n",
      "212747/212747 [==============================] - 1s 6us/step - loss: 1.0447 - acc: 0.5361 - val_loss: 1.0456 - val_acc: 0.5346\n",
      "Epoch 44/200\n",
      "212747/212747 [==============================] - 1s 6us/step - loss: 1.0438 - acc: 0.5363 - val_loss: 1.0446 - val_acc: 0.5358\n",
      "Epoch 45/200\n",
      "212747/212747 [==============================] - 1s 6us/step - loss: 1.0430 - acc: 0.5369 - val_loss: 1.0438 - val_acc: 0.5357\n",
      "Epoch 46/200\n",
      "212747/212747 [==============================] - 1s 6us/step - loss: 1.0422 - acc: 0.5373 - val_loss: 1.0431 - val_acc: 0.5360\n",
      "Epoch 47/200\n",
      "212747/212747 [==============================] - 1s 6us/step - loss: 1.0414 - acc: 0.5381 - val_loss: 1.0424 - val_acc: 0.5361\n",
      "Epoch 48/200\n",
      "212747/212747 [==============================] - 1s 6us/step - loss: 1.0406 - acc: 0.5378 - val_loss: 1.0417 - val_acc: 0.5364\n",
      "Epoch 49/200\n",
      "212747/212747 [==============================] - 1s 6us/step - loss: 1.0398 - acc: 0.5382 - val_loss: 1.0410 - val_acc: 0.5368\n",
      "Epoch 50/200\n",
      "212747/212747 [==============================] - 1s 6us/step - loss: 1.0391 - acc: 0.5390 - val_loss: 1.0404 - val_acc: 0.5375\n",
      "Epoch 51/200\n",
      "212747/212747 [==============================] - 1s 6us/step - loss: 1.0384 - acc: 0.5391 - val_loss: 1.0398 - val_acc: 0.5381\n",
      "Epoch 52/200\n",
      "212747/212747 [==============================] - 1s 6us/step - loss: 1.0377 - acc: 0.5394 - val_loss: 1.0392 - val_acc: 0.5375\n"
     ]
    },
    {
     "name": "stdout",
     "output_type": "stream",
     "text": [
      "Epoch 53/200\n",
      "212747/212747 [==============================] - 1s 6us/step - loss: 1.0371 - acc: 0.5393 - val_loss: 1.0386 - val_acc: 0.5384\n",
      "Epoch 54/200\n",
      "212747/212747 [==============================] - 1s 7us/step - loss: 1.0365 - acc: 0.5398 - val_loss: 1.0380 - val_acc: 0.5396\n",
      "Epoch 55/200\n",
      "212747/212747 [==============================] - 1s 6us/step - loss: 1.0359 - acc: 0.5400 - val_loss: 1.0374 - val_acc: 0.5386\n",
      "Epoch 56/200\n",
      "212747/212747 [==============================] - 1s 6us/step - loss: 1.0353 - acc: 0.5405 - val_loss: 1.0369 - val_acc: 0.5400\n",
      "Epoch 57/200\n",
      "212747/212747 [==============================] - 1s 6us/step - loss: 1.0348 - acc: 0.5404 - val_loss: 1.0364 - val_acc: 0.5393\n",
      "Epoch 58/200\n",
      "212747/212747 [==============================] - 1s 6us/step - loss: 1.0342 - acc: 0.5409 - val_loss: 1.0358 - val_acc: 0.5403\n",
      "Epoch 59/200\n",
      "212747/212747 [==============================] - 1s 6us/step - loss: 1.0337 - acc: 0.5413 - val_loss: 1.0354 - val_acc: 0.5400\n",
      "Epoch 60/200\n",
      "212747/212747 [==============================] - 1s 6us/step - loss: 1.0332 - acc: 0.5411 - val_loss: 1.0349 - val_acc: 0.5397\n",
      "Epoch 61/200\n",
      "212747/212747 [==============================] - 1s 6us/step - loss: 1.0328 - acc: 0.5415 - val_loss: 1.0346 - val_acc: 0.5396\n",
      "Epoch 62/200\n",
      "212747/212747 [==============================] - 1s 6us/step - loss: 1.0323 - acc: 0.5417 - val_loss: 1.0341 - val_acc: 0.5394\n",
      "Epoch 63/200\n",
      "212747/212747 [==============================] - 1s 6us/step - loss: 1.0319 - acc: 0.5418 - val_loss: 1.0337 - val_acc: 0.5407\n",
      "Epoch 64/200\n",
      "212747/212747 [==============================] - 1s 6us/step - loss: 1.0314 - acc: 0.5423 - val_loss: 1.0332 - val_acc: 0.5398\n",
      "Epoch 65/200\n",
      "212747/212747 [==============================] - 1s 6us/step - loss: 1.0310 - acc: 0.5427 - val_loss: 1.0328 - val_acc: 0.5409\n",
      "Epoch 66/200\n",
      "212747/212747 [==============================] - 1s 6us/step - loss: 1.0306 - acc: 0.5423 - val_loss: 1.0324 - val_acc: 0.5397\n",
      "Epoch 67/200\n",
      "212747/212747 [==============================] - 1s 6us/step - loss: 1.0302 - acc: 0.5425 - val_loss: 1.0323 - val_acc: 0.5411\n",
      "Epoch 68/200\n",
      "212747/212747 [==============================] - 1s 6us/step - loss: 1.0299 - acc: 0.5424 - val_loss: 1.0321 - val_acc: 0.5407\n",
      "Epoch 69/200\n",
      "212747/212747 [==============================] - 1s 6us/step - loss: 1.0295 - acc: 0.5425 - val_loss: 1.0316 - val_acc: 0.5415\n",
      "Epoch 70/200\n",
      "212747/212747 [==============================] - 1s 6us/step - loss: 1.0292 - acc: 0.5434 - val_loss: 1.0311 - val_acc: 0.5400\n",
      "Epoch 71/200\n",
      "212747/212747 [==============================] - 1s 6us/step - loss: 1.0288 - acc: 0.5432 - val_loss: 1.0309 - val_acc: 0.5414\n",
      "Epoch 72/200\n",
      "212747/212747 [==============================] - 1s 6us/step - loss: 1.0284 - acc: 0.5434 - val_loss: 1.0305 - val_acc: 0.5411\n",
      "Epoch 73/200\n",
      "212747/212747 [==============================] - 1s 6us/step - loss: 1.0281 - acc: 0.5435 - val_loss: 1.0301 - val_acc: 0.5412\n",
      "Epoch 74/200\n",
      "212747/212747 [==============================] - 1s 6us/step - loss: 1.0277 - acc: 0.5436 - val_loss: 1.0296 - val_acc: 0.5414\n",
      "Epoch 75/200\n",
      "212747/212747 [==============================] - 1s 6us/step - loss: 1.0275 - acc: 0.5433 - val_loss: 1.0293 - val_acc: 0.5409\n",
      "Epoch 76/200\n",
      "212747/212747 [==============================] - 1s 6us/step - loss: 1.0271 - acc: 0.5435 - val_loss: 1.0289 - val_acc: 0.5411\n",
      "Epoch 77/200\n",
      "212747/212747 [==============================] - 1s 6us/step - loss: 1.0268 - acc: 0.5437 - val_loss: 1.0287 - val_acc: 0.5421\n",
      "Epoch 78/200\n",
      "212747/212747 [==============================] - 1s 6us/step - loss: 1.0265 - acc: 0.5440 - val_loss: 1.0287 - val_acc: 0.5421\n",
      "Epoch 79/200\n",
      "212747/212747 [==============================] - 1s 6us/step - loss: 1.0262 - acc: 0.5441 - val_loss: 1.0281 - val_acc: 0.5420\n",
      "Epoch 80/200\n",
      "212747/212747 [==============================] - 1s 6us/step - loss: 1.0260 - acc: 0.5439 - val_loss: 1.0279 - val_acc: 0.5423\n",
      "Epoch 81/200\n",
      "212747/212747 [==============================] - 1s 6us/step - loss: 1.0256 - acc: 0.5442 - val_loss: 1.0278 - val_acc: 0.5418\n",
      "Epoch 82/200\n",
      "212747/212747 [==============================] - 1s 7us/step - loss: 1.0253 - acc: 0.5440 - val_loss: 1.0272 - val_acc: 0.5432\n",
      "Epoch 83/200\n",
      "212747/212747 [==============================] - 1s 6us/step - loss: 1.0251 - acc: 0.5444 - val_loss: 1.0269 - val_acc: 0.5426\n",
      "Epoch 84/200\n",
      "212747/212747 [==============================] - 1s 6us/step - loss: 1.0248 - acc: 0.5443 - val_loss: 1.0267 - val_acc: 0.5430\n",
      "Epoch 85/200\n",
      "212747/212747 [==============================] - 1s 6us/step - loss: 1.0244 - acc: 0.5442 - val_loss: 1.0264 - val_acc: 0.5436\n",
      "Epoch 86/200\n",
      "212747/212747 [==============================] - 1s 6us/step - loss: 1.0242 - acc: 0.5444 - val_loss: 1.0261 - val_acc: 0.5433\n",
      "Epoch 87/200\n",
      "212747/212747 [==============================] - 1s 6us/step - loss: 1.0239 - acc: 0.5445 - val_loss: 1.0258 - val_acc: 0.5423\n",
      "Epoch 88/200\n",
      "212747/212747 [==============================] - 1s 6us/step - loss: 1.0236 - acc: 0.5448 - val_loss: 1.0254 - val_acc: 0.5434\n",
      "Epoch 89/200\n",
      "212747/212747 [==============================] - 1s 6us/step - loss: 1.0234 - acc: 0.5448 - val_loss: 1.0252 - val_acc: 0.5434\n",
      "Epoch 90/200\n",
      "212747/212747 [==============================] - 1s 6us/step - loss: 1.0231 - acc: 0.5450 - val_loss: 1.0258 - val_acc: 0.5426\n",
      "Epoch 91/200\n",
      "212747/212747 [==============================] - 1s 6us/step - loss: 1.0228 - acc: 0.5445 - val_loss: 1.0246 - val_acc: 0.5428\n",
      "Epoch 92/200\n",
      "212747/212747 [==============================] - 1s 6us/step - loss: 1.0226 - acc: 0.5447 - val_loss: 1.0245 - val_acc: 0.5443\n",
      "Epoch 93/200\n",
      "212747/212747 [==============================] - 1s 6us/step - loss: 1.0223 - acc: 0.5452 - val_loss: 1.0242 - val_acc: 0.5436\n",
      "Epoch 94/200\n",
      "212747/212747 [==============================] - 1s 6us/step - loss: 1.0220 - acc: 0.5449 - val_loss: 1.0243 - val_acc: 0.5436\n",
      "Epoch 95/200\n",
      "212747/212747 [==============================] - 1s 6us/step - loss: 1.0218 - acc: 0.5450 - val_loss: 1.0236 - val_acc: 0.5432\n",
      "Epoch 96/200\n",
      "212747/212747 [==============================] - 1s 6us/step - loss: 1.0216 - acc: 0.5450 - val_loss: 1.0234 - val_acc: 0.5441\n",
      "Epoch 97/200\n",
      "212747/212747 [==============================] - 1s 6us/step - loss: 1.0213 - acc: 0.5451 - val_loss: 1.0232 - val_acc: 0.5439\n",
      "Epoch 98/200\n",
      "212747/212747 [==============================] - 1s 6us/step - loss: 1.0211 - acc: 0.5456 - val_loss: 1.0230 - val_acc: 0.5440\n",
      "Epoch 99/200\n",
      "212747/212747 [==============================] - 1s 6us/step - loss: 1.0209 - acc: 0.5453 - val_loss: 1.0230 - val_acc: 0.5426\n",
      "Epoch 100/200\n",
      "212747/212747 [==============================] - 1s 6us/step - loss: 1.0206 - acc: 0.5455 - val_loss: 1.0226 - val_acc: 0.5439\n",
      "Epoch 101/200\n",
      "212747/212747 [==============================] - 1s 6us/step - loss: 1.0204 - acc: 0.5454 - val_loss: 1.0223 - val_acc: 0.5445\n",
      "Epoch 102/200\n",
      "212747/212747 [==============================] - 1s 6us/step - loss: 1.0202 - acc: 0.5452 - val_loss: 1.0222 - val_acc: 0.5433\n",
      "Epoch 103/200\n",
      "212747/212747 [==============================] - 1s 6us/step - loss: 1.0200 - acc: 0.5454 - val_loss: 1.0222 - val_acc: 0.5432\n",
      "Epoch 104/200\n",
      "212747/212747 [==============================] - 1s 6us/step - loss: 1.0198 - acc: 0.5455 - val_loss: 1.0218 - val_acc: 0.5436\n",
      "Epoch 105/200\n",
      "212747/212747 [==============================] - 1s 6us/step - loss: 1.0196 - acc: 0.5454 - val_loss: 1.0216 - val_acc: 0.5438\n",
      "Epoch 106/200\n",
      "212747/212747 [==============================] - 1s 6us/step - loss: 1.0194 - acc: 0.5460 - val_loss: 1.0214 - val_acc: 0.5431\n",
      "Epoch 107/200\n",
      "212747/212747 [==============================] - 1s 6us/step - loss: 1.0191 - acc: 0.5459 - val_loss: 1.0211 - val_acc: 0.5445\n",
      "Epoch 108/200\n",
      "212747/212747 [==============================] - 1s 6us/step - loss: 1.0190 - acc: 0.5456 - val_loss: 1.0210 - val_acc: 0.5448\n",
      "Epoch 109/200\n",
      "212747/212747 [==============================] - 1s 6us/step - loss: 1.0188 - acc: 0.5460 - val_loss: 1.0209 - val_acc: 0.5443\n",
      "Epoch 110/200\n",
      "212747/212747 [==============================] - 1s 6us/step - loss: 1.0186 - acc: 0.5456 - val_loss: 1.0207 - val_acc: 0.5449\n",
      "Epoch 111/200\n"
     ]
    },
    {
     "name": "stdout",
     "output_type": "stream",
     "text": [
      "212747/212747 [==============================] - 1s 6us/step - loss: 1.0184 - acc: 0.5457 - val_loss: 1.0205 - val_acc: 0.5449\n",
      "Epoch 112/200\n",
      "212747/212747 [==============================] - 1s 6us/step - loss: 1.0182 - acc: 0.5459 - val_loss: 1.0206 - val_acc: 0.5445\n",
      "Epoch 113/200\n",
      "212747/212747 [==============================] - 1s 6us/step - loss: 1.0180 - acc: 0.5460 - val_loss: 1.0202 - val_acc: 0.5450\n",
      "Epoch 114/200\n",
      "212747/212747 [==============================] - 1s 6us/step - loss: 1.0178 - acc: 0.5459 - val_loss: 1.0200 - val_acc: 0.5459\n",
      "Epoch 115/200\n",
      "212747/212747 [==============================] - 1s 6us/step - loss: 1.0177 - acc: 0.5460 - val_loss: 1.0199 - val_acc: 0.5458\n",
      "Epoch 116/200\n",
      "212747/212747 [==============================] - 1s 6us/step - loss: 1.0175 - acc: 0.5461 - val_loss: 1.0196 - val_acc: 0.5448\n",
      "Epoch 117/200\n",
      "212747/212747 [==============================] - 1s 6us/step - loss: 1.0173 - acc: 0.5464 - val_loss: 1.0194 - val_acc: 0.5454\n",
      "Epoch 118/200\n",
      "212747/212747 [==============================] - 1s 6us/step - loss: 1.0172 - acc: 0.5463 - val_loss: 1.0193 - val_acc: 0.5456\n",
      "Epoch 119/200\n",
      "212747/212747 [==============================] - 1s 6us/step - loss: 1.0170 - acc: 0.5463 - val_loss: 1.0192 - val_acc: 0.5455\n",
      "Epoch 120/200\n",
      "212747/212747 [==============================] - 1s 6us/step - loss: 1.0168 - acc: 0.5466 - val_loss: 1.0190 - val_acc: 0.5448\n",
      "Epoch 121/200\n",
      "212747/212747 [==============================] - 1s 6us/step - loss: 1.0166 - acc: 0.5469 - val_loss: 1.0189 - val_acc: 0.5460\n",
      "Epoch 122/200\n",
      "212747/212747 [==============================] - 1s 6us/step - loss: 1.0164 - acc: 0.5468 - val_loss: 1.0192 - val_acc: 0.5447\n",
      "Epoch 123/200\n",
      "212747/212747 [==============================] - 1s 6us/step - loss: 1.0163 - acc: 0.5465 - val_loss: 1.0186 - val_acc: 0.5460\n",
      "Epoch 124/200\n",
      "212747/212747 [==============================] - 1s 6us/step - loss: 1.0161 - acc: 0.5471 - val_loss: 1.0184 - val_acc: 0.5459\n",
      "Epoch 125/200\n",
      "212747/212747 [==============================] - 1s 6us/step - loss: 1.0160 - acc: 0.5470 - val_loss: 1.0183 - val_acc: 0.5461\n",
      "Epoch 126/200\n",
      "212747/212747 [==============================] - 1s 6us/step - loss: 1.0158 - acc: 0.5471 - val_loss: 1.0183 - val_acc: 0.5452\n",
      "Epoch 127/200\n",
      "212747/212747 [==============================] - 1s 6us/step - loss: 1.0157 - acc: 0.5472 - val_loss: 1.0181 - val_acc: 0.5462\n",
      "Epoch 128/200\n",
      "212747/212747 [==============================] - 1s 6us/step - loss: 1.0155 - acc: 0.5470 - val_loss: 1.0179 - val_acc: 0.5462\n",
      "Epoch 129/200\n",
      "212747/212747 [==============================] - 1s 6us/step - loss: 1.0154 - acc: 0.5470 - val_loss: 1.0177 - val_acc: 0.5465\n",
      "Epoch 130/200\n",
      "212747/212747 [==============================] - 1s 6us/step - loss: 1.0152 - acc: 0.5472 - val_loss: 1.0173 - val_acc: 0.5470\n",
      "Epoch 131/200\n",
      "212747/212747 [==============================] - 1s 6us/step - loss: 1.0150 - acc: 0.5473 - val_loss: 1.0173 - val_acc: 0.5465\n",
      "Epoch 132/200\n",
      "212747/212747 [==============================] - 1s 6us/step - loss: 1.0149 - acc: 0.5475 - val_loss: 1.0176 - val_acc: 0.5469\n",
      "Epoch 133/200\n",
      "212747/212747 [==============================] - 1s 6us/step - loss: 1.0147 - acc: 0.5472 - val_loss: 1.0170 - val_acc: 0.5464\n",
      "Epoch 134/200\n",
      "212747/212747 [==============================] - 1s 6us/step - loss: 1.0146 - acc: 0.5473 - val_loss: 1.0170 - val_acc: 0.5471\n",
      "Epoch 135/200\n",
      "212747/212747 [==============================] - 2s 7us/step - loss: 1.0144 - acc: 0.5475 - val_loss: 1.0167 - val_acc: 0.5468\n",
      "Epoch 136/200\n",
      "212747/212747 [==============================] - 1s 7us/step - loss: 1.0144 - acc: 0.5474 - val_loss: 1.0166 - val_acc: 0.5459\n",
      "Epoch 137/200\n",
      "212747/212747 [==============================] - 1s 6us/step - loss: 1.0142 - acc: 0.5477 - val_loss: 1.0173 - val_acc: 0.5449\n",
      "Epoch 138/200\n",
      "212747/212747 [==============================] - 1s 6us/step - loss: 1.0141 - acc: 0.5475 - val_loss: 1.0164 - val_acc: 0.5468\n",
      "Epoch 139/200\n",
      "212747/212747 [==============================] - 1s 6us/step - loss: 1.0139 - acc: 0.5478 - val_loss: 1.0166 - val_acc: 0.5467\n",
      "Epoch 140/200\n",
      "212747/212747 [==============================] - 1s 6us/step - loss: 1.0138 - acc: 0.5476 - val_loss: 1.0164 - val_acc: 0.5461\n",
      "Epoch 141/200\n",
      "212747/212747 [==============================] - 1s 6us/step - loss: 1.0136 - acc: 0.5477 - val_loss: 1.0161 - val_acc: 0.5466\n",
      "Epoch 142/200\n",
      "212747/212747 [==============================] - 1s 6us/step - loss: 1.0135 - acc: 0.5475 - val_loss: 1.0160 - val_acc: 0.5468\n",
      "Epoch 143/200\n",
      "212747/212747 [==============================] - 1s 6us/step - loss: 1.0134 - acc: 0.5477 - val_loss: 1.0158 - val_acc: 0.5459\n",
      "Epoch 144/200\n",
      "212747/212747 [==============================] - 1s 6us/step - loss: 1.0132 - acc: 0.5478 - val_loss: 1.0158 - val_acc: 0.5459\n",
      "Epoch 145/200\n",
      "212747/212747 [==============================] - 1s 6us/step - loss: 1.0131 - acc: 0.5479 - val_loss: 1.0155 - val_acc: 0.5469\n",
      "Epoch 146/200\n",
      "212747/212747 [==============================] - 1s 6us/step - loss: 1.0130 - acc: 0.5480 - val_loss: 1.0156 - val_acc: 0.5468\n",
      "Epoch 147/200\n",
      "212747/212747 [==============================] - 1s 6us/step - loss: 1.0128 - acc: 0.5479 - val_loss: 1.0153 - val_acc: 0.5457\n",
      "Epoch 148/200\n",
      "212747/212747 [==============================] - 1s 7us/step - loss: 1.0127 - acc: 0.5482 - val_loss: 1.0152 - val_acc: 0.5456\n",
      "Epoch 149/200\n",
      "212747/212747 [==============================] - 1s 6us/step - loss: 1.0126 - acc: 0.5481 - val_loss: 1.0149 - val_acc: 0.5472\n",
      "Epoch 150/200\n",
      "212747/212747 [==============================] - 1s 6us/step - loss: 1.0125 - acc: 0.5480 - val_loss: 1.0147 - val_acc: 0.5473\n",
      "Epoch 151/200\n",
      "212747/212747 [==============================] - 1s 6us/step - loss: 1.0123 - acc: 0.5478 - val_loss: 1.0149 - val_acc: 0.5465\n",
      "Epoch 152/200\n",
      "212747/212747 [==============================] - 1s 6us/step - loss: 1.0122 - acc: 0.5483 - val_loss: 1.0148 - val_acc: 0.5466\n",
      "Epoch 153/200\n",
      "212747/212747 [==============================] - 1s 6us/step - loss: 1.0121 - acc: 0.5482 - val_loss: 1.0143 - val_acc: 0.5477\n",
      "Epoch 154/200\n",
      "212747/212747 [==============================] - 1s 6us/step - loss: 1.0120 - acc: 0.5485 - val_loss: 1.0144 - val_acc: 0.5483\n",
      "Epoch 155/200\n",
      "212747/212747 [==============================] - 1s 6us/step - loss: 1.0118 - acc: 0.5483 - val_loss: 1.0143 - val_acc: 0.5466\n",
      "Epoch 156/200\n",
      "212747/212747 [==============================] - 1s 6us/step - loss: 1.0117 - acc: 0.5483 - val_loss: 1.0140 - val_acc: 0.5472\n",
      "Epoch 157/200\n",
      "212747/212747 [==============================] - 1s 6us/step - loss: 1.0116 - acc: 0.5482 - val_loss: 1.0140 - val_acc: 0.5469\n",
      "Epoch 158/200\n",
      "212747/212747 [==============================] - 1s 6us/step - loss: 1.0114 - acc: 0.5482 - val_loss: 1.0138 - val_acc: 0.5473\n",
      "Epoch 159/200\n",
      "212747/212747 [==============================] - 1s 6us/step - loss: 1.0113 - acc: 0.5482 - val_loss: 1.0137 - val_acc: 0.5476\n",
      "Epoch 160/200\n",
      "212747/212747 [==============================] - 1s 6us/step - loss: 1.0112 - acc: 0.5483 - val_loss: 1.0140 - val_acc: 0.5473\n",
      "Epoch 161/200\n",
      "212747/212747 [==============================] - 1s 6us/step - loss: 1.0111 - acc: 0.5481 - val_loss: 1.0136 - val_acc: 0.5476\n",
      "Epoch 162/200\n",
      "212747/212747 [==============================] - 1s 6us/step - loss: 1.0110 - acc: 0.5484 - val_loss: 1.0134 - val_acc: 0.5477\n",
      "Epoch 163/200\n",
      "212747/212747 [==============================] - 1s 6us/step - loss: 1.0109 - acc: 0.5485 - val_loss: 1.0132 - val_acc: 0.5480\n",
      "Epoch 164/200\n",
      "212747/212747 [==============================] - 1s 6us/step - loss: 1.0108 - acc: 0.5483 - val_loss: 1.0132 - val_acc: 0.5479\n",
      "Epoch 165/200\n",
      "212747/212747 [==============================] - 1s 6us/step - loss: 1.0107 - acc: 0.5484 - val_loss: 1.0131 - val_acc: 0.5482\n",
      "Epoch 166/200\n",
      "212747/212747 [==============================] - 1s 6us/step - loss: 1.0106 - acc: 0.5487 - val_loss: 1.0130 - val_acc: 0.5481\n",
      "Epoch 167/200\n",
      "212747/212747 [==============================] - 1s 6us/step - loss: 1.0104 - acc: 0.5483 - val_loss: 1.0130 - val_acc: 0.5486\n",
      "Epoch 168/200\n",
      "212747/212747 [==============================] - 1s 6us/step - loss: 1.0103 - acc: 0.5485 - val_loss: 1.0126 - val_acc: 0.5486\n",
      "Epoch 169/200\n"
     ]
    },
    {
     "name": "stdout",
     "output_type": "stream",
     "text": [
      "212747/212747 [==============================] - 1s 6us/step - loss: 1.0103 - acc: 0.5482 - val_loss: 1.0125 - val_acc: 0.5484\n",
      "Epoch 170/200\n",
      "212747/212747 [==============================] - 1s 6us/step - loss: 1.0101 - acc: 0.5480 - val_loss: 1.0127 - val_acc: 0.5480\n",
      "Epoch 171/200\n",
      "212747/212747 [==============================] - 1s 6us/step - loss: 1.0101 - acc: 0.5483 - val_loss: 1.0123 - val_acc: 0.5490\n",
      "Epoch 172/200\n",
      "212747/212747 [==============================] - 1s 6us/step - loss: 1.0099 - acc: 0.5482 - val_loss: 1.0122 - val_acc: 0.5491\n",
      "Epoch 173/200\n",
      "212747/212747 [==============================] - 1s 6us/step - loss: 1.0098 - acc: 0.5483 - val_loss: 1.0122 - val_acc: 0.5489\n",
      "Epoch 174/200\n",
      "212747/212747 [==============================] - 1s 6us/step - loss: 1.0097 - acc: 0.5487 - val_loss: 1.0121 - val_acc: 0.5486\n",
      "Epoch 175/200\n",
      "212747/212747 [==============================] - 1s 6us/step - loss: 1.0096 - acc: 0.5483 - val_loss: 1.0120 - val_acc: 0.5497\n",
      "Epoch 176/200\n",
      "212747/212747 [==============================] - 1s 6us/step - loss: 1.0095 - acc: 0.5481 - val_loss: 1.0121 - val_acc: 0.5484\n",
      "Epoch 177/200\n",
      "212747/212747 [==============================] - 1s 6us/step - loss: 1.0094 - acc: 0.5487 - val_loss: 1.0119 - val_acc: 0.5490\n",
      "Epoch 178/200\n",
      "212747/212747 [==============================] - 1s 6us/step - loss: 1.0093 - acc: 0.5486 - val_loss: 1.0126 - val_acc: 0.5483\n",
      "Epoch 179/200\n",
      "212747/212747 [==============================] - 1s 6us/step - loss: 1.0093 - acc: 0.5481 - val_loss: 1.0114 - val_acc: 0.5493\n",
      "Epoch 180/200\n",
      "212747/212747 [==============================] - 1s 6us/step - loss: 1.0091 - acc: 0.5487 - val_loss: 1.0112 - val_acc: 0.5491\n",
      "Epoch 181/200\n",
      "212747/212747 [==============================] - 1s 6us/step - loss: 1.0090 - acc: 0.5488 - val_loss: 1.0113 - val_acc: 0.5496\n",
      "Epoch 182/200\n",
      "212747/212747 [==============================] - 1s 6us/step - loss: 1.0089 - acc: 0.5486 - val_loss: 1.0111 - val_acc: 0.5490\n",
      "Epoch 183/200\n",
      "212747/212747 [==============================] - 1s 6us/step - loss: 1.0088 - acc: 0.5489 - val_loss: 1.0113 - val_acc: 0.5479\n",
      "Epoch 184/200\n",
      "212747/212747 [==============================] - 1s 6us/step - loss: 1.0087 - acc: 0.5488 - val_loss: 1.0110 - val_acc: 0.5485\n",
      "Epoch 185/200\n",
      "212747/212747 [==============================] - 1s 6us/step - loss: 1.0086 - acc: 0.5487 - val_loss: 1.0109 - val_acc: 0.5490\n",
      "Epoch 186/200\n",
      "212747/212747 [==============================] - 1s 6us/step - loss: 1.0085 - acc: 0.5488 - val_loss: 1.0109 - val_acc: 0.5490\n",
      "Epoch 187/200\n",
      "212747/212747 [==============================] - 1s 6us/step - loss: 1.0084 - acc: 0.5486 - val_loss: 1.0114 - val_acc: 0.5484\n",
      "Epoch 188/200\n",
      "212747/212747 [==============================] - 1s 6us/step - loss: 1.0084 - acc: 0.5487 - val_loss: 1.0104 - val_acc: 0.5494\n",
      "Epoch 189/200\n",
      "212747/212747 [==============================] - 1s 6us/step - loss: 1.0083 - acc: 0.5490 - val_loss: 1.0106 - val_acc: 0.5484\n",
      "Epoch 190/200\n",
      "212747/212747 [==============================] - 1s 6us/step - loss: 1.0082 - acc: 0.5487 - val_loss: 1.0104 - val_acc: 0.5487\n",
      "Epoch 191/200\n",
      "212747/212747 [==============================] - 1s 6us/step - loss: 1.0081 - acc: 0.5487 - val_loss: 1.0103 - val_acc: 0.5494\n",
      "Epoch 192/200\n",
      "212747/212747 [==============================] - 1s 6us/step - loss: 1.0079 - acc: 0.5490 - val_loss: 1.0100 - val_acc: 0.5494\n",
      "Epoch 193/200\n",
      "212747/212747 [==============================] - 1s 6us/step - loss: 1.0079 - acc: 0.5489 - val_loss: 1.0097 - val_acc: 0.5493\n",
      "Epoch 194/200\n",
      "212747/212747 [==============================] - 1s 6us/step - loss: 1.0078 - acc: 0.5489 - val_loss: 1.0097 - val_acc: 0.5507\n",
      "Epoch 195/200\n",
      "212747/212747 [==============================] - 1s 6us/step - loss: 1.0077 - acc: 0.5491 - val_loss: 1.0097 - val_acc: 0.5496\n",
      "Epoch 196/200\n",
      "212747/212747 [==============================] - 1s 6us/step - loss: 1.0076 - acc: 0.5493 - val_loss: 1.0096 - val_acc: 0.5496\n",
      "Epoch 197/200\n",
      "212747/212747 [==============================] - 1s 6us/step - loss: 1.0075 - acc: 0.5487 - val_loss: 1.0097 - val_acc: 0.5499\n",
      "Epoch 198/200\n",
      "212747/212747 [==============================] - 1s 6us/step - loss: 1.0074 - acc: 0.5487 - val_loss: 1.0094 - val_acc: 0.5496\n",
      "Epoch 199/200\n",
      "212747/212747 [==============================] - 1s 6us/step - loss: 1.0073 - acc: 0.5492 - val_loss: 1.0097 - val_acc: 0.5494\n",
      "Epoch 200/200\n",
      "212747/212747 [==============================] - 1s 6us/step - loss: 1.0072 - acc: 0.5496 - val_loss: 1.0093 - val_acc: 0.5497\n"
     ]
    },
    {
     "data": {
      "image/png": "[encoded data removed]",
      "text/plain": [
       "<Figure size 432x288 with 1 Axes>"
      ]
     },
     "metadata": {
      "needs_background": "light"
     },
     "output_type": "display_data"
    }
   ],
   "source": [
    "nn = PtEtaPhiNN(events)\n",
    "nn.learn()"
   ]
  },
  {
   "cell_type": "code",
   "execution_count": 6,
   "metadata": {},
   "outputs": [
    {
     "name": "stdout",
     "output_type": "stream",
     "text": [
      "using data given when this model was created\n"
     ]
    },
    {
     "name": "stderr",
     "output_type": "stream",
     "text": [
      "100%|██████████| 60785/60785 [00:00<00:00, 143812.40it/s]\n"
     ]
    },
    {
     "name": "stdout",
     "output_type": "stream",
     "text": [
      "\r\n"
     ]
    },
    {
     "data": {
      "image/png": "[encoded data removed]",
      "text/plain": [
       "<Figure size 432x288 with 1 Axes>"
      ]
     },
     "metadata": {
      "needs_background": "light"
     },
     "output_type": "display_data"
    }
   ],
   "source": [
    "nn.evaluate()"
   ]
  },
  {
   "cell_type": "code",
   "execution_count": 7,
   "metadata": {},
   "outputs": [
    {
     "name": "stderr",
     "output_type": "stream",
     "text": [
      "/home/callum/anaconda3/envs/437env/lib/python3.8/site-packages/uproot_methods/classes/TLorentzVector.py:181: RuntimeWarning: invalid value encountered in true_divide\n",
      "  return self._trymemo(\"eta\", lambda self: self.awkward.numpy.arcsinh(self.z / self.awkward.numpy.sqrt(self.x**2 + self.y**2)))\n"
     ]
    },
    {
     "name": "stdout",
     "output_type": "stream",
     "text": [
      "Don't worry if you see a warning about dividing by zero, fixing that!\n",
      "using different data than when this model was created\n"
     ]
    },
    {
     "name": "stderr",
     "output_type": "stream",
     "text": [
      "100%|██████████| 777150/777150 [00:05<00:00, 145626.55it/s]\n"
     ]
    },
    {
     "name": "stdout",
     "output_type": "stream",
     "text": [
      "\r\n"
     ]
    },
    {
     "data": {
      "image/png": "[encoded data removed]",
      "text/plain": [
       "<Figure size 432x288 with 1 Axes>"
      ]
     },
     "metadata": {
      "needs_background": "light"
     },
     "output_type": "display_data"
    }
   ],
   "source": [
    "# evaluate on the set with >=4 jets, not ==4\n",
    "events2 = s_table[s_table.njets>=4 & nt3]\n",
    "events2 = tools.pad(events2, length=cutoff)\n",
    "events2 = tools.boost_and_rotate(events2)\n",
    "nn.evaluate(events2)"
   ]
  },
  {
   "cell_type": "code",
   "execution_count": null,
   "metadata": {},
   "outputs": [],
   "source": []
  }
 ],
 "metadata": {
  "file_extension": ".py",
  "kernelspec": {
   "display_name": "Python 3.8.2 64-bit",
   "language": "python",
   "name": "python38264bit1bc87f48281d409ab7479945988ac1ab"
  },
  "language_info": {
   "codemirror_mode": {
    "name": "ipython",
    "version": 3
   },
   "file_extension": ".py",
   "mimetype": "text/x-python",
   "name": "python",
   "nbconvert_exporter": "python",
   "pygments_lexer": "ipython3",
   "version": "3.8.2"
  },
  "mimetype": "text/x-python",
  "name": "python",
  "npconvert_exporter": "python",
  "pygments_lexer": "ipython3",
  "version": 3
 },
 "nbformat": 4,
 "nbformat_minor": 2
}
