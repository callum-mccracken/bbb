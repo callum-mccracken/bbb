{
 "cells": [
  {
   "cell_type": "markdown",
   "metadata": {},
   "source": [
    "# Boost and Rotate"
   ]
  },
  {
   "cell_type": "code",
   "execution_count": 1,
   "metadata": {},
   "outputs": [
    {
     "name": "stderr",
     "output_type": "stream",
     "text": [
      "Using TensorFlow backend.\n"
     ]
    }
   ],
   "source": [
    "from ptetaphi_nn import PtEtaPhiNN\n",
    "import tools\n",
    "\n",
    "filename = 'user.jagrundy.20736236._000001.MiniNTuple.root'"
   ]
  },
  {
   "cell_type": "markdown",
   "metadata": {},
   "source": [
    "Load ntuple, get the data we need from the file"
   ]
  },
  {
   "cell_type": "code",
   "execution_count": 2,
   "metadata": {},
   "outputs": [
    {
     "name": "stdout",
     "output_type": "stream",
     "text": [
      "sorting data by tag\n"
     ]
    }
   ],
   "source": [
    "s_table = tools.open_file(filename, sort_by=\"tag\")"
   ]
  },
  {
   "cell_type": "code",
   "execution_count": 3,
   "metadata": {},
   "outputs": [
    {
     "name": "stdout",
     "output_type": "stream",
     "text": [
      "filtering from 777150 total events\n",
      "303925\n"
     ]
    }
   ],
   "source": [
    "print(\"filtering from\", len(s_table), \"total events\")\n",
    "\n",
    "# filter so we get events with 3 or 4 b-jets, and 3 tags\n",
    "b34 = (s_table.nbjets == 3) | (s_table.nbjets == 4) # 3 or 4 b-jets\n",
    "nt3 = s_table.nbtags==3  # 3 b-tags\n",
    "events = s_table[b34 & nt3]\n",
    "\n",
    "# and ensure that the 3 tags are actually correct\n",
    "# this results in very little event loss\n",
    "events = events[events.truth[:,0] == 1]\n",
    "events = events[events.truth[:,1] == 1]\n",
    "events = events[events.truth[:,2] == 1]\n",
    "\n",
    "n_events = len(events)\n",
    "print(n_events)"
   ]
  },
  {
   "cell_type": "code",
   "execution_count": 4,
   "metadata": {},
   "outputs": [
    {
     "name": "stderr",
     "output_type": "stream",
     "text": [
      "/home/callum/anaconda3/envs/437env/lib/python3.8/site-packages/uproot_methods/classes/TLorentzVector.py:181: RuntimeWarning: invalid value encountered in true_divide\n",
      "  return self._trymemo(\"eta\", lambda self: self.awkward.numpy.arcsinh(self.z / self.awkward.numpy.sqrt(self.x**2 + self.y**2)))\n"
     ]
    },
    {
     "name": "stdout",
     "output_type": "stream",
     "text": [
      "Don't worry if you see a warning about dividing by zero, fixing that!\n"
     ]
    }
   ],
   "source": [
    "cutoff = 10\n",
    "# pad events out to 'cutoff' events\n",
    "events = tools.pad(events, cutoff)\n",
    "# boost/rotate\n",
    "events = tools.boost_and_rotate(events)"
   ]
  },
  {
   "cell_type": "code",
   "execution_count": 5,
   "metadata": {
    "tags": [
     "outputPrepend"
    ]
   },
   "outputs": [
    {
     "name": "stdout",
     "output_type": "stream",
     "text": [
      "Model: \"sequential_1\"\n",
      "_________________________________________________________________\n",
      "Layer (type)                 Output Shape              Param #   \n",
      "=================================================================\n",
      "dense_1 (Dense)              (None, 21)                462       \n",
      "_________________________________________________________________\n",
      "dense_2 (Dense)              (None, 21)                462       \n",
      "_________________________________________________________________\n",
      "dense_3 (Dense)              (None, 15)                330       \n",
      "_________________________________________________________________\n",
      "dense_4 (Dense)              (None, 8)                 128       \n",
      "=================================================================\n",
      "Total params: 1,382\n",
      "Trainable params: 1,382\n",
      "Non-trainable params: 0\n",
      "_________________________________________________________________\n",
      "Train on 212747 samples, validate on 30393 samples\n",
      "Epoch 1/200\n",
      "212747/212747 [==============================] - 2s 8us/step - loss: 1.8124 - acc: 0.3855 - val_loss: 1.3623 - val_acc: 0.4359\n",
      "Epoch 2/200\n",
      "212747/212747 [==============================] - 1s 7us/step - loss: 1.2404 - acc: 0.4380 - val_loss: 1.1950 - val_acc: 0.4372\n",
      "Epoch 3/200\n",
      "212747/212747 [==============================] - 1s 7us/step - loss: 1.1807 - acc: 0.4415 - val_loss: 1.1705 - val_acc: 0.4409\n",
      "Epoch 4/200\n",
      "212747/212747 [==============================] - 1s 7us/step - loss: 1.1632 - acc: 0.4493 - val_loss: 1.1572 - val_acc: 0.4492\n",
      "Epoch 5/200\n",
      "212747/212747 [==============================] - 1s 6us/step - loss: 1.1516 - acc: 0.4592 - val_loss: 1.1471 - val_acc: 0.4587\n",
      "Epoch 6/200\n",
      "212747/212747 [==============================] - 1s 6us/step - loss: 1.1424 - acc: 0.4684 - val_loss: 1.1390 - val_acc: 0.4670\n",
      "Epoch 7/200\n",
      "212747/212747 [==============================] - 1s 6us/step - loss: 1.1347 - acc: 0.4761 - val_loss: 1.1317 - val_acc: 0.4767\n",
      "Epoch 8/200\n",
      "212747/212747 [==============================] - 1s 6us/step - loss: 1.1276 - acc: 0.4818 - val_loss: 1.1248 - val_acc: 0.4886\n",
      "Epoch 9/200\n",
      "212747/212747 [==============================] - 1s 6us/step - loss: 1.1206 - acc: 0.4886 - val_loss: 1.1173 - val_acc: 0.4887\n",
      "Epoch 10/200\n",
      "212747/212747 [==============================] - 1s 6us/step - loss: 1.1133 - acc: 0.4937 - val_loss: 1.1098 - val_acc: 0.4975\n",
      "Epoch 11/200\n",
      "212747/212747 [==============================] - 1s 6us/step - loss: 1.1058 - acc: 0.4994 - val_loss: 1.1018 - val_acc: 0.5022\n",
      "Epoch 12/200\n",
      "212747/212747 [==============================] - 1s 6us/step - loss: 1.0978 - acc: 0.5051 - val_loss: 1.0936 - val_acc: 0.5095\n",
      "Epoch 13/200\n",
      "212747/212747 [==============================] - 1s 6us/step - loss: 1.0898 - acc: 0.5111 - val_loss: 1.0859 - val_acc: 0.5138\n",
      "Epoch 14/200\n",
      "212747/212747 [==============================] - 1s 6us/step - loss: 1.0824 - acc: 0.5171 - val_loss: 1.0791 - val_acc: 0.5193\n",
      "Epoch 15/200\n",
      "212747/212747 [==============================] - 1s 6us/step - loss: 1.0762 - acc: 0.5216 - val_loss: 1.0736 - val_acc: 0.5233\n",
      "Epoch 16/200\n",
      "212747/212747 [==============================] - 1s 6us/step - loss: 1.0712 - acc: 0.5254 - val_loss: 1.0692 - val_acc: 0.5250\n",
      "Epoch 17/200\n",
      "212747/212747 [==============================] - 1s 6us/step - loss: 1.0672 - acc: 0.5276 - val_loss: 1.0658 - val_acc: 0.5273\n",
      "Epoch 18/200\n",
      "212747/212747 [==============================] - 1s 6us/step - loss: 1.0639 - acc: 0.5292 - val_loss: 1.0630 - val_acc: 0.5280\n",
      "Epoch 19/200\n",
      "212747/212747 [==============================] - 1s 6us/step - loss: 1.0612 - acc: 0.5306 - val_loss: 1.0607 - val_acc: 0.5283\n",
      "Epoch 20/200\n",
      "212747/212747 [==============================] - 1s 6us/step - loss: 1.0589 - acc: 0.5318 - val_loss: 1.0586 - val_acc: 0.5286\n",
      "Epoch 21/200\n",
      "212747/212747 [==============================] - 1s 6us/step - loss: 1.0568 - acc: 0.5325 - val_loss: 1.0567 - val_acc: 0.5305\n",
      "Epoch 22/200\n",
      "212747/212747 [==============================] - 1s 6us/step - loss: 1.0549 - acc: 0.5331 - val_loss: 1.0551 - val_acc: 0.5306\n",
      "Epoch 23/200\n",
      "212747/212747 [==============================] - 1s 6us/step - loss: 1.0533 - acc: 0.5340 - val_loss: 1.0537 - val_acc: 0.5307\n",
      "Epoch 24/200\n",
      "212747/212747 [==============================] - 1s 7us/step - loss: 1.0517 - acc: 0.5344 - val_loss: 1.0523 - val_acc: 0.5315\n",
      "Epoch 25/200\n",
      "212747/212747 [==============================] - 2s 8us/step - loss: 1.0503 - acc: 0.5348 - val_loss: 1.0510 - val_acc: 0.5325\n",
      "Epoch 26/200\n",
      "212747/212747 [==============================] - 2s 8us/step - loss: 1.0490 - acc: 0.5352 - val_loss: 1.0497 - val_acc: 0.5324\n",
      "Epoch 27/200\n",
      "212747/212747 [==============================] - 1s 6us/step - loss: 1.0478 - acc: 0.5359 - val_loss: 1.0484 - val_acc: 0.5327\n",
      "Epoch 28/200\n",
      "212747/212747 [==============================] - 1s 6us/step - loss: 1.0466 - acc: 0.5362 - val_loss: 1.0472 - val_acc: 0.5326\n",
      "Epoch 29/200\n",
      "212747/212747 [==============================] - 1s 6us/step - loss: 1.0455 - acc: 0.5368 - val_loss: 1.0462 - val_acc: 0.5332\n",
      "Epoch 30/200\n",
      "212747/212747 [==============================] - 1s 6us/step - loss: 1.0444 - acc: 0.5370 - val_loss: 1.0455 - val_acc: 0.5335\n",
      "Epoch 31/200\n",
      "212747/212747 [==============================] - 1s 6us/step - loss: 1.0435 - acc: 0.5373 - val_loss: 1.0445 - val_acc: 0.5342\n",
      "Epoch 32/200\n",
      "212747/212747 [==============================] - 1s 6us/step - loss: 1.0425 - acc: 0.5371 - val_loss: 1.0435 - val_acc: 0.5344\n",
      "Epoch 33/200\n",
      "212747/212747 [==============================] - 1s 6us/step - loss: 1.0416 - acc: 0.5379 - val_loss: 1.0426 - val_acc: 0.5346\n",
      "Epoch 34/200\n",
      "212747/212747 [==============================] - 1s 7us/step - loss: 1.0407 - acc: 0.5382 - val_loss: 1.0418 - val_acc: 0.5351\n",
      "Epoch 35/200\n",
      "212747/212747 [==============================] - 1s 6us/step - loss: 1.0399 - acc: 0.5384 - val_loss: 1.0408 - val_acc: 0.5356\n",
      "Epoch 36/200\n",
      "212747/212747 [==============================] - 1s 6us/step - loss: 1.0390 - acc: 0.5391 - val_loss: 1.0399 - val_acc: 0.5359\n",
      "Epoch 37/200\n",
      "212747/212747 [==============================] - 1s 6us/step - loss: 1.0383 - acc: 0.5389 - val_loss: 1.0391 - val_acc: 0.5359\n",
      "Epoch 38/200\n",
      "212747/212747 [==============================] - 2s 7us/step - loss: 1.0374 - acc: 0.5392 - val_loss: 1.0385 - val_acc: 0.5363\n",
      "Epoch 39/200\n",
      "212747/212747 [==============================] - 1s 6us/step - loss: 1.0367 - acc: 0.5397 - val_loss: 1.0376 - val_acc: 0.5378\n",
      "Epoch 40/200\n",
      "212747/212747 [==============================] - 1s 6us/step - loss: 1.0359 - acc: 0.5400 - val_loss: 1.0369 - val_acc: 0.5366\n",
      "Epoch 41/200\n",
      "212747/212747 [==============================] - 1s 6us/step - loss: 1.0352 - acc: 0.5402 - val_loss: 1.0363 - val_acc: 0.5384\n",
      "Epoch 42/200\n",
      "212747/212747 [==============================] - 1s 6us/step - loss: 1.0346 - acc: 0.5405 - val_loss: 1.0356 - val_acc: 0.5385\n",
      "Epoch 43/200\n",
      "212747/212747 [==============================] - 1s 6us/step - loss: 1.0339 - acc: 0.5410 - val_loss: 1.0348 - val_acc: 0.5383\n",
      "Epoch 44/200\n",
      "212747/212747 [==============================] - 1s 6us/step - loss: 1.0332 - acc: 0.5411 - val_loss: 1.0344 - val_acc: 0.5381\n",
      "Epoch 45/200\n",
      "212747/212747 [==============================] - 1s 6us/step - loss: 1.0326 - acc: 0.5411 - val_loss: 1.0337 - val_acc: 0.5390\n",
      "Epoch 46/200\n",
      "212747/212747 [==============================] - 1s 6us/step - loss: 1.0320 - acc: 0.5418 - val_loss: 1.0333 - val_acc: 0.5388\n",
      "Epoch 47/200\n",
      "212747/212747 [==============================] - 1s 6us/step - loss: 1.0315 - acc: 0.5414 - val_loss: 1.0327 - val_acc: 0.5393\n",
      "Epoch 48/200\n",
      "212747/212747 [==============================] - 1s 6us/step - loss: 1.0309 - acc: 0.5419 - val_loss: 1.0322 - val_acc: 0.5399\n",
      "Epoch 49/200\n",
      "212747/212747 [==============================] - 1s 6us/step - loss: 1.0304 - acc: 0.5420 - val_loss: 1.0316 - val_acc: 0.5394\n",
      "Epoch 50/200\n",
      "212747/212747 [==============================] - 1s 6us/step - loss: 1.0298 - acc: 0.5422 - val_loss: 1.0311 - val_acc: 0.5398\n",
      "Epoch 51/200\n",
      "212747/212747 [==============================] - 1s 6us/step - loss: 1.0293 - acc: 0.5425 - val_loss: 1.0307 - val_acc: 0.5400\n",
      "Epoch 52/200\n",
      "212747/212747 [==============================] - 1s 6us/step - loss: 1.0288 - acc: 0.5428 - val_loss: 1.0303 - val_acc: 0.5395\n"
     ]
    },
    {
     "name": "stdout",
     "output_type": "stream",
     "text": [
      "Epoch 53/200\n",
      "212747/212747 [==============================] - 1s 6us/step - loss: 1.0282 - acc: 0.5424 - val_loss: 1.0298 - val_acc: 0.5411\n",
      "Epoch 54/200\n",
      "212747/212747 [==============================] - 1s 6us/step - loss: 1.0276 - acc: 0.5427 - val_loss: 1.0293 - val_acc: 0.5399\n",
      "Epoch 55/200\n",
      "212747/212747 [==============================] - 1s 6us/step - loss: 1.0271 - acc: 0.5428 - val_loss: 1.0288 - val_acc: 0.5412\n",
      "Epoch 56/200\n",
      "212747/212747 [==============================] - 1s 6us/step - loss: 1.0265 - acc: 0.5430 - val_loss: 1.0284 - val_acc: 0.5409\n",
      "Epoch 57/200\n",
      "212747/212747 [==============================] - 1s 6us/step - loss: 1.0260 - acc: 0.5436 - val_loss: 1.0278 - val_acc: 0.5413\n",
      "Epoch 58/200\n",
      "212747/212747 [==============================] - 1s 6us/step - loss: 1.0255 - acc: 0.5435 - val_loss: 1.0277 - val_acc: 0.5413\n",
      "Epoch 59/200\n",
      "212747/212747 [==============================] - 1s 6us/step - loss: 1.0250 - acc: 0.5434 - val_loss: 1.0273 - val_acc: 0.5411\n",
      "Epoch 60/200\n",
      "212747/212747 [==============================] - 1s 6us/step - loss: 1.0245 - acc: 0.5440 - val_loss: 1.0265 - val_acc: 0.5418\n",
      "Epoch 61/200\n",
      "212747/212747 [==============================] - 1s 6us/step - loss: 1.0241 - acc: 0.5437 - val_loss: 1.0261 - val_acc: 0.5419\n",
      "Epoch 62/200\n",
      "212747/212747 [==============================] - 1s 6us/step - loss: 1.0237 - acc: 0.5440 - val_loss: 1.0260 - val_acc: 0.5425\n",
      "Epoch 63/200\n",
      "212747/212747 [==============================] - 1s 6us/step - loss: 1.0233 - acc: 0.5443 - val_loss: 1.0255 - val_acc: 0.5420\n",
      "Epoch 64/200\n",
      "212747/212747 [==============================] - 1s 6us/step - loss: 1.0228 - acc: 0.5445 - val_loss: 1.0250 - val_acc: 0.5437\n",
      "Epoch 65/200\n",
      "212747/212747 [==============================] - 1s 6us/step - loss: 1.0225 - acc: 0.5444 - val_loss: 1.0248 - val_acc: 0.5433\n",
      "Epoch 66/200\n",
      "212747/212747 [==============================] - 1s 6us/step - loss: 1.0221 - acc: 0.5446 - val_loss: 1.0245 - val_acc: 0.5427\n",
      "Epoch 67/200\n",
      "212747/212747 [==============================] - 1s 6us/step - loss: 1.0217 - acc: 0.5448 - val_loss: 1.0239 - val_acc: 0.5434\n",
      "Epoch 68/200\n",
      "212747/212747 [==============================] - 1s 6us/step - loss: 1.0213 - acc: 0.5452 - val_loss: 1.0235 - val_acc: 0.5433\n",
      "Epoch 69/200\n",
      "212747/212747 [==============================] - 1s 6us/step - loss: 1.0209 - acc: 0.5450 - val_loss: 1.0231 - val_acc: 0.5439\n",
      "Epoch 70/200\n",
      "212747/212747 [==============================] - 1s 6us/step - loss: 1.0206 - acc: 0.5454 - val_loss: 1.0230 - val_acc: 0.5444\n",
      "Epoch 71/200\n",
      "212747/212747 [==============================] - 1s 6us/step - loss: 1.0202 - acc: 0.5455 - val_loss: 1.0226 - val_acc: 0.5445\n",
      "Epoch 72/200\n",
      "212747/212747 [==============================] - 1s 6us/step - loss: 1.0199 - acc: 0.5455 - val_loss: 1.0224 - val_acc: 0.5440\n",
      "Epoch 73/200\n",
      "212747/212747 [==============================] - 1s 6us/step - loss: 1.0195 - acc: 0.5457 - val_loss: 1.0219 - val_acc: 0.5442\n",
      "Epoch 74/200\n",
      "212747/212747 [==============================] - 1s 6us/step - loss: 1.0192 - acc: 0.5458 - val_loss: 1.0218 - val_acc: 0.5446\n",
      "Epoch 75/200\n",
      "212747/212747 [==============================] - 1s 6us/step - loss: 1.0188 - acc: 0.5464 - val_loss: 1.0213 - val_acc: 0.5444\n",
      "Epoch 76/200\n",
      "212747/212747 [==============================] - 1s 6us/step - loss: 1.0185 - acc: 0.5462 - val_loss: 1.0211 - val_acc: 0.5447\n",
      "Epoch 77/200\n",
      "212747/212747 [==============================] - 1s 6us/step - loss: 1.0182 - acc: 0.5462 - val_loss: 1.0206 - val_acc: 0.5446\n",
      "Epoch 78/200\n",
      "212747/212747 [==============================] - 1s 6us/step - loss: 1.0179 - acc: 0.5464 - val_loss: 1.0206 - val_acc: 0.5441\n",
      "Epoch 79/200\n",
      "212747/212747 [==============================] - 1s 6us/step - loss: 1.0176 - acc: 0.5463 - val_loss: 1.0201 - val_acc: 0.5443\n",
      "Epoch 80/200\n",
      "212747/212747 [==============================] - 1s 6us/step - loss: 1.0173 - acc: 0.5463 - val_loss: 1.0198 - val_acc: 0.5440\n",
      "Epoch 81/200\n",
      "212747/212747 [==============================] - 1s 6us/step - loss: 1.0170 - acc: 0.5463 - val_loss: 1.0197 - val_acc: 0.5448\n",
      "Epoch 82/200\n",
      "212747/212747 [==============================] - 1s 6us/step - loss: 1.0168 - acc: 0.5465 - val_loss: 1.0192 - val_acc: 0.5451\n",
      "Epoch 83/200\n",
      "212747/212747 [==============================] - 1s 6us/step - loss: 1.0165 - acc: 0.5465 - val_loss: 1.0190 - val_acc: 0.5449\n",
      "Epoch 84/200\n",
      "212747/212747 [==============================] - 1s 6us/step - loss: 1.0163 - acc: 0.5466 - val_loss: 1.0188 - val_acc: 0.5446\n",
      "Epoch 85/200\n",
      "212747/212747 [==============================] - 1s 6us/step - loss: 1.0160 - acc: 0.5468 - val_loss: 1.0185 - val_acc: 0.5448\n",
      "Epoch 86/200\n",
      "212747/212747 [==============================] - 1s 6us/step - loss: 1.0157 - acc: 0.5469 - val_loss: 1.0182 - val_acc: 0.5447\n",
      "Epoch 87/200\n",
      "212747/212747 [==============================] - 1s 6us/step - loss: 1.0155 - acc: 0.5468 - val_loss: 1.0180 - val_acc: 0.5450\n",
      "Epoch 88/200\n",
      "212747/212747 [==============================] - 1s 6us/step - loss: 1.0152 - acc: 0.5466 - val_loss: 1.0177 - val_acc: 0.5451\n",
      "Epoch 89/200\n",
      "212747/212747 [==============================] - 1s 6us/step - loss: 1.0150 - acc: 0.5466 - val_loss: 1.0175 - val_acc: 0.5447\n",
      "Epoch 90/200\n",
      "212747/212747 [==============================] - 1s 6us/step - loss: 1.0148 - acc: 0.5471 - val_loss: 1.0174 - val_acc: 0.5454\n",
      "Epoch 91/200\n",
      "212747/212747 [==============================] - 1s 6us/step - loss: 1.0146 - acc: 0.5471 - val_loss: 1.0171 - val_acc: 0.5454\n",
      "Epoch 92/200\n",
      "212747/212747 [==============================] - 1s 6us/step - loss: 1.0144 - acc: 0.5472 - val_loss: 1.0169 - val_acc: 0.5451\n",
      "Epoch 93/200\n",
      "212747/212747 [==============================] - 1s 6us/step - loss: 1.0142 - acc: 0.5472 - val_loss: 1.0170 - val_acc: 0.5445\n",
      "Epoch 94/200\n",
      "212747/212747 [==============================] - 1s 6us/step - loss: 1.0139 - acc: 0.5472 - val_loss: 1.0168 - val_acc: 0.5448\n",
      "Epoch 95/200\n",
      "212747/212747 [==============================] - 1s 6us/step - loss: 1.0137 - acc: 0.5472 - val_loss: 1.0165 - val_acc: 0.5447\n",
      "Epoch 96/200\n",
      "212747/212747 [==============================] - 1s 6us/step - loss: 1.0136 - acc: 0.5473 - val_loss: 1.0164 - val_acc: 0.5442\n",
      "Epoch 97/200\n",
      "212747/212747 [==============================] - 1s 6us/step - loss: 1.0133 - acc: 0.5474 - val_loss: 1.0162 - val_acc: 0.5443\n",
      "Epoch 98/200\n",
      "212747/212747 [==============================] - 1s 6us/step - loss: 1.0132 - acc: 0.5474 - val_loss: 1.0159 - val_acc: 0.5438\n",
      "Epoch 99/200\n",
      "212747/212747 [==============================] - 1s 6us/step - loss: 1.0130 - acc: 0.5472 - val_loss: 1.0157 - val_acc: 0.5451\n",
      "Epoch 100/200\n",
      "212747/212747 [==============================] - 1s 6us/step - loss: 1.0128 - acc: 0.5477 - val_loss: 1.0157 - val_acc: 0.5447\n",
      "Epoch 101/200\n",
      "212747/212747 [==============================] - 1s 6us/step - loss: 1.0126 - acc: 0.5472 - val_loss: 1.0153 - val_acc: 0.5445\n",
      "Epoch 102/200\n",
      "212747/212747 [==============================] - 1s 6us/step - loss: 1.0125 - acc: 0.5475 - val_loss: 1.0151 - val_acc: 0.5448\n",
      "Epoch 103/200\n",
      "212747/212747 [==============================] - 1s 6us/step - loss: 1.0123 - acc: 0.5475 - val_loss: 1.0149 - val_acc: 0.5453\n",
      "Epoch 104/200\n",
      "212747/212747 [==============================] - 1s 6us/step - loss: 1.0121 - acc: 0.5471 - val_loss: 1.0148 - val_acc: 0.5447\n",
      "Epoch 105/200\n",
      "212747/212747 [==============================] - 1s 6us/step - loss: 1.0119 - acc: 0.5476 - val_loss: 1.0149 - val_acc: 0.5448\n",
      "Epoch 106/200\n",
      "212747/212747 [==============================] - 1s 6us/step - loss: 1.0118 - acc: 0.5475 - val_loss: 1.0144 - val_acc: 0.5455\n",
      "Epoch 107/200\n",
      "212747/212747 [==============================] - 1s 6us/step - loss: 1.0117 - acc: 0.5477 - val_loss: 1.0143 - val_acc: 0.5455\n",
      "Epoch 108/200\n",
      "212747/212747 [==============================] - 1s 6us/step - loss: 1.0115 - acc: 0.5476 - val_loss: 1.0144 - val_acc: 0.5445\n",
      "Epoch 109/200\n",
      "212747/212747 [==============================] - 1s 6us/step - loss: 1.0114 - acc: 0.5474 - val_loss: 1.0141 - val_acc: 0.5454\n",
      "Epoch 110/200\n",
      "212747/212747 [==============================] - 1s 6us/step - loss: 1.0112 - acc: 0.5477 - val_loss: 1.0142 - val_acc: 0.5438\n",
      "Epoch 111/200\n"
     ]
    },
    {
     "name": "stdout",
     "output_type": "stream",
     "text": [
      "212747/212747 [==============================] - 1s 6us/step - loss: 1.0111 - acc: 0.5477 - val_loss: 1.0140 - val_acc: 0.5453\n",
      "Epoch 112/200\n",
      "212747/212747 [==============================] - 1s 6us/step - loss: 1.0109 - acc: 0.5475 - val_loss: 1.0138 - val_acc: 0.5445\n",
      "Epoch 113/200\n",
      "212747/212747 [==============================] - 1s 6us/step - loss: 1.0108 - acc: 0.5475 - val_loss: 1.0136 - val_acc: 0.5444\n",
      "Epoch 114/200\n",
      "212747/212747 [==============================] - 1s 6us/step - loss: 1.0107 - acc: 0.5476 - val_loss: 1.0134 - val_acc: 0.5446\n",
      "Epoch 115/200\n",
      "212747/212747 [==============================] - 1s 6us/step - loss: 1.0105 - acc: 0.5480 - val_loss: 1.0138 - val_acc: 0.5447\n",
      "Epoch 116/200\n",
      "212747/212747 [==============================] - 1s 6us/step - loss: 1.0104 - acc: 0.5478 - val_loss: 1.0132 - val_acc: 0.5447\n",
      "Epoch 117/200\n",
      "212747/212747 [==============================] - 1s 6us/step - loss: 1.0103 - acc: 0.5479 - val_loss: 1.0132 - val_acc: 0.5449\n",
      "Epoch 118/200\n",
      "212747/212747 [==============================] - 1s 6us/step - loss: 1.0101 - acc: 0.5480 - val_loss: 1.0131 - val_acc: 0.5448\n",
      "Epoch 119/200\n",
      "212747/212747 [==============================] - 1s 6us/step - loss: 1.0100 - acc: 0.5481 - val_loss: 1.0128 - val_acc: 0.5448\n",
      "Epoch 120/200\n",
      "212747/212747 [==============================] - 1s 6us/step - loss: 1.0099 - acc: 0.5482 - val_loss: 1.0127 - val_acc: 0.5452\n",
      "Epoch 121/200\n",
      "212747/212747 [==============================] - 1s 6us/step - loss: 1.0097 - acc: 0.5483 - val_loss: 1.0127 - val_acc: 0.5457\n",
      "Epoch 122/200\n",
      "212747/212747 [==============================] - 1s 6us/step - loss: 1.0096 - acc: 0.5480 - val_loss: 1.0126 - val_acc: 0.5449\n",
      "Epoch 123/200\n",
      "212747/212747 [==============================] - 1s 6us/step - loss: 1.0095 - acc: 0.5482 - val_loss: 1.0126 - val_acc: 0.5456\n",
      "Epoch 124/200\n",
      "212747/212747 [==============================] - 1s 6us/step - loss: 1.0094 - acc: 0.5479 - val_loss: 1.0123 - val_acc: 0.5454\n",
      "Epoch 125/200\n",
      "212747/212747 [==============================] - 1s 6us/step - loss: 1.0093 - acc: 0.5483 - val_loss: 1.0125 - val_acc: 0.5451\n",
      "Epoch 126/200\n",
      "212747/212747 [==============================] - 1s 6us/step - loss: 1.0092 - acc: 0.5482 - val_loss: 1.0121 - val_acc: 0.5466\n",
      "Epoch 127/200\n",
      "212747/212747 [==============================] - 1s 6us/step - loss: 1.0090 - acc: 0.5482 - val_loss: 1.0122 - val_acc: 0.5443\n",
      "Epoch 128/200\n",
      "212747/212747 [==============================] - 1s 6us/step - loss: 1.0089 - acc: 0.5484 - val_loss: 1.0123 - val_acc: 0.5458\n",
      "Epoch 129/200\n",
      "212747/212747 [==============================] - 1s 6us/step - loss: 1.0088 - acc: 0.5480 - val_loss: 1.0120 - val_acc: 0.5448\n",
      "Epoch 130/200\n",
      "212747/212747 [==============================] - 1s 6us/step - loss: 1.0088 - acc: 0.5484 - val_loss: 1.0121 - val_acc: 0.5447\n",
      "Epoch 131/200\n",
      "212747/212747 [==============================] - 1s 6us/step - loss: 1.0086 - acc: 0.5483 - val_loss: 1.0115 - val_acc: 0.5460\n",
      "Epoch 132/200\n",
      "212747/212747 [==============================] - 1s 6us/step - loss: 1.0085 - acc: 0.5484 - val_loss: 1.0114 - val_acc: 0.5459\n",
      "Epoch 133/200\n",
      "212747/212747 [==============================] - 1s 6us/step - loss: 1.0084 - acc: 0.5485 - val_loss: 1.0113 - val_acc: 0.5458\n",
      "Epoch 134/200\n",
      "212747/212747 [==============================] - 1s 6us/step - loss: 1.0083 - acc: 0.5481 - val_loss: 1.0114 - val_acc: 0.5446\n",
      "Epoch 135/200\n",
      "212747/212747 [==============================] - 1s 6us/step - loss: 1.0082 - acc: 0.5485 - val_loss: 1.0112 - val_acc: 0.5468\n",
      "Epoch 136/200\n",
      "212747/212747 [==============================] - 1s 6us/step - loss: 1.0081 - acc: 0.5485 - val_loss: 1.0111 - val_acc: 0.5452\n",
      "Epoch 137/200\n",
      "212747/212747 [==============================] - 1s 6us/step - loss: 1.0079 - acc: 0.5483 - val_loss: 1.0109 - val_acc: 0.5449\n",
      "Epoch 138/200\n",
      "212747/212747 [==============================] - 1s 6us/step - loss: 1.0079 - acc: 0.5486 - val_loss: 1.0110 - val_acc: 0.5453\n",
      "Epoch 139/200\n",
      "212747/212747 [==============================] - 1s 6us/step - loss: 1.0078 - acc: 0.5483 - val_loss: 1.0109 - val_acc: 0.5462\n",
      "Epoch 140/200\n",
      "212747/212747 [==============================] - 1s 6us/step - loss: 1.0077 - acc: 0.5485 - val_loss: 1.0109 - val_acc: 0.5447\n",
      "Epoch 141/200\n",
      "212747/212747 [==============================] - 1s 6us/step - loss: 1.0076 - acc: 0.5486 - val_loss: 1.0107 - val_acc: 0.5454\n",
      "Epoch 142/200\n",
      "212747/212747 [==============================] - 1s 6us/step - loss: 1.0075 - acc: 0.5486 - val_loss: 1.0106 - val_acc: 0.5459\n",
      "Epoch 143/200\n",
      "212747/212747 [==============================] - 1s 6us/step - loss: 1.0074 - acc: 0.5484 - val_loss: 1.0106 - val_acc: 0.5450\n",
      "Epoch 144/200\n",
      "212747/212747 [==============================] - 1s 6us/step - loss: 1.0073 - acc: 0.5487 - val_loss: 1.0104 - val_acc: 0.5454\n",
      "Epoch 145/200\n",
      "212747/212747 [==============================] - 1s 6us/step - loss: 1.0072 - acc: 0.5486 - val_loss: 1.0102 - val_acc: 0.5461\n",
      "Epoch 146/200\n",
      "212747/212747 [==============================] - 1s 6us/step - loss: 1.0071 - acc: 0.5485 - val_loss: 1.0102 - val_acc: 0.5463\n",
      "Epoch 147/200\n",
      "212747/212747 [==============================] - 1s 6us/step - loss: 1.0070 - acc: 0.5487 - val_loss: 1.0100 - val_acc: 0.5460\n",
      "Epoch 148/200\n",
      "212747/212747 [==============================] - 1s 6us/step - loss: 1.0069 - acc: 0.5487 - val_loss: 1.0105 - val_acc: 0.5461\n",
      "Epoch 149/200\n",
      "212747/212747 [==============================] - 1s 6us/step - loss: 1.0068 - acc: 0.5487 - val_loss: 1.0099 - val_acc: 0.5456\n",
      "Epoch 150/200\n",
      "212747/212747 [==============================] - 1s 6us/step - loss: 1.0068 - acc: 0.5489 - val_loss: 1.0097 - val_acc: 0.5464\n",
      "Epoch 151/200\n",
      "212747/212747 [==============================] - 1s 6us/step - loss: 1.0066 - acc: 0.5489 - val_loss: 1.0102 - val_acc: 0.5450\n",
      "Epoch 152/200\n",
      "212747/212747 [==============================] - 1s 6us/step - loss: 1.0066 - acc: 0.5486 - val_loss: 1.0097 - val_acc: 0.5461\n",
      "Epoch 153/200\n",
      "212747/212747 [==============================] - 1s 6us/step - loss: 1.0065 - acc: 0.5487 - val_loss: 1.0096 - val_acc: 0.5457\n",
      "Epoch 154/200\n",
      "212747/212747 [==============================] - 1s 6us/step - loss: 1.0064 - acc: 0.5488 - val_loss: 1.0095 - val_acc: 0.5457\n",
      "Epoch 155/200\n",
      "212747/212747 [==============================] - 1s 6us/step - loss: 1.0063 - acc: 0.5490 - val_loss: 1.0096 - val_acc: 0.5461\n",
      "Epoch 156/200\n",
      "212747/212747 [==============================] - 1s 6us/step - loss: 1.0062 - acc: 0.5489 - val_loss: 1.0094 - val_acc: 0.5457\n",
      "Epoch 157/200\n",
      "212747/212747 [==============================] - 1s 6us/step - loss: 1.0062 - acc: 0.5488 - val_loss: 1.0092 - val_acc: 0.5463\n",
      "Epoch 158/200\n",
      "212747/212747 [==============================] - 1s 6us/step - loss: 1.0061 - acc: 0.5489 - val_loss: 1.0091 - val_acc: 0.5465\n",
      "Epoch 159/200\n",
      "212747/212747 [==============================] - 1s 6us/step - loss: 1.0060 - acc: 0.5487 - val_loss: 1.0092 - val_acc: 0.5457\n",
      "Epoch 160/200\n",
      "212747/212747 [==============================] - 1s 6us/step - loss: 1.0059 - acc: 0.5489 - val_loss: 1.0089 - val_acc: 0.5465\n",
      "Epoch 161/200\n",
      "212747/212747 [==============================] - 1s 6us/step - loss: 1.0058 - acc: 0.5491 - val_loss: 1.0092 - val_acc: 0.5452\n",
      "Epoch 162/200\n",
      "212747/212747 [==============================] - 1s 6us/step - loss: 1.0057 - acc: 0.5486 - val_loss: 1.0091 - val_acc: 0.5459\n",
      "Epoch 163/200\n",
      "212747/212747 [==============================] - 1s 6us/step - loss: 1.0057 - acc: 0.5489 - val_loss: 1.0091 - val_acc: 0.5472\n",
      "Epoch 164/200\n",
      "212747/212747 [==============================] - 1s 6us/step - loss: 1.0055 - acc: 0.5492 - val_loss: 1.0089 - val_acc: 0.5454\n",
      "Epoch 165/200\n",
      "212747/212747 [==============================] - 1s 6us/step - loss: 1.0055 - acc: 0.5490 - val_loss: 1.0089 - val_acc: 0.5460\n",
      "Epoch 166/200\n",
      "212747/212747 [==============================] - 1s 6us/step - loss: 1.0054 - acc: 0.5490 - val_loss: 1.0089 - val_acc: 0.5468\n",
      "Epoch 167/200\n",
      "212747/212747 [==============================] - 1s 6us/step - loss: 1.0053 - acc: 0.5490 - val_loss: 1.0085 - val_acc: 0.5463\n",
      "Epoch 168/200\n",
      "212747/212747 [==============================] - 1s 6us/step - loss: 1.0052 - acc: 0.5493 - val_loss: 1.0084 - val_acc: 0.5467\n",
      "Epoch 169/200\n"
     ]
    },
    {
     "name": "stdout",
     "output_type": "stream",
     "text": [
      "212747/212747 [==============================] - 1s 6us/step - loss: 1.0051 - acc: 0.5492 - val_loss: 1.0082 - val_acc: 0.5467\n",
      "Epoch 170/200\n",
      "212747/212747 [==============================] - 2s 8us/step - loss: 1.0051 - acc: 0.5490 - val_loss: 1.0084 - val_acc: 0.5452\n",
      "Epoch 171/200\n",
      "212747/212747 [==============================] - 2s 7us/step - loss: 1.0050 - acc: 0.5492 - val_loss: 1.0082 - val_acc: 0.5458\n",
      "Epoch 172/200\n",
      "212747/212747 [==============================] - 1s 6us/step - loss: 1.0049 - acc: 0.5487 - val_loss: 1.0082 - val_acc: 0.5463\n",
      "Epoch 173/200\n",
      "212747/212747 [==============================] - 1s 6us/step - loss: 1.0048 - acc: 0.5490 - val_loss: 1.0080 - val_acc: 0.5466\n",
      "Epoch 174/200\n",
      "212747/212747 [==============================] - 1s 6us/step - loss: 1.0048 - acc: 0.5490 - val_loss: 1.0080 - val_acc: 0.5472\n",
      "Epoch 175/200\n",
      "212747/212747 [==============================] - 1s 6us/step - loss: 1.0047 - acc: 0.5491 - val_loss: 1.0081 - val_acc: 0.5474\n",
      "Epoch 176/200\n",
      "212747/212747 [==============================] - 1s 7us/step - loss: 1.0046 - acc: 0.5494 - val_loss: 1.0078 - val_acc: 0.5460\n",
      "Epoch 177/200\n",
      "212747/212747 [==============================] - 1s 6us/step - loss: 1.0046 - acc: 0.5493 - val_loss: 1.0077 - val_acc: 0.5469\n",
      "Epoch 178/200\n",
      "212747/212747 [==============================] - 1s 6us/step - loss: 1.0044 - acc: 0.5493 - val_loss: 1.0075 - val_acc: 0.5467\n",
      "Epoch 179/200\n",
      "212747/212747 [==============================] - 1s 6us/step - loss: 1.0044 - acc: 0.5489 - val_loss: 1.0076 - val_acc: 0.5472\n",
      "Epoch 180/200\n",
      "212747/212747 [==============================] - 1s 6us/step - loss: 1.0044 - acc: 0.5491 - val_loss: 1.0076 - val_acc: 0.5479\n",
      "Epoch 181/200\n",
      "212747/212747 [==============================] - 1s 6us/step - loss: 1.0043 - acc: 0.5489 - val_loss: 1.0076 - val_acc: 0.5468\n",
      "Epoch 182/200\n",
      "212747/212747 [==============================] - 1s 6us/step - loss: 1.0042 - acc: 0.5493 - val_loss: 1.0075 - val_acc: 0.5464\n",
      "Epoch 183/200\n",
      "212747/212747 [==============================] - 1s 6us/step - loss: 1.0041 - acc: 0.5495 - val_loss: 1.0073 - val_acc: 0.5475\n",
      "Epoch 184/200\n",
      "212747/212747 [==============================] - 1s 6us/step - loss: 1.0041 - acc: 0.5493 - val_loss: 1.0073 - val_acc: 0.5465\n",
      "Epoch 185/200\n",
      "212747/212747 [==============================] - 1s 6us/step - loss: 1.0040 - acc: 0.5496 - val_loss: 1.0076 - val_acc: 0.5473\n",
      "Epoch 186/200\n",
      "212747/212747 [==============================] - 1s 7us/step - loss: 1.0039 - acc: 0.5494 - val_loss: 1.0072 - val_acc: 0.5471\n",
      "Epoch 187/200\n",
      "212747/212747 [==============================] - 1s 7us/step - loss: 1.0039 - acc: 0.5495 - val_loss: 1.0071 - val_acc: 0.5475\n",
      "Epoch 188/200\n",
      "212747/212747 [==============================] - 1s 7us/step - loss: 1.0037 - acc: 0.5493 - val_loss: 1.0071 - val_acc: 0.5469\n",
      "Epoch 189/200\n",
      "212747/212747 [==============================] - 1s 7us/step - loss: 1.0037 - acc: 0.5497 - val_loss: 1.0072 - val_acc: 0.5477\n",
      "Epoch 190/200\n",
      "212747/212747 [==============================] - 1s 7us/step - loss: 1.0036 - acc: 0.5493 - val_loss: 1.0068 - val_acc: 0.5472\n",
      "Epoch 191/200\n",
      "212747/212747 [==============================] - 2s 7us/step - loss: 1.0035 - acc: 0.5495 - val_loss: 1.0069 - val_acc: 0.5473\n",
      "Epoch 192/200\n",
      "212747/212747 [==============================] - 2s 7us/step - loss: 1.0035 - acc: 0.5496 - val_loss: 1.0070 - val_acc: 0.5474\n",
      "Epoch 193/200\n",
      "212747/212747 [==============================] - 1s 7us/step - loss: 1.0034 - acc: 0.5499 - val_loss: 1.0068 - val_acc: 0.5472\n",
      "Epoch 194/200\n",
      "212747/212747 [==============================] - 2s 7us/step - loss: 1.0034 - acc: 0.5496 - val_loss: 1.0068 - val_acc: 0.5468\n",
      "Epoch 195/200\n",
      "212747/212747 [==============================] - 2s 7us/step - loss: 1.0033 - acc: 0.5499 - val_loss: 1.0066 - val_acc: 0.5472\n",
      "Epoch 196/200\n",
      "212747/212747 [==============================] - 1s 7us/step - loss: 1.0032 - acc: 0.5499 - val_loss: 1.0066 - val_acc: 0.5483\n",
      "Epoch 197/200\n",
      "212747/212747 [==============================] - 2s 7us/step - loss: 1.0032 - acc: 0.5500 - val_loss: 1.0067 - val_acc: 0.5474\n",
      "Epoch 198/200\n",
      "212747/212747 [==============================] - 1s 6us/step - loss: 1.0031 - acc: 0.5498 - val_loss: 1.0065 - val_acc: 0.5471\n",
      "Epoch 199/200\n",
      "212747/212747 [==============================] - 1s 6us/step - loss: 1.0030 - acc: 0.5499 - val_loss: 1.0064 - val_acc: 0.5476\n",
      "Epoch 200/200\n",
      "212747/212747 [==============================] - 1s 7us/step - loss: 1.0030 - acc: 0.5495 - val_loss: 1.0064 - val_acc: 0.5473\n"
     ]
    },
    {
     "data": {
      "image/png": "[encoded data removed]",
      "text/plain": [
       "<Figure size 432x288 with 1 Axes>"
      ]
     },
     "metadata": {
      "needs_background": "light"
     },
     "output_type": "display_data"
    }
   ],
   "source": [
    "nn = PtEtaPhiNN(events)\n",
    "nn.learn()"
   ]
  },
  {
   "cell_type": "code",
   "execution_count": 6,
   "metadata": {},
   "outputs": [
    {
     "name": "stdout",
     "output_type": "stream",
     "text": [
      "using data given when this model was created\n"
     ]
    },
    {
     "name": "stderr",
     "output_type": "stream",
     "text": [
      "100%|██████████| 60785/60785 [00:00<00:00, 93945.70it/s] \n"
     ]
    },
    {
     "name": "stdout",
     "output_type": "stream",
     "text": [
      "\r\n"
     ]
    },
    {
     "data": {
      "image/png": "[encoded data removed]",
      "text/plain": [
       "<Figure size 432x288 with 1 Axes>"
      ]
     },
     "metadata": {
      "needs_background": "light"
     },
     "output_type": "display_data"
    }
   ],
   "source": [
    "nn.evaluate(savename=\"boost_and_rotate\")"
   ]
  },
  {
   "cell_type": "code",
   "execution_count": 7,
   "metadata": {},
   "outputs": [
    {
     "name": "stderr",
     "output_type": "stream",
     "text": [
      "/home/callum/anaconda3/envs/437env/lib/python3.8/site-packages/uproot_methods/classes/TLorentzVector.py:181: RuntimeWarning: invalid value encountered in true_divide\n",
      "  return self._trymemo(\"eta\", lambda self: self.awkward.numpy.arcsinh(self.z / self.awkward.numpy.sqrt(self.x**2 + self.y**2)))\n"
     ]
    },
    {
     "name": "stdout",
     "output_type": "stream",
     "text": [
      "Don't worry if you see a warning about dividing by zero, fixing that!\n",
      "using different data than when this model was created\n"
     ]
    },
    {
     "name": "stderr",
     "output_type": "stream",
     "text": [
      "100%|██████████| 777150/777150 [00:06<00:00, 127693.58it/s]\n"
     ]
    },
    {
     "name": "stdout",
     "output_type": "stream",
     "text": [
      "\r\n"
     ]
    },
    {
     "data": {
      "image/png": "[encoded data removed]",
      "text/plain": [
       "<Figure size 432x288 with 1 Axes>"
      ]
     },
     "metadata": {
      "needs_background": "light"
     },
     "output_type": "display_data"
    }
   ],
   "source": [
    "# evaluate on the set with >=4 jets, not ==4\n",
    "\n",
    "# not sure if this is what we need, or the one above... Should ask\n",
    "events2 = s_table[s_table.njets>=4 & nt3]\n",
    "events2 = tools.pad(events2, length=cutoff)\n",
    "events2 = tools.boost_and_rotate(events2)\n",
    "nn.evaluate(events2)"
   ]
  },
  {
   "cell_type": "code",
   "execution_count": null,
   "metadata": {},
   "outputs": [],
   "source": []
  }
 ],
 "metadata": {
  "file_extension": ".py",
  "kernelspec": {
   "display_name": "Python 3.8.2 64-bit",
   "language": "python",
   "name": "python38264bit1bc87f48281d409ab7479945988ac1ab"
  },
  "language_info": {
   "codemirror_mode": {
    "name": "ipython",
    "version": 3
   },
   "file_extension": ".py",
   "mimetype": "text/x-python",
   "name": "python",
   "nbconvert_exporter": "python",
   "pygments_lexer": "ipython3",
   "version": "3.8.2"
  },
  "mimetype": "text/x-python",
  "name": "python",
  "npconvert_exporter": "python",
  "pygments_lexer": "ipython3",
  "version": 3
 },
 "nbformat": 4,
 "nbformat_minor": 2
}
