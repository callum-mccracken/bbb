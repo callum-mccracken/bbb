{
 "cells": [
  {
   "cell_type": "code",
   "execution_count": 1,
   "metadata": {},
   "outputs": [
    {
     "name": "stderr",
     "output_type": "stream",
     "text": [
      "Using TensorFlow backend.\n"
     ]
    }
   ],
   "source": [
    "import importlib\n",
    "import os\n",
    "import sys\n",
    "\n",
    "sys.path.append(os.path.realpath(\"..\"))\n",
    "\n",
    "os.environ[\"CUDA_DEVICE_ORDER\"]=\"PCI_BUS_ID\"   # see issue #152\n",
    "os.environ[\"CUDA_VISIBLE_DEVICES\"]=\"6\"\n",
    "\n",
    "import numpy as np\n",
    "import energyflow as ef\n",
    "from energyflow.archs import PFN\n",
    "from energyflow.utils import data_split\n",
    "import matplotlib.pyplot as plt\n",
    "from tqdm import tqdm\n",
    "\n",
    "\n",
    "import tools\n",
    "import ef_tools"
   ]
  },
  {
   "cell_type": "code",
   "execution_count": 2,
   "metadata": {},
   "outputs": [
    {
     "name": "stdout",
     "output_type": "stream",
     "text": [
      "padding arrays\n",
      "done padding\n",
      "777150 events total\n",
      "444528 events after ensuring first 3 are correctly tagged\n",
      "307055 events after ensuring we only have 3 tags\n",
      "303931 events after ensuring there is at most 1 untagged jet\n",
      "(303931, 11)\n",
      "Loaded jets\n"
     ]
    }
   ],
   "source": [
    "x = np.zeros((100,20,5))\n",
    "x = x[:,:,[0,1,2,4]]\n",
    "\n",
    "# load data\n",
    "if False: #os.path.exists(\"X.npy\"):\n",
    "    X = np.load(\"X.npy\", allow_pickle=True)\n",
    "    y = np.load(\"y.npy\", allow_pickle=True)\n",
    "else:\n",
    "    X, y = ef_tools.open_file(\"/fast_scratch/atlas_bbbb/MAR20p0/user.jagrundy.20736236._000001.MiniNTuple.root\", njets=10)\n",
    "    X = X[:,:,[0,1,2,4]]\n",
    "    np.save(\"X.npy\", X, allow_pickle=True)\n",
    "    np.save(\"y.npy\", y, allow_pickle=True)\n",
    "\n",
    "\n",
    "# convert labels to categorical\n",
    "Y=y\n",
    "#Y = to_categorical(y, num_classes=2)\n",
    "print(Y.shape)\n",
    "print('Loaded jets')"
   ]
  },
  {
   "cell_type": "code",
   "execution_count": 3,
   "metadata": {},
   "outputs": [
    {
     "name": "stdout",
     "output_type": "stream",
     "text": [
      "(303931, 10, 4)\n"
     ]
    }
   ],
   "source": [
    "print(X.shape)"
   ]
  },
  {
   "cell_type": "code",
   "execution_count": 4,
   "metadata": {},
   "outputs": [
    {
     "name": "stderr",
     "output_type": "stream",
     "text": [
      "100%|██████████| 303931/303931 [00:14<00:00, 20532.00it/s]"
     ]
    },
    {
     "name": "stdout",
     "output_type": "stream",
     "text": [
      "Finished preprocessing\n"
     ]
    },
    {
     "name": "stderr",
     "output_type": "stream",
     "text": [
      "\n"
     ]
    }
   ],
   "source": [
    "# preprocess by centering jets and normalizing pts\n",
    "for x in tqdm(X):\n",
    "    mask = x[:,0] > 0\n",
    "    yphi_avg = np.average(x[mask,1:3], weights=x[mask,0], axis=0)\n",
    "    x[mask,1:3] -= yphi_avg\n",
    "    x[mask,0] /= x[:,0].sum()\n",
    "\n",
    "print('Finished preprocessing')"
   ]
  },
  {
   "cell_type": "code",
   "execution_count": 5,
   "metadata": {},
   "outputs": [
    {
     "name": "stdout",
     "output_type": "stream",
     "text": [
      "Done train/val/test split\n",
      "Model summary:\n",
      "Model: \"model_1\"\n",
      "__________________________________________________________________________________________________\n",
      "Layer (type)                    Output Shape         Param #     Connected to                     \n",
      "==================================================================================================\n",
      "input (InputLayer)              (None, None, 4)      0                                            \n",
      "__________________________________________________________________________________________________\n",
      "tdist_0 (TimeDistributed)       (None, None, 700)    3500        input[0][0]                      \n",
      "__________________________________________________________________________________________________\n",
      "activation_1 (Activation)       (None, None, 700)    0           tdist_0[0][0]                    \n",
      "__________________________________________________________________________________________________\n",
      "tdist_1 (TimeDistributed)       (None, None, 700)    490700      activation_1[0][0]               \n",
      "__________________________________________________________________________________________________\n",
      "activation_2 (Activation)       (None, None, 700)    0           tdist_1[0][0]                    \n",
      "__________________________________________________________________________________________________\n",
      "tdist_2 (TimeDistributed)       (None, None, 700)    490700      activation_2[0][0]               \n",
      "__________________________________________________________________________________________________\n",
      "activation_3 (Activation)       (None, None, 700)    0           tdist_2[0][0]                    \n",
      "__________________________________________________________________________________________________\n",
      "tdist_3 (TimeDistributed)       (None, None, 700)    490700      activation_3[0][0]               \n",
      "__________________________________________________________________________________________________\n",
      "mask (Lambda)                   (None, None)         0           input[0][0]                      \n",
      "__________________________________________________________________________________________________\n",
      "activation_4 (Activation)       (None, None, 700)    0           tdist_3[0][0]                    \n",
      "__________________________________________________________________________________________________\n",
      "sum (Dot)                       (None, 700)          0           mask[0][0]                       \n",
      "                                                                 activation_4[0][0]               \n",
      "__________________________________________________________________________________________________\n",
      "dense_0 (Dense)                 (None, 700)          490700      sum[0][0]                        \n",
      "__________________________________________________________________________________________________\n",
      "activation_5 (Activation)       (None, 700)          0           dense_0[0][0]                    \n",
      "__________________________________________________________________________________________________\n",
      "dense_1 (Dense)                 (None, 700)          490700      activation_5[0][0]               \n",
      "__________________________________________________________________________________________________\n",
      "activation_6 (Activation)       (None, 700)          0           dense_1[0][0]                    \n",
      "__________________________________________________________________________________________________\n",
      "dense_2 (Dense)                 (None, 500)          350500      activation_6[0][0]               \n",
      "__________________________________________________________________________________________________\n",
      "activation_7 (Activation)       (None, 500)          0           dense_2[0][0]                    \n",
      "__________________________________________________________________________________________________\n",
      "dense_3 (Dense)                 (None, 300)          150300      activation_7[0][0]               \n",
      "__________________________________________________________________________________________________\n",
      "activation_8 (Activation)       (None, 300)          0           dense_3[0][0]                    \n",
      "__________________________________________________________________________________________________\n",
      "dense_4 (Dense)                 (None, 100)          30100       activation_8[0][0]               \n",
      "__________________________________________________________________________________________________\n",
      "activation_9 (Activation)       (None, 100)          0           dense_4[0][0]                    \n",
      "__________________________________________________________________________________________________\n",
      "output (Dense)                  (None, 8)            808         activation_9[0][0]               \n",
      "__________________________________________________________________________________________________\n",
      "activation_10 (Activation)      (None, 8)            0           output[0][0]                     \n",
      "==================================================================================================\n",
      "Total params: 2,988,708\n",
      "Trainable params: 2,988,708\n",
      "Non-trainable params: 0\n",
      "__________________________________________________________________________________________________\n"
     ]
    }
   ],
   "source": [
    "Y = y[:,3:]  # chop off first 3 jets which are always 1\n",
    "\n",
    "# do train/val/test split \n",
    "(X_train, X_val, X_test,\n",
    " Y_train, Y_val, Y_test) = data_split(X, Y, val=0.1, test=0.2)\n",
    "\n",
    "if False:\n",
    "    plt.title(\"y\")\n",
    "    plt.hist(y.argmax(axis=1), bins=15)\n",
    "    plt.show()\n",
    "    plt.title(\"Y\")\n",
    "    plt.hist(Y.argmax(axis=1)+3, bins=15)\n",
    "    plt.show()\n",
    "    plt.title(\"Y_train\")\n",
    "    plt.hist(Y_train.argmax(axis=1)+3, bins=15)\n",
    "    plt.show()\n",
    "    plt.title(\"Y_val\")\n",
    "    plt.hist(Y_val.argmax(axis=1)+3, bins=15)\n",
    "    plt.show()\n",
    "    plt.title(\"Y_test\")\n",
    "    plt.hist(Y_test.argmax(axis=1)+3, bins=15)\n",
    "    plt.show()\n",
    "\n",
    "print('Done train/val/test split')\n",
    "print('Model summary:')\n",
    "\n",
    "# build architecture\n",
    "# should we use optimizer Adam(lr=5e-5)?\n",
    "pfn = PFN(input_dim=X.shape[2], output_dim=Y.shape[1], Phi_sizes=(700, 700, 700, 700), F_sizes=(700, 700, 500, 300, 100), Phi_l2_regs=0.0001, F_l2_regs=0.0001)"
   ]
  },
  {
   "cell_type": "code",
   "execution_count": 6,
   "metadata": {},
   "outputs": [
    {
     "name": "stdout",
     "output_type": "stream",
     "text": [
      "Train on 212752 samples, validate on 30393 samples\n",
      "Epoch 1/30\n",
      "212752/212752 [==============================] - 19s 90us/step - loss: 2.1069 - acc: 0.5122 - val_loss: 1.7199 - val_acc: 0.5831\n",
      "Epoch 2/30\n",
      "212752/212752 [==============================] - 17s 81us/step - loss: 1.6699 - acc: 0.5904 - val_loss: 1.5966 - val_acc: 0.5993\n",
      "Epoch 3/30\n",
      "212752/212752 [==============================] - 17s 81us/step - loss: 1.5578 - acc: 0.6063 - val_loss: 1.4989 - val_acc: 0.6165\n",
      "Epoch 4/30\n",
      "212752/212752 [==============================] - 17s 81us/step - loss: 1.4692 - acc: 0.6154 - val_loss: 1.4245 - val_acc: 0.6214\n",
      "Epoch 5/30\n",
      "212752/212752 [==============================] - 17s 81us/step - loss: 1.3951 - acc: 0.6219 - val_loss: 1.3512 - val_acc: 0.6270\n",
      "Epoch 6/30\n",
      "212752/212752 [==============================] - 17s 81us/step - loss: 1.3310 - acc: 0.6272 - val_loss: 1.3053 - val_acc: 0.6261\n",
      "Epoch 7/30\n",
      "212752/212752 [==============================] - 17s 80us/step - loss: 1.2716 - acc: 0.6333 - val_loss: 1.2438 - val_acc: 0.6354\n",
      "Epoch 8/30\n",
      "212752/212752 [==============================] - 17s 81us/step - loss: 1.2192 - acc: 0.6371 - val_loss: 1.1875 - val_acc: 0.6385\n",
      "Epoch 9/30\n",
      "212752/212752 [==============================] - 17s 81us/step - loss: 1.1718 - acc: 0.6392 - val_loss: 1.1574 - val_acc: 0.6389\n",
      "Epoch 10/30\n",
      "212752/212752 [==============================] - 17s 80us/step - loss: 1.1327 - acc: 0.6429 - val_loss: 1.1219 - val_acc: 0.6434\n",
      "Epoch 11/30\n",
      "212752/212752 [==============================] - 17s 80us/step - loss: 1.0910 - acc: 0.6471 - val_loss: 1.0715 - val_acc: 0.6479\n",
      "Epoch 12/30\n",
      "212752/212752 [==============================] - 17s 80us/step - loss: 1.0558 - acc: 0.6514 - val_loss: 1.0472 - val_acc: 0.6453\n",
      "Epoch 13/30\n",
      "212752/212752 [==============================] - 17s 81us/step - loss: 1.0267 - acc: 0.6534 - val_loss: 1.0209 - val_acc: 0.6546\n",
      "Epoch 14/30\n",
      "212752/212752 [==============================] - 17s 80us/step - loss: 0.9999 - acc: 0.6573 - val_loss: 1.0000 - val_acc: 0.6532\n",
      "Epoch 15/30\n",
      "212752/212752 [==============================] - 17s 80us/step - loss: 0.9766 - acc: 0.6601 - val_loss: 0.9755 - val_acc: 0.6553\n",
      "Epoch 16/30\n",
      "212752/212752 [==============================] - 17s 80us/step - loss: 0.9545 - acc: 0.6638 - val_loss: 0.9624 - val_acc: 0.6540\n",
      "Epoch 17/30\n",
      "212752/212752 [==============================] - 17s 80us/step - loss: 0.9358 - acc: 0.6666 - val_loss: 0.9929 - val_acc: 0.6346\n",
      "Epoch 18/30\n",
      "212752/212752 [==============================] - 17s 80us/step - loss: 0.9209 - acc: 0.6694 - val_loss: 0.9412 - val_acc: 0.6572\n",
      "Epoch 19/30\n",
      "212752/212752 [==============================] - 17s 80us/step - loss: 0.9065 - acc: 0.6720 - val_loss: 0.9185 - val_acc: 0.6629\n",
      "Epoch 20/30\n",
      "212752/212752 [==============================] - 17s 81us/step - loss: 0.8944 - acc: 0.6744 - val_loss: 0.9160 - val_acc: 0.6631\n",
      "Epoch 21/30\n",
      "212752/212752 [==============================] - 17s 81us/step - loss: 0.8852 - acc: 0.6767 - val_loss: 0.9077 - val_acc: 0.6680\n",
      "Epoch 22/30\n",
      "212752/212752 [==============================] - 17s 81us/step - loss: 0.8753 - acc: 0.6796 - val_loss: 0.8982 - val_acc: 0.6705\n",
      "Epoch 23/30\n",
      "212752/212752 [==============================] - 17s 80us/step - loss: 0.8657 - acc: 0.6821 - val_loss: 0.8958 - val_acc: 0.6675\n",
      "Epoch 24/30\n",
      "212752/212752 [==============================] - 17s 80us/step - loss: 0.8594 - acc: 0.6834 - val_loss: 0.8968 - val_acc: 0.6670\n",
      "Epoch 25/30\n",
      "212752/212752 [==============================] - 17s 80us/step - loss: 0.8510 - acc: 0.6871 - val_loss: 0.8843 - val_acc: 0.6695\n",
      "Epoch 26/30\n",
      "212752/212752 [==============================] - 17s 80us/step - loss: 0.8457 - acc: 0.6889 - val_loss: 0.8906 - val_acc: 0.6638\n",
      "Epoch 27/30\n",
      "212752/212752 [==============================] - 17s 80us/step - loss: 0.8399 - acc: 0.6912 - val_loss: 0.8831 - val_acc: 0.6731\n",
      "Epoch 28/30\n",
      "212752/212752 [==============================] - 17s 80us/step - loss: 0.8324 - acc: 0.6950 - val_loss: 0.8869 - val_acc: 0.6699\n",
      "Epoch 29/30\n",
      "212752/212752 [==============================] - 17s 80us/step - loss: 0.8292 - acc: 0.6953 - val_loss: 0.8859 - val_acc: 0.6730\n",
      "Epoch 30/30\n",
      "212752/212752 [==============================] - 17s 80us/step - loss: 0.8235 - acc: 0.6984 - val_loss: 0.8897 - val_acc: 0.6676\n"
     ]
    },
    {
     "data": {
      "text/plain": [
       "<keras.callbacks.callbacks.History at 0x7f80ccdadd90>"
      ]
     },
     "execution_count": 6,
     "metadata": {},
     "output_type": "execute_result"
    }
   ],
   "source": [
    "# train model\n",
    "pfn.fit(X_train, Y_train,\n",
    "          epochs=30,\n",
    "          batch_size=500,\n",
    "          validation_data=(X_val, Y_val),\n",
    "          verbose=1)"
   ]
  },
  {
   "cell_type": "code",
   "execution_count": 7,
   "metadata": {},
   "outputs": [
    {
     "data": {
      "image/png": "[encoded data removed]",
      "text/plain": [
       "<Figure size 432x288 with 1 Axes>"
      ]
     },
     "metadata": {
      "needs_background": "light"
     },
     "output_type": "display_data"
    }
   ],
   "source": [
    "plt.plot(pfn.model.history.history['acc'])\n",
    "plt.plot(pfn.model.history.history['val_acc'])\n",
    "plt.title('model accuracy')\n",
    "plt.ylabel('accuracy')\n",
    "plt.xlabel('epoch')\n",
    "plt.legend(['train', 'val'], loc='upper left')\n",
    "plt.show()"
   ]
  },
  {
   "cell_type": "code",
   "execution_count": 8,
   "metadata": {},
   "outputs": [],
   "source": [
    "\n",
    "# get predictions on test data\n",
    "preds = pfn.predict(X_test)\n"
   ]
  },
  {
   "cell_type": "code",
   "execution_count": 9,
   "metadata": {
    "tags": [
     "outputPrepend",
     "outputPrepend",
     "outputPrepend",
     "outputPrepend",
     "outputPrepend",
     "outputPrepend",
     "outputPrepend",
     "outputPrepend",
     "outputPrepend",
     "outputPrepend",
     "outputPrepend",
     "outputPrepend",
     "outputPrepend",
     "outputPrepend",
     "outputPrepend",
     "outputPrepend"
    ]
   },
   "outputs": [
    {
     "name": "stderr",
     "output_type": "stream",
     "text": [
      "100%|██████████| 60786/60786 [00:00<00:00, 89674.04it/s]\n"
     ]
    },
    {
     "name": "stdout",
     "output_type": "stream",
     "text": [
      "overall accuracy: 66.94 percent\n",
      "ignoring 0.0 percent of 60786 events\n"
     ]
    },
    {
     "data": {
      "image/png": "[encoded data removed]",
      "text/plain": [
       "<Figure size 432x288 with 1 Axes>"
      ]
     },
     "metadata": {
      "needs_background": "light"
     },
     "output_type": "display_data"
    },
    {
     "data": {
      "image/png": "[encoded data removed]",
      "text/plain": [
       "<Figure size 432x288 with 1 Axes>"
      ]
     },
     "metadata": {
      "needs_background": "light"
     },
     "output_type": "display_data"
    },
    {
     "data": {
      "image/png": "[encoded data removed]",
      "text/plain": [
       "<Figure size 432x288 with 1 Axes>"
      ]
     },
     "metadata": {
      "needs_background": "light"
     },
     "output_type": "display_data"
    }
   ],
   "source": [
    "Y_concat = np.concatenate((np.ones((len(Y_test), 3)), Y_test), axis=1).astype(int)  # add 3 1s to the start of each event\n",
    "truth = Y_concat[:,:-1]  # cut off no-jet jet\n",
    "tag = X_test[:,:,3].astype(int)\n",
    "\n",
    "\n",
    "preds_max = np.argmax(preds, axis=1) + 3\n",
    "preds_arr = np.zeros((len(preds), len(preds[0])+3), dtype=int)\n",
    "for i, p in enumerate(preds_max):\n",
    "    preds_arr[i][p] = 1\n",
    "\n",
    "# make sure we're getting the right accuracy\n",
    "n_events = len(preds_arr)\n",
    "n_correct = 0\n",
    "for i in range(len(preds_arr)):\n",
    "    if all(preds_arr[i][3:] == Y_test[i]):\n",
    "        n_correct += 1\n",
    "    \n",
    "# chop off 'no jet' jet\n",
    "selections = preds_arr[:,:-1].astype(int)\n",
    "\n",
    "\n",
    "# ensure accuracy again\n",
    "n_events = len(truth)\n",
    "n_correct = 0\n",
    "for i in range(len(truth)):\n",
    "    if all(truth[i][3:] == selections[i][3:]):\n",
    "        n_correct += 1\n",
    "\n",
    "import importlib\n",
    "importlib.reload(tools)\n",
    "\n",
    "#print(truth.shape, tag.shape, selections.shape)\n",
    "tools.evaluate_model(truth, tag, selections)\n",
    "\n",
    "plt.title(\"truth\")\n",
    "plt.hist(y.argmax(axis=1), bins=15, density=True)\n",
    "plt.show()\n",
    "\n",
    "\n",
    "plt.title(\"selections\")\n",
    "plt.hist(preds_max, bins=15, density=True)\n",
    "plt.show()\n"
   ]
  },
  {
   "cell_type": "code",
   "execution_count": null,
   "metadata": {},
   "outputs": [],
   "source": []
  },
  {
   "cell_type": "code",
   "execution_count": null,
   "metadata": {},
   "outputs": [],
   "source": []
  },
  {
   "cell_type": "code",
   "execution_count": null,
   "metadata": {},
   "outputs": [],
   "source": []
  },
  {
   "cell_type": "code",
   "execution_count": null,
   "metadata": {},
   "outputs": [],
   "source": []
  },
  {
   "cell_type": "code",
   "execution_count": null,
   "metadata": {},
   "outputs": [],
   "source": []
  }
 ],
 "metadata": {
  "kernelspec": {
   "display_name": "Python 3",
   "language": "python",
   "name": "python3"
  },
  "language_info": {
   "codemirror_mode": {
    "name": "ipython",
    "version": 3
   },
   "file_extension": ".py",
   "mimetype": "text/x-python",
   "name": "python",
   "nbconvert_exporter": "python",
   "pygments_lexer": "ipython3",
   "version": "3.7.6"
  }
 },
 "nbformat": 4,
 "nbformat_minor": 4
}
