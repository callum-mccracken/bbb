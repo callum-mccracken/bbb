{
 "cells": [
  {
   "cell_type": "code",
   "execution_count": 1,
   "metadata": {},
   "outputs": [
    {
     "name": "stderr",
     "output_type": "stream",
     "text": [
      "Using TensorFlow backend.\n"
     ]
    }
   ],
   "source": [
    "import os\n",
    "os.environ[\"CUDA_DEVICE_ORDER\"]=\"PCI_BUS_ID\"   # see issue #152\n",
    "os.environ[\"CUDA_VISIBLE_DEVICES\"]=\"6\"\n",
    "\n",
    "# standard numerical library imports\n",
    "import numpy as np\n",
    "\n",
    "# energyflow imports\n",
    "import energyflow as ef\n",
    "from energyflow.archs import PFN\n",
    "from energyflow.datasets import qg_jets\n",
    "from energyflow.utils import data_split, remap_pids, to_categorical\n",
    "\n",
    "import matplotlib.pyplot as plt\n",
    "\n",
    "from tqdm import tqdm\n",
    "\n",
    "import importlib\n",
    "\n",
    "import sys\n",
    "import os\n",
    "sys.path.append(os.path.realpath(\"..\"))\n",
    "import tools\n",
    "import ef_tools"
   ]
  },
  {
   "cell_type": "code",
   "execution_count": 2,
   "metadata": {},
   "outputs": [
    {
     "name": "stdout",
     "output_type": "stream",
     "text": [
      "padding arrays\n",
      "done padding\n",
      "777150 events total\n",
      "444528 events after ensuring first 3 are correctly tagged\n",
      "307055 events after ensuring we only have 3 tags\n",
      "303931 events after ensuring there is at most 1 untagged jet\n",
      "(303931, 11)\n",
      "Loaded jets\n"
     ]
    }
   ],
   "source": [
    "import importlib\n",
    "importlib.reload(ef_tools)\n",
    "################################################################################\n",
    "\n",
    "# load data\n",
    "if False: #os.path.exists(\"X.npy\"):\n",
    "    X = np.load(\"X.npy\", allow_pickle=True)\n",
    "    y = np.load(\"y.npy\", allow_pickle=True)\n",
    "else:\n",
    "    X, y = ef_tools.open_file(\"/fast_scratch/atlas_bbbb/MAR20p0/user.jagrundy.20736236._000001.MiniNTuple.root\", njets=10)\n",
    "    np.save(\"X.npy\", X, allow_pickle=True)\n",
    "    np.save(\"y.npy\", y, allow_pickle=True)\n",
    "\n",
    "# load data\n",
    "#X, y = qg_jets.load(train + val + test)\n",
    "\n",
    "# convert labels to categorical\n",
    "Y=y\n",
    "#Y = to_categorical(y, num_classes=2)\n",
    "print(Y.shape)\n",
    "print('Loaded jets')"
   ]
  },
  {
   "cell_type": "code",
   "execution_count": 3,
   "metadata": {},
   "outputs": [
    {
     "name": "stdout",
     "output_type": "stream",
     "text": [
      "(303931, 10, 4)\n"
     ]
    }
   ],
   "source": [
    "print(X.shape)"
   ]
  },
  {
   "cell_type": "code",
   "execution_count": 4,
   "metadata": {},
   "outputs": [
    {
     "name": "stderr",
     "output_type": "stream",
     "text": [
      "100%|██████████| 303931/303931 [00:23<00:00, 12702.53it/s]"
     ]
    },
    {
     "name": "stdout",
     "output_type": "stream",
     "text": [
      "Finished preprocessing\n"
     ]
    },
    {
     "name": "stderr",
     "output_type": "stream",
     "text": [
      "\n"
     ]
    }
   ],
   "source": [
    "# preprocess by centering jets and normalizing pts\n",
    "for x in tqdm(X):\n",
    "    mask = x[:,0] > 0\n",
    "    yphi_avg = np.average(x[mask,1:3], weights=x[mask,0], axis=0)\n",
    "    x[mask,1:3] -= yphi_avg\n",
    "    x[mask,0] /= x[:,0].sum()\n",
    "\n",
    "print('Finished preprocessing')"
   ]
  },
  {
   "cell_type": "code",
   "execution_count": 5,
   "metadata": {},
   "outputs": [],
   "source": [
    "################################### SETTINGS ###################################\n",
    "# the commented values correspond to those in 1810.05165\n",
    "###############################################################################\n",
    "\n",
    "# data controls, fractions of 1\n",
    "train, val, test = 0.7, 0.1, 0.2\n",
    "# train, val, test = 1000000, 200000, 200000\n",
    "\n",
    "# network architecture parameters\n",
    "Phi_sizes, F_sizes = (100, 300, 500, 700, 500, 300), (700, 500, 300, 100)\n",
    "\n",
    "# network training parameters\n",
    "num_epoch = 50\n",
    "batch_size = 500"
   ]
  },
  {
   "cell_type": "code",
   "execution_count": 6,
   "metadata": {},
   "outputs": [
    {
     "name": "stdout",
     "output_type": "stream",
     "text": [
      "Done train/val/test split\n",
      "Model summary:\n",
      "Model: \"model_1\"\n",
      "__________________________________________________________________________________________________\n",
      "Layer (type)                    Output Shape         Param #     Connected to                     \n",
      "==================================================================================================\n",
      "input (InputLayer)              (None, None, 4)      0                                            \n",
      "__________________________________________________________________________________________________\n",
      "tdist_0 (TimeDistributed)       (None, None, 100)    500         input[0][0]                      \n",
      "__________________________________________________________________________________________________\n",
      "activation_1 (Activation)       (None, None, 100)    0           tdist_0[0][0]                    \n",
      "__________________________________________________________________________________________________\n",
      "tdist_1 (TimeDistributed)       (None, None, 300)    30300       activation_1[0][0]               \n",
      "__________________________________________________________________________________________________\n",
      "activation_2 (Activation)       (None, None, 300)    0           tdist_1[0][0]                    \n",
      "__________________________________________________________________________________________________\n",
      "tdist_2 (TimeDistributed)       (None, None, 500)    150500      activation_2[0][0]               \n",
      "__________________________________________________________________________________________________\n",
      "activation_3 (Activation)       (None, None, 500)    0           tdist_2[0][0]                    \n",
      "__________________________________________________________________________________________________\n",
      "tdist_3 (TimeDistributed)       (None, None, 700)    350700      activation_3[0][0]               \n",
      "__________________________________________________________________________________________________\n",
      "activation_4 (Activation)       (None, None, 700)    0           tdist_3[0][0]                    \n",
      "__________________________________________________________________________________________________\n",
      "tdist_4 (TimeDistributed)       (None, None, 500)    350500      activation_4[0][0]               \n",
      "__________________________________________________________________________________________________\n",
      "activation_5 (Activation)       (None, None, 500)    0           tdist_4[0][0]                    \n",
      "__________________________________________________________________________________________________\n",
      "tdist_5 (TimeDistributed)       (None, None, 300)    150300      activation_5[0][0]               \n",
      "__________________________________________________________________________________________________\n",
      "mask (Lambda)                   (None, None)         0           input[0][0]                      \n",
      "__________________________________________________________________________________________________\n",
      "activation_6 (Activation)       (None, None, 300)    0           tdist_5[0][0]                    \n",
      "__________________________________________________________________________________________________\n",
      "sum (Dot)                       (None, 300)          0           mask[0][0]                       \n",
      "                                                                 activation_6[0][0]               \n",
      "__________________________________________________________________________________________________\n",
      "dense_0 (Dense)                 (None, 700)          210700      sum[0][0]                        \n",
      "__________________________________________________________________________________________________\n",
      "activation_7 (Activation)       (None, 700)          0           dense_0[0][0]                    \n",
      "__________________________________________________________________________________________________\n",
      "dense_1 (Dense)                 (None, 500)          350500      activation_7[0][0]               \n",
      "__________________________________________________________________________________________________\n",
      "activation_8 (Activation)       (None, 500)          0           dense_1[0][0]                    \n",
      "__________________________________________________________________________________________________\n",
      "dense_2 (Dense)                 (None, 300)          150300      activation_8[0][0]               \n",
      "__________________________________________________________________________________________________\n",
      "activation_9 (Activation)       (None, 300)          0           dense_2[0][0]                    \n",
      "__________________________________________________________________________________________________\n",
      "dense_3 (Dense)                 (None, 100)          30100       activation_9[0][0]               \n",
      "__________________________________________________________________________________________________\n",
      "activation_10 (Activation)      (None, 100)          0           dense_3[0][0]                    \n",
      "__________________________________________________________________________________________________\n",
      "output (Dense)                  (None, 8)            808         activation_10[0][0]              \n",
      "__________________________________________________________________________________________________\n",
      "activation_11 (Activation)      (None, 8)            0           output[0][0]                     \n",
      "==================================================================================================\n",
      "Total params: 1,775,208\n",
      "Trainable params: 1,775,208\n",
      "Non-trainable params: 0\n",
      "__________________________________________________________________________________________________\n"
     ]
    }
   ],
   "source": [
    "input_dim = X.shape[2]  # parameters per jet\n",
    "\n",
    "Y = y[:,3:]  # chop off first 3 jets which are always 1\n",
    "\n",
    "# do train/val/test split \n",
    "(X_train, X_val, X_test,\n",
    " Y_train, Y_val, Y_test) = data_split(X, Y, val=val, test=test)\n",
    "\n",
    "if False:\n",
    "    plt.title(\"y\")\n",
    "    plt.hist(y.argmax(axis=1), bins=15)\n",
    "    plt.show()\n",
    "    plt.title(\"Y\")\n",
    "    plt.hist(Y.argmax(axis=1)+3, bins=15)\n",
    "    plt.show()\n",
    "    plt.title(\"Y_train\")\n",
    "    plt.hist(Y_train.argmax(axis=1)+3, bins=15)\n",
    "    plt.show()\n",
    "    plt.title(\"Y_val\")\n",
    "    plt.hist(Y_val.argmax(axis=1)+3, bins=15)\n",
    "    plt.show()\n",
    "    plt.title(\"Y_test\")\n",
    "    plt.hist(Y_test.argmax(axis=1)+3, bins=15)\n",
    "    plt.show()\n",
    "\n",
    "print('Done train/val/test split')\n",
    "print('Model summary:')\n",
    "\n",
    "# build architecture\n",
    "# should use optimizer Adam(lr=5e-5)\n",
    "pfn = PFN(input_dim=input_dim, output_dim=Y.shape[1], Phi_sizes=Phi_sizes, F_sizes=F_sizes, Phi_l2_regs=0.0001, F_l2_regs=0.0001)"
   ]
  },
  {
   "cell_type": "code",
   "execution_count": 7,
   "metadata": {},
   "outputs": [
    {
     "name": "stdout",
     "output_type": "stream",
     "text": [
      "Train on 212752 samples, validate on 30393 samples\n",
      "Epoch 1/50\n",
      "212752/212752 [==============================] - 17s 81us/step - loss: 1.8778 - acc: 0.5248 - val_loss: 1.5392 - val_acc: 0.5724\n",
      "Epoch 2/50\n",
      "212752/212752 [==============================] - 16s 75us/step - loss: 1.4860 - acc: 0.5817 - val_loss: 1.4427 - val_acc: 0.5870\n",
      "Epoch 3/50\n",
      "212752/212752 [==============================] - 15s 70us/step - loss: 1.4081 - acc: 0.5941 - val_loss: 1.4006 - val_acc: 0.5941\n",
      "Epoch 4/50\n",
      "212752/212752 [==============================] - 15s 69us/step - loss: 1.3479 - acc: 0.6035 - val_loss: 1.3247 - val_acc: 0.6122\n",
      "Epoch 5/50\n",
      "212752/212752 [==============================] - 15s 70us/step - loss: 1.2945 - acc: 0.6129 - val_loss: 1.2811 - val_acc: 0.6196\n",
      "Epoch 6/50\n",
      "212752/212752 [==============================] - 15s 69us/step - loss: 1.2478 - acc: 0.6193 - val_loss: 1.2401 - val_acc: 0.6166\n",
      "Epoch 7/50\n",
      "212752/212752 [==============================] - 15s 70us/step - loss: 1.2032 - acc: 0.6243 - val_loss: 1.1800 - val_acc: 0.6275\n",
      "Epoch 8/50\n",
      "212752/212752 [==============================] - 15s 70us/step - loss: 1.1632 - acc: 0.6300 - val_loss: 1.1530 - val_acc: 0.6330\n",
      "Epoch 9/50\n",
      "212752/212752 [==============================] - 15s 69us/step - loss: 1.1293 - acc: 0.6349 - val_loss: 1.1336 - val_acc: 0.6329\n",
      "Epoch 10/50\n",
      "212752/212752 [==============================] - 15s 69us/step - loss: 1.0973 - acc: 0.6388 - val_loss: 1.0824 - val_acc: 0.6380\n",
      "Epoch 11/50\n",
      "212752/212752 [==============================] - 15s 69us/step - loss: 1.0674 - acc: 0.6429 - val_loss: 1.0564 - val_acc: 0.6424\n",
      "Epoch 12/50\n",
      "212752/212752 [==============================] - 15s 69us/step - loss: 1.0423 - acc: 0.6455 - val_loss: 1.0356 - val_acc: 0.6472\n",
      "Epoch 13/50\n",
      "212752/212752 [==============================] - 15s 69us/step - loss: 1.0190 - acc: 0.6482 - val_loss: 1.0107 - val_acc: 0.6468\n",
      "Epoch 14/50\n",
      "212752/212752 [==============================] - 15s 69us/step - loss: 0.9956 - acc: 0.6514 - val_loss: 0.9944 - val_acc: 0.6490\n",
      "Epoch 15/50\n",
      "212752/212752 [==============================] - 15s 69us/step - loss: 0.9771 - acc: 0.6539 - val_loss: 0.9803 - val_acc: 0.6500\n",
      "Epoch 16/50\n",
      "212752/212752 [==============================] - 15s 69us/step - loss: 0.9584 - acc: 0.6569 - val_loss: 0.9599 - val_acc: 0.6542\n",
      "Epoch 17/50\n",
      "212752/212752 [==============================] - 15s 69us/step - loss: 0.9433 - acc: 0.6597 - val_loss: 0.9387 - val_acc: 0.6596\n",
      "Epoch 18/50\n",
      "212752/212752 [==============================] - 15s 69us/step - loss: 0.9305 - acc: 0.6613 - val_loss: 0.9334 - val_acc: 0.6618\n",
      "Epoch 19/50\n",
      "212752/212752 [==============================] - 15s 69us/step - loss: 0.9182 - acc: 0.6647 - val_loss: 0.9314 - val_acc: 0.6568\n",
      "Epoch 20/50\n",
      "212752/212752 [==============================] - 15s 69us/step - loss: 0.9060 - acc: 0.6674 - val_loss: 0.9177 - val_acc: 0.6640\n",
      "Epoch 21/50\n",
      "212752/212752 [==============================] - 15s 69us/step - loss: 0.8955 - acc: 0.6694 - val_loss: 0.9136 - val_acc: 0.6615\n",
      "Epoch 22/50\n",
      "212752/212752 [==============================] - 15s 69us/step - loss: 0.8874 - acc: 0.6722 - val_loss: 0.9169 - val_acc: 0.6635\n",
      "Epoch 23/50\n",
      "212752/212752 [==============================] - 15s 69us/step - loss: 0.8805 - acc: 0.6750 - val_loss: 0.9140 - val_acc: 0.6615\n",
      "Epoch 24/50\n",
      "212752/212752 [==============================] - 15s 69us/step - loss: 0.8717 - acc: 0.6763 - val_loss: 0.9006 - val_acc: 0.6665\n",
      "Epoch 25/50\n",
      "212752/212752 [==============================] - 15s 69us/step - loss: 0.8658 - acc: 0.6789 - val_loss: 0.8879 - val_acc: 0.6690\n",
      "Epoch 26/50\n",
      "212752/212752 [==============================] - 15s 69us/step - loss: 0.8604 - acc: 0.6813 - val_loss: 0.8856 - val_acc: 0.6753\n",
      "Epoch 27/50\n",
      "212752/212752 [==============================] - 15s 69us/step - loss: 0.8537 - acc: 0.6831 - val_loss: 0.8990 - val_acc: 0.6629\n",
      "Epoch 28/50\n",
      "212752/212752 [==============================] - 15s 69us/step - loss: 0.8487 - acc: 0.6859 - val_loss: 0.8800 - val_acc: 0.6742\n",
      "Epoch 29/50\n",
      "212752/212752 [==============================] - 15s 69us/step - loss: 0.8439 - acc: 0.6871 - val_loss: 0.8748 - val_acc: 0.6754\n",
      "Epoch 30/50\n",
      "212752/212752 [==============================] - 15s 69us/step - loss: 0.8404 - acc: 0.6892 - val_loss: 0.8818 - val_acc: 0.6729\n",
      "Epoch 31/50\n",
      "212752/212752 [==============================] - 15s 72us/step - loss: 0.8371 - acc: 0.6911 - val_loss: 0.8803 - val_acc: 0.6722\n",
      "Epoch 32/50\n",
      "212752/212752 [==============================] - 15s 70us/step - loss: 0.8307 - acc: 0.6946 - val_loss: 0.8798 - val_acc: 0.6705\n",
      "Epoch 33/50\n",
      "212752/212752 [==============================] - 15s 71us/step - loss: 0.8269 - acc: 0.6960 - val_loss: 0.8792 - val_acc: 0.6759\n",
      "Epoch 34/50\n",
      "212752/212752 [==============================] - 15s 71us/step - loss: 0.8226 - acc: 0.6982 - val_loss: 0.8873 - val_acc: 0.6728\n",
      "Epoch 35/50\n",
      "212752/212752 [==============================] - 15s 71us/step - loss: 0.8197 - acc: 0.6995 - val_loss: 0.8991 - val_acc: 0.6711\n",
      "Epoch 36/50\n",
      "212752/212752 [==============================] - 15s 71us/step - loss: 0.8141 - acc: 0.7020 - val_loss: 0.8775 - val_acc: 0.6758\n",
      "Epoch 37/50\n",
      "212752/212752 [==============================] - 15s 71us/step - loss: 0.8103 - acc: 0.7037 - val_loss: 0.8909 - val_acc: 0.6679\n",
      "Epoch 38/50\n",
      "212752/212752 [==============================] - 15s 71us/step - loss: 0.8053 - acc: 0.7068 - val_loss: 0.8897 - val_acc: 0.6727\n",
      "Epoch 39/50\n",
      "212752/212752 [==============================] - 15s 70us/step - loss: 0.8017 - acc: 0.7088 - val_loss: 0.8923 - val_acc: 0.6747\n",
      "Epoch 40/50\n",
      "212752/212752 [==============================] - 15s 69us/step - loss: 0.7985 - acc: 0.7107 - val_loss: 0.8883 - val_acc: 0.6716\n",
      "Epoch 41/50\n",
      "212752/212752 [==============================] - 15s 69us/step - loss: 0.7926 - acc: 0.7131 - val_loss: 0.8870 - val_acc: 0.6756\n",
      "Epoch 42/50\n",
      "212752/212752 [==============================] - 15s 69us/step - loss: 0.7893 - acc: 0.7157 - val_loss: 0.8912 - val_acc: 0.6766\n",
      "Epoch 43/50\n",
      "212752/212752 [==============================] - 15s 69us/step - loss: 0.7841 - acc: 0.7175 - val_loss: 0.9022 - val_acc: 0.6757\n",
      "Epoch 44/50\n",
      "212752/212752 [==============================] - 15s 69us/step - loss: 0.7819 - acc: 0.7192 - val_loss: 0.8965 - val_acc: 0.6736\n",
      "Epoch 45/50\n",
      "212752/212752 [==============================] - 15s 69us/step - loss: 0.7792 - acc: 0.7204 - val_loss: 0.8971 - val_acc: 0.6743\n",
      "Epoch 46/50\n",
      "212752/212752 [==============================] - 15s 69us/step - loss: 0.7749 - acc: 0.7234 - val_loss: 0.9066 - val_acc: 0.6768\n",
      "Epoch 47/50\n",
      "212752/212752 [==============================] - 15s 69us/step - loss: 0.7696 - acc: 0.7256 - val_loss: 0.9112 - val_acc: 0.6678\n",
      "Epoch 48/50\n",
      "212752/212752 [==============================] - 15s 69us/step - loss: 0.7658 - acc: 0.7283 - val_loss: 0.9148 - val_acc: 0.6742\n",
      "Epoch 49/50\n",
      "212752/212752 [==============================] - 15s 69us/step - loss: 0.7618 - acc: 0.7312 - val_loss: 0.9256 - val_acc: 0.6711\n",
      "Epoch 50/50\n",
      "212752/212752 [==============================] - 15s 69us/step - loss: 0.7572 - acc: 0.7327 - val_loss: 0.9228 - val_acc: 0.6705\n"
     ]
    },
    {
     "data": {
      "text/plain": [
       "<keras.callbacks.callbacks.History at 0x7f270d5cff90>"
      ]
     },
     "execution_count": 7,
     "metadata": {},
     "output_type": "execute_result"
    }
   ],
   "source": [
    "# train model\n",
    "pfn.fit(X_train, Y_train,\n",
    "          epochs=num_epoch,\n",
    "          batch_size=batch_size,\n",
    "          validation_data=(X_val, Y_val),\n",
    "          verbose=1)"
   ]
  },
  {
   "cell_type": "code",
   "execution_count": 8,
   "metadata": {},
   "outputs": [
    {
     "data": {
      "image/png": "[encoded data removed]",
      "text/plain": [
       "<Figure size 432x288 with 1 Axes>"
      ]
     },
     "metadata": {
      "needs_background": "light"
     },
     "output_type": "display_data"
    }
   ],
   "source": [
    "plt.plot(pfn.model.history.history['acc'])\n",
    "plt.plot(pfn.model.history.history['val_acc'])\n",
    "plt.title('model accuracy')\n",
    "plt.ylabel('accuracy')\n",
    "plt.xlabel('epoch')\n",
    "plt.legend(['train', 'val'], loc='upper left')\n",
    "plt.show()"
   ]
  },
  {
   "cell_type": "code",
   "execution_count": 9,
   "metadata": {},
   "outputs": [],
   "source": [
    "\n",
    "# get predictions on test data\n",
    "preds = pfn.predict(X_test)\n"
   ]
  },
  {
   "cell_type": "code",
   "execution_count": 10,
   "metadata": {
    "tags": [
     "outputPrepend",
     "outputPrepend",
     "outputPrepend",
     "outputPrepend",
     "outputPrepend",
     "outputPrepend",
     "outputPrepend",
     "outputPrepend",
     "outputPrepend",
     "outputPrepend",
     "outputPrepend",
     "outputPrepend",
     "outputPrepend",
     "outputPrepend",
     "outputPrepend",
     "outputPrepend"
    ]
   },
   "outputs": [
    {
     "name": "stderr",
     "output_type": "stream",
     "text": [
      " 28%|██▊       | 17040/60786 [00:00<00:00, 85150.90it/s]"
     ]
    },
    {
     "name": "stdout",
     "output_type": "stream",
     "text": [
      "accuracy around 66.93 percent\n"
     ]
    },
    {
     "name": "stderr",
     "output_type": "stream",
     "text": [
      "100%|██████████| 60786/60786 [00:00<00:00, 83336.81it/s]\n"
     ]
    },
    {
     "name": "stdout",
     "output_type": "stream",
     "text": [
      "accuracy actually 66.93 percent\n",
      "ignoring 0.0 percent of 60786 events\n"
     ]
    },
    {
     "data": {
      "image/png": "[encoded data removed]",
      "text/plain": [
       "<Figure size 432x288 with 1 Axes>"
      ]
     },
     "metadata": {
      "needs_background": "light"
     },
     "output_type": "display_data"
    },
    {
     "data": {
      "image/png": "[encoded data removed]",
      "text/plain": [
       "<Figure size 432x288 with 1 Axes>"
      ]
     },
     "metadata": {
      "needs_background": "light"
     },
     "output_type": "display_data"
    },
    {
     "data": {
      "image/png": "[encoded data removed]",
      "text/plain": [
       "<Figure size 432x288 with 1 Axes>"
      ]
     },
     "metadata": {
      "needs_background": "light"
     },
     "output_type": "display_data"
    }
   ],
   "source": [
    "Y_concat = np.concatenate((np.ones((len(Y_test), 3)), Y_test), axis=1).astype(int)  # add 3 1s to the start of each event\n",
    "truth = Y_concat[:,:-1]  # cut off no-jet jet\n",
    "tag = X_test[:,:,3].astype(int)\n",
    "\n",
    "\n",
    "preds_max = np.argmax(preds, axis=1) + 3\n",
    "preds_arr = np.zeros((len(preds), len(preds[0])+3), dtype=int)\n",
    "for i, p in enumerate(preds_max):\n",
    "    preds_arr[i][p] = 1\n",
    "\n",
    "# make sure we're getting the right accuracy\n",
    "n_events = len(preds_arr)\n",
    "n_correct = 0\n",
    "for i in range(len(preds_arr)):\n",
    "    if all(preds_arr[i][3:] == Y_test[i]):\n",
    "        n_correct += 1\n",
    "    \n",
    "# chop off 'no jet' jet\n",
    "selections = preds_arr[:,:-1].astype(int)\n",
    "\n",
    "\n",
    "# ensure accuracy again\n",
    "n_events = len(truth)\n",
    "n_correct = 0\n",
    "for i in range(len(truth)):\n",
    "    if all(truth[i][3:] == selections[i][3:]):\n",
    "        n_correct += 1\n",
    "\n",
    "import importlib\n",
    "importlib.reload(tools)\n",
    "\n",
    "#print(truth.shape, tag.shape, selections.shape)\n",
    "tools.evaluate_model(truth, tag, selections)\n",
    "\n",
    "plt.title(\"truth\")\n",
    "plt.hist(y.argmax(axis=1), bins=15, density=True)\n",
    "plt.show()\n",
    "\n",
    "\n",
    "plt.title(\"selections\")\n",
    "plt.hist(preds_max, bins=15, density=True)\n",
    "plt.show()\n"
   ]
  },
  {
   "cell_type": "code",
   "execution_count": null,
   "metadata": {},
   "outputs": [],
   "source": []
  },
  {
   "cell_type": "code",
   "execution_count": null,
   "metadata": {},
   "outputs": [],
   "source": [
    "\n"
   ]
  },
  {
   "cell_type": "code",
   "execution_count": null,
   "metadata": {},
   "outputs": [],
   "source": []
  },
  {
   "cell_type": "code",
   "execution_count": null,
   "metadata": {},
   "outputs": [],
   "source": []
  },
  {
   "cell_type": "code",
   "execution_count": null,
   "metadata": {},
   "outputs": [],
   "source": []
  },
  {
   "cell_type": "code",
   "execution_count": null,
   "metadata": {},
   "outputs": [],
   "source": []
  },
  {
   "cell_type": "code",
   "execution_count": null,
   "metadata": {},
   "outputs": [],
   "source": []
  },
  {
   "cell_type": "code",
   "execution_count": null,
   "metadata": {},
   "outputs": [],
   "source": []
  },
  {
   "cell_type": "code",
   "execution_count": null,
   "metadata": {},
   "outputs": [],
   "source": []
  },
  {
   "cell_type": "code",
   "execution_count": null,
   "metadata": {},
   "outputs": [],
   "source": []
  },
  {
   "cell_type": "code",
   "execution_count": null,
   "metadata": {},
   "outputs": [],
   "source": []
  },
  {
   "cell_type": "code",
   "execution_count": null,
   "metadata": {},
   "outputs": [],
   "source": []
  },
  {
   "cell_type": "code",
   "execution_count": null,
   "metadata": {},
   "outputs": [],
   "source": []
  },
  {
   "cell_type": "code",
   "execution_count": null,
   "metadata": {},
   "outputs": [],
   "source": []
  },
  {
   "cell_type": "code",
   "execution_count": null,
   "metadata": {},
   "outputs": [],
   "source": []
  },
  {
   "cell_type": "code",
   "execution_count": null,
   "metadata": {},
   "outputs": [],
   "source": []
  },
  {
   "cell_type": "code",
   "execution_count": null,
   "metadata": {},
   "outputs": [],
   "source": []
  },
  {
   "cell_type": "code",
   "execution_count": null,
   "metadata": {},
   "outputs": [],
   "source": []
  }
 ],
 "metadata": {
  "kernelspec": {
   "display_name": "Python 3",
   "language": "python",
   "name": "python3"
  },
  "language_info": {
   "codemirror_mode": {
    "name": "ipython",
    "version": 3
   },
   "file_extension": ".py",
   "mimetype": "text/x-python",
   "name": "python",
   "nbconvert_exporter": "python",
   "pygments_lexer": "ipython3",
   "version": "3.7.6"
  }
 },
 "nbformat": 4,
 "nbformat_minor": 4
}
