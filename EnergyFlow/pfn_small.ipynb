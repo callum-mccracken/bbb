{
 "cells": [
  {
   "cell_type": "code",
   "execution_count": 1,
   "metadata": {},
   "outputs": [
    {
     "name": "stderr",
     "output_type": "stream",
     "text": [
      "Using TensorFlow backend.\n"
     ]
    }
   ],
   "source": [
    "import os\n",
    "os.environ[\"CUDA_DEVICE_ORDER\"]=\"PCI_BUS_ID\"   # see issue #152\n",
    "os.environ[\"CUDA_VISIBLE_DEVICES\"]=\"6\"\n",
    "\n",
    "# standard numerical library imports\n",
    "import numpy as np\n",
    "\n",
    "# energyflow imports\n",
    "import energyflow as ef\n",
    "from energyflow.archs import PFN\n",
    "from energyflow.datasets import qg_jets\n",
    "from energyflow.utils import data_split, remap_pids, to_categorical\n",
    "\n",
    "import matplotlib.pyplot as plt\n",
    "\n",
    "from tqdm import tqdm\n",
    "\n",
    "import importlib\n",
    "\n",
    "import sys\n",
    "import os\n",
    "sys.path.append(os.path.realpath(\"..\"))\n",
    "import tools\n",
    "import ef_tools"
   ]
  },
  {
   "cell_type": "code",
   "execution_count": 2,
   "metadata": {},
   "outputs": [
    {
     "name": "stdout",
     "output_type": "stream",
     "text": [
      "padding arrays\n",
      "done padding\n",
      "777150 events total\n",
      "444528 events after ensuring first 3 are correctly tagged\n",
      "307055 events after ensuring we only have 3 tags\n",
      "303931 events after ensuring there is at most 1 untagged jet\n",
      "(303931, 11)\n",
      "Loaded jets\n"
     ]
    }
   ],
   "source": [
    "import importlib\n",
    "importlib.reload(ef_tools)\n",
    "################################################################################\n",
    "\n",
    "# load data\n",
    "if False: #os.path.exists(\"X.npy\"):\n",
    "    X = np.load(\"X.npy\", allow_pickle=True)\n",
    "    y = np.load(\"y.npy\", allow_pickle=True)\n",
    "else:\n",
    "    X, y = ef_tools.open_file(\"/fast_scratch/atlas_bbbb/MAR20p0/user.jagrundy.20736236._000001.MiniNTuple.root\", njets=10)\n",
    "    np.save(\"X.npy\", X, allow_pickle=True)\n",
    "    np.save(\"y.npy\", y, allow_pickle=True)\n",
    "\n",
    "# load data\n",
    "#X, y = qg_jets.load(train + val + test)\n",
    "\n",
    "# convert labels to categorical\n",
    "Y=y\n",
    "#Y = to_categorical(y, num_classes=2)\n",
    "print(Y.shape)\n",
    "print('Loaded jets')"
   ]
  },
  {
   "cell_type": "code",
   "execution_count": 3,
   "metadata": {},
   "outputs": [
    {
     "name": "stdout",
     "output_type": "stream",
     "text": [
      "(303931, 10, 4)\n"
     ]
    }
   ],
   "source": [
    "print(X.shape)"
   ]
  },
  {
   "cell_type": "code",
   "execution_count": 4,
   "metadata": {},
   "outputs": [
    {
     "name": "stderr",
     "output_type": "stream",
     "text": [
      "100%|██████████| 303931/303931 [00:25<00:00, 11991.16it/s]"
     ]
    },
    {
     "name": "stdout",
     "output_type": "stream",
     "text": [
      "Finished preprocessing\n"
     ]
    },
    {
     "name": "stderr",
     "output_type": "stream",
     "text": [
      "\n"
     ]
    }
   ],
   "source": [
    "# preprocess by centering jets and normalizing pts\n",
    "for x in tqdm(X):\n",
    "    mask = x[:,0] > 0\n",
    "    yphi_avg = np.average(x[mask,1:3], weights=x[mask,0], axis=0)\n",
    "    x[mask,1:3] -= yphi_avg\n",
    "    x[mask,0] /= x[:,0].sum()\n",
    "\n",
    "print('Finished preprocessing')"
   ]
  },
  {
   "cell_type": "code",
   "execution_count": 5,
   "metadata": {},
   "outputs": [],
   "source": [
    "################################### SETTINGS ###################################\n",
    "# the commented values correspond to those in 1810.05165\n",
    "###############################################################################\n",
    "\n",
    "# data controls, fractions of 1\n",
    "train, val, test = 0.7, 0.1, 0.2\n",
    "# train, val, test = 1000000, 200000, 200000\n",
    "\n",
    "# network architecture parameters\n",
    "Phi_sizes, F_sizes = (700, 500, 300, 100), (700, 500, 300, 100)\n",
    "\n",
    "# network training parameters\n",
    "num_epoch = 50\n",
    "batch_size = 500"
   ]
  },
  {
   "cell_type": "code",
   "execution_count": 6,
   "metadata": {},
   "outputs": [
    {
     "name": "stdout",
     "output_type": "stream",
     "text": [
      "Done train/val/test split\n",
      "Model summary:\n",
      "Model: \"model_1\"\n",
      "__________________________________________________________________________________________________\n",
      "Layer (type)                    Output Shape         Param #     Connected to                     \n",
      "==================================================================================================\n",
      "input (InputLayer)              (None, None, 4)      0                                            \n",
      "__________________________________________________________________________________________________\n",
      "tdist_0 (TimeDistributed)       (None, None, 100)    500         input[0][0]                      \n",
      "__________________________________________________________________________________________________\n",
      "activation_1 (Activation)       (None, None, 100)    0           tdist_0[0][0]                    \n",
      "__________________________________________________________________________________________________\n",
      "tdist_1 (TimeDistributed)       (None, None, 300)    30300       activation_1[0][0]               \n",
      "__________________________________________________________________________________________________\n",
      "activation_2 (Activation)       (None, None, 300)    0           tdist_1[0][0]                    \n",
      "__________________________________________________________________________________________________\n",
      "tdist_2 (TimeDistributed)       (None, None, 500)    150500      activation_2[0][0]               \n",
      "__________________________________________________________________________________________________\n",
      "activation_3 (Activation)       (None, None, 500)    0           tdist_2[0][0]                    \n",
      "__________________________________________________________________________________________________\n",
      "tdist_3 (TimeDistributed)       (None, None, 700)    350700      activation_3[0][0]               \n",
      "__________________________________________________________________________________________________\n",
      "activation_4 (Activation)       (None, None, 700)    0           tdist_3[0][0]                    \n",
      "__________________________________________________________________________________________________\n",
      "tdist_4 (TimeDistributed)       (None, None, 500)    350500      activation_4[0][0]               \n",
      "__________________________________________________________________________________________________\n",
      "activation_5 (Activation)       (None, None, 500)    0           tdist_4[0][0]                    \n",
      "__________________________________________________________________________________________________\n",
      "tdist_5 (TimeDistributed)       (None, None, 300)    150300      activation_5[0][0]               \n",
      "__________________________________________________________________________________________________\n",
      "mask (Lambda)                   (None, None)         0           input[0][0]                      \n",
      "__________________________________________________________________________________________________\n",
      "activation_6 (Activation)       (None, None, 300)    0           tdist_5[0][0]                    \n",
      "__________________________________________________________________________________________________\n",
      "sum (Dot)                       (None, 300)          0           mask[0][0]                       \n",
      "                                                                 activation_6[0][0]               \n",
      "__________________________________________________________________________________________________\n",
      "dense_0 (Dense)                 (None, 700)          210700      sum[0][0]                        \n",
      "__________________________________________________________________________________________________\n",
      "activation_7 (Activation)       (None, 700)          0           dense_0[0][0]                    \n",
      "__________________________________________________________________________________________________\n",
      "dense_1 (Dense)                 (None, 500)          350500      activation_7[0][0]               \n",
      "__________________________________________________________________________________________________\n",
      "activation_8 (Activation)       (None, 500)          0           dense_1[0][0]                    \n",
      "__________________________________________________________________________________________________\n",
      "dense_2 (Dense)                 (None, 300)          150300      activation_8[0][0]               \n",
      "__________________________________________________________________________________________________\n",
      "activation_9 (Activation)       (None, 300)          0           dense_2[0][0]                    \n",
      "__________________________________________________________________________________________________\n",
      "dense_3 (Dense)                 (None, 100)          30100       activation_9[0][0]               \n",
      "__________________________________________________________________________________________________\n",
      "activation_10 (Activation)      (None, 100)          0           dense_3[0][0]                    \n",
      "__________________________________________________________________________________________________\n",
      "output (Dense)                  (None, 8)            808         activation_10[0][0]              \n",
      "__________________________________________________________________________________________________\n",
      "activation_11 (Activation)      (None, 8)            0           output[0][0]                     \n",
      "==================================================================================================\n",
      "Total params: 1,775,208\n",
      "Trainable params: 1,775,208\n",
      "Non-trainable params: 0\n",
      "__________________________________________________________________________________________________\n"
     ]
    }
   ],
   "source": [
    "input_dim = X.shape[2]  # parameters per jet\n",
    "\n",
    "Y = y[:,3:]  # chop off first 3 jets which are always 1\n",
    "\n",
    "# do train/val/test split \n",
    "(X_train, X_val, X_test,\n",
    " Y_train, Y_val, Y_test) = data_split(X, Y, val=val, test=test)\n",
    "\n",
    "if False:\n",
    "    plt.title(\"y\")\n",
    "    plt.hist(y.argmax(axis=1), bins=15)\n",
    "    plt.show()\n",
    "    plt.title(\"Y\")\n",
    "    plt.hist(Y.argmax(axis=1)+3, bins=15)\n",
    "    plt.show()\n",
    "    plt.title(\"Y_train\")\n",
    "    plt.hist(Y_train.argmax(axis=1)+3, bins=15)\n",
    "    plt.show()\n",
    "    plt.title(\"Y_val\")\n",
    "    plt.hist(Y_val.argmax(axis=1)+3, bins=15)\n",
    "    plt.show()\n",
    "    plt.title(\"Y_test\")\n",
    "    plt.hist(Y_test.argmax(axis=1)+3, bins=15)\n",
    "    plt.show()\n",
    "\n",
    "print('Done train/val/test split')\n",
    "print('Model summary:')\n",
    "\n",
    "# build architecture\n",
    "# should use optimizer Adam(lr=5e-5)\n",
    "pfn = PFN(input_dim=input_dim, output_dim=Y.shape[1], Phi_sizes=Phi_sizes, F_sizes=F_sizes)#, Phi_l2_regs=0.0001, F_l2_regs=0.0001)"
   ]
  },
  {
   "cell_type": "code",
   "execution_count": 7,
   "metadata": {},
   "outputs": [
    {
     "name": "stdout",
     "output_type": "stream",
     "text": [
      "Train on 212752 samples, validate on 30393 samples\n",
      "Epoch 1/50\n",
      "212752/212752 [==============================] - 16s 76us/step - loss: 1.8674 - acc: 0.5319 - val_loss: 1.5487 - val_acc: 0.5677\n",
      "Epoch 2/50\n",
      "212752/212752 [==============================] - 14s 68us/step - loss: 1.4780 - acc: 0.5893 - val_loss: 1.4175 - val_acc: 0.6022\n",
      "Epoch 3/50\n",
      "212752/212752 [==============================] - 14s 66us/step - loss: 1.3870 - acc: 0.6061 - val_loss: 1.3625 - val_acc: 0.6092\n",
      "Epoch 4/50\n",
      "212752/212752 [==============================] - 14s 66us/step - loss: 1.3218 - acc: 0.6164 - val_loss: 1.2972 - val_acc: 0.6186\n",
      "Epoch 5/50\n",
      "212752/212752 [==============================] - 14s 66us/step - loss: 1.2687 - acc: 0.6229 - val_loss: 1.2599 - val_acc: 0.6208\n",
      "Epoch 6/50\n",
      "212752/212752 [==============================] - 14s 66us/step - loss: 1.2223 - acc: 0.6282 - val_loss: 1.2285 - val_acc: 0.6244\n",
      "Epoch 7/50\n",
      "212752/212752 [==============================] - 14s 67us/step - loss: 1.1824 - acc: 0.6327 - val_loss: 1.1681 - val_acc: 0.6322\n",
      "Epoch 8/50\n",
      "212752/212752 [==============================] - 14s 66us/step - loss: 1.1420 - acc: 0.6374 - val_loss: 1.1393 - val_acc: 0.6366\n",
      "Epoch 9/50\n",
      "212752/212752 [==============================] - 14s 66us/step - loss: 1.1095 - acc: 0.6400 - val_loss: 1.1193 - val_acc: 0.6343\n",
      "Epoch 10/50\n",
      "212752/212752 [==============================] - 14s 67us/step - loss: 1.0782 - acc: 0.6445 - val_loss: 1.0825 - val_acc: 0.6359\n",
      "Epoch 11/50\n",
      "212752/212752 [==============================] - 14s 66us/step - loss: 1.0502 - acc: 0.6475 - val_loss: 1.0631 - val_acc: 0.6364\n",
      "Epoch 12/50\n",
      "212752/212752 [==============================] - 14s 67us/step - loss: 1.0244 - acc: 0.6515 - val_loss: 1.0557 - val_acc: 0.6365\n",
      "Epoch 13/50\n",
      "212752/212752 [==============================] - 14s 66us/step - loss: 1.0023 - acc: 0.6535 - val_loss: 1.0032 - val_acc: 0.6488\n",
      "Epoch 14/50\n",
      "212752/212752 [==============================] - 14s 66us/step - loss: 0.9817 - acc: 0.6564 - val_loss: 0.9924 - val_acc: 0.6491\n",
      "Epoch 15/50\n",
      "212752/212752 [==============================] - 14s 66us/step - loss: 0.9631 - acc: 0.6596 - val_loss: 0.9763 - val_acc: 0.6532\n",
      "Epoch 16/50\n",
      "212752/212752 [==============================] - 14s 66us/step - loss: 0.9431 - acc: 0.6639 - val_loss: 0.9550 - val_acc: 0.6562\n",
      "Epoch 17/50\n",
      "212752/212752 [==============================] - 14s 66us/step - loss: 0.9321 - acc: 0.6658 - val_loss: 0.9565 - val_acc: 0.6556\n",
      "Epoch 18/50\n",
      "212752/212752 [==============================] - 14s 66us/step - loss: 0.9162 - acc: 0.6689 - val_loss: 0.9381 - val_acc: 0.6573\n",
      "Epoch 19/50\n",
      "212752/212752 [==============================] - 14s 66us/step - loss: 0.9054 - acc: 0.6717 - val_loss: 0.9345 - val_acc: 0.6517\n",
      "Epoch 20/50\n",
      "212752/212752 [==============================] - 14s 66us/step - loss: 0.8959 - acc: 0.6732 - val_loss: 0.9194 - val_acc: 0.6612\n",
      "Epoch 21/50\n",
      "212752/212752 [==============================] - 14s 67us/step - loss: 0.8869 - acc: 0.6759 - val_loss: 0.9213 - val_acc: 0.6602\n",
      "Epoch 22/50\n",
      "212752/212752 [==============================] - 14s 67us/step - loss: 0.8773 - acc: 0.6798 - val_loss: 0.9094 - val_acc: 0.6636\n",
      "Epoch 23/50\n",
      "212752/212752 [==============================] - 14s 67us/step - loss: 0.8701 - acc: 0.6820 - val_loss: 0.9024 - val_acc: 0.6629\n",
      "Epoch 24/50\n",
      "212752/212752 [==============================] - 14s 66us/step - loss: 0.8615 - acc: 0.6845 - val_loss: 0.9088 - val_acc: 0.6656\n",
      "Epoch 25/50\n",
      "212752/212752 [==============================] - 14s 67us/step - loss: 0.8559 - acc: 0.6868 - val_loss: 0.8870 - val_acc: 0.6713\n",
      "Epoch 26/50\n",
      "212752/212752 [==============================] - 14s 66us/step - loss: 0.8510 - acc: 0.6890 - val_loss: 0.9060 - val_acc: 0.6654\n",
      "Epoch 27/50\n",
      "212752/212752 [==============================] - 14s 66us/step - loss: 0.8443 - acc: 0.6906 - val_loss: 0.8920 - val_acc: 0.6683\n",
      "Epoch 28/50\n",
      "212752/212752 [==============================] - 14s 66us/step - loss: 0.8383 - acc: 0.6927 - val_loss: 0.8880 - val_acc: 0.6710\n",
      "Epoch 29/50\n",
      "212752/212752 [==============================] - 14s 67us/step - loss: 0.8326 - acc: 0.6965 - val_loss: 0.8901 - val_acc: 0.6698\n",
      "Epoch 30/50\n",
      "212752/212752 [==============================] - 14s 66us/step - loss: 0.8280 - acc: 0.6996 - val_loss: 0.8964 - val_acc: 0.6687\n",
      "Epoch 31/50\n",
      "212752/212752 [==============================] - 14s 66us/step - loss: 0.8257 - acc: 0.6999 - val_loss: 0.8983 - val_acc: 0.6705\n",
      "Epoch 32/50\n",
      "212752/212752 [==============================] - 14s 66us/step - loss: 0.8175 - acc: 0.7025 - val_loss: 0.8984 - val_acc: 0.6688\n",
      "Epoch 33/50\n",
      "212752/212752 [==============================] - 14s 66us/step - loss: 0.8138 - acc: 0.7056 - val_loss: 0.9029 - val_acc: 0.6648\n",
      "Epoch 34/50\n",
      "212752/212752 [==============================] - 14s 66us/step - loss: 0.8081 - acc: 0.7079 - val_loss: 0.9028 - val_acc: 0.6655\n",
      "Epoch 35/50\n",
      "212752/212752 [==============================] - 14s 66us/step - loss: 0.8055 - acc: 0.7103 - val_loss: 0.9006 - val_acc: 0.6693\n",
      "Epoch 36/50\n",
      "212752/212752 [==============================] - 14s 66us/step - loss: 0.8006 - acc: 0.7113 - val_loss: 0.9119 - val_acc: 0.6623\n",
      "Epoch 37/50\n",
      "212752/212752 [==============================] - 14s 67us/step - loss: 0.7961 - acc: 0.7153 - val_loss: 0.9068 - val_acc: 0.6668\n",
      "Epoch 38/50\n",
      "212752/212752 [==============================] - 14s 67us/step - loss: 0.7916 - acc: 0.7169 - val_loss: 0.9052 - val_acc: 0.6708\n",
      "Epoch 39/50\n",
      "212752/212752 [==============================] - 14s 67us/step - loss: 0.7864 - acc: 0.7206 - val_loss: 0.9204 - val_acc: 0.6637\n",
      "Epoch 40/50\n",
      "212752/212752 [==============================] - 14s 66us/step - loss: 0.7810 - acc: 0.7235 - val_loss: 0.9238 - val_acc: 0.6636\n",
      "Epoch 41/50\n",
      "212752/212752 [==============================] - 14s 66us/step - loss: 0.7787 - acc: 0.7242 - val_loss: 0.9436 - val_acc: 0.6577\n",
      "Epoch 42/50\n",
      "212752/212752 [==============================] - 14s 66us/step - loss: 0.7732 - acc: 0.7280 - val_loss: 0.9302 - val_acc: 0.6680\n",
      "Epoch 43/50\n",
      "212752/212752 [==============================] - 14s 66us/step - loss: 0.7670 - acc: 0.7298 - val_loss: 0.9338 - val_acc: 0.6621\n",
      "Epoch 44/50\n",
      "212752/212752 [==============================] - 14s 67us/step - loss: 0.7628 - acc: 0.7331 - val_loss: 0.9373 - val_acc: 0.6724\n",
      "Epoch 45/50\n",
      "212752/212752 [==============================] - 14s 66us/step - loss: 0.7607 - acc: 0.7347 - val_loss: 0.9553 - val_acc: 0.6596\n",
      "Epoch 46/50\n",
      "212752/212752 [==============================] - 14s 67us/step - loss: 0.7536 - acc: 0.7371 - val_loss: 0.9558 - val_acc: 0.6605\n",
      "Epoch 47/50\n",
      "212752/212752 [==============================] - 14s 67us/step - loss: 0.7475 - acc: 0.7415 - val_loss: 0.9742 - val_acc: 0.6610\n",
      "Epoch 48/50\n",
      "212752/212752 [==============================] - 14s 66us/step - loss: 0.7444 - acc: 0.7438 - val_loss: 0.9544 - val_acc: 0.6647\n",
      "Epoch 49/50\n",
      "212752/212752 [==============================] - 14s 67us/step - loss: 0.7383 - acc: 0.7472 - val_loss: 0.9864 - val_acc: 0.6563\n",
      "Epoch 50/50\n",
      "212752/212752 [==============================] - 14s 66us/step - loss: 0.7343 - acc: 0.7499 - val_loss: 0.9734 - val_acc: 0.6623\n"
     ]
    },
    {
     "data": {
      "text/plain": [
       "<keras.callbacks.callbacks.History at 0x7f18b3d71c10>"
      ]
     },
     "execution_count": 7,
     "metadata": {},
     "output_type": "execute_result"
    }
   ],
   "source": [
    "# train model\n",
    "pfn.fit(X_train, Y_train,\n",
    "          epochs=num_epoch,\n",
    "          batch_size=batch_size,\n",
    "          validation_data=(X_val, Y_val),\n",
    "          verbose=1)"
   ]
  },
  {
   "cell_type": "code",
   "execution_count": 8,
   "metadata": {},
   "outputs": [
    {
     "data": {
      "image/png": "[encoded data removed]",
      "text/plain": [
       "<Figure size 432x288 with 1 Axes>"
      ]
     },
     "metadata": {
      "needs_background": "light"
     },
     "output_type": "display_data"
    }
   ],
   "source": [
    "plt.plot(pfn.model.history.history['acc'])\n",
    "plt.plot(pfn.model.history.history['val_acc'])\n",
    "plt.title('model accuracy')\n",
    "plt.ylabel('accuracy')\n",
    "plt.xlabel('epoch')\n",
    "plt.legend(['train', 'val'], loc='upper left')\n",
    "plt.show()"
   ]
  },
  {
   "cell_type": "code",
   "execution_count": 9,
   "metadata": {},
   "outputs": [],
   "source": [
    "\n",
    "# get predictions on test data\n",
    "preds = pfn.predict(X_test)\n"
   ]
  },
  {
   "cell_type": "code",
   "execution_count": 10,
   "metadata": {
    "tags": [
     "outputPrepend",
     "outputPrepend",
     "outputPrepend",
     "outputPrepend",
     "outputPrepend",
     "outputPrepend",
     "outputPrepend",
     "outputPrepend",
     "outputPrepend",
     "outputPrepend",
     "outputPrepend",
     "outputPrepend",
     "outputPrepend",
     "outputPrepend",
     "outputPrepend",
     "outputPrepend"
    ]
   },
   "outputs": [
    {
     "name": "stderr",
     "output_type": "stream",
     "text": [
      " 29%|██▊       | 17402/60786 [00:00<00:00, 82529.53it/s]"
     ]
    },
    {
     "name": "stdout",
     "output_type": "stream",
     "text": [
      "accuracy around 66.40 percent\n"
     ]
    },
    {
     "name": "stderr",
     "output_type": "stream",
     "text": [
      "100%|██████████| 60786/60786 [00:00<00:00, 83266.10it/s]\n"
     ]
    },
    {
     "name": "stdout",
     "output_type": "stream",
     "text": [
      "accuracy actually 66.40 percent\n",
      "ignoring 0.0 percent of 60786 events\n"
     ]
    },
    {
     "data": {
      "image/png": "[encoded data removed]",
      "text/plain": [
       "<Figure size 432x288 with 1 Axes>"
      ]
     },
     "metadata": {
      "needs_background": "light"
     },
     "output_type": "display_data"
    },
    {
     "data": {
      "image/png": "[encoded data removed]",
      "text/plain": [
       "<Figure size 432x288 with 1 Axes>"
      ]
     },
     "metadata": {
      "needs_background": "light"
     },
     "output_type": "display_data"
    },
    {
     "data": {
      "image/png": "[encoded data removed]",
      "text/plain": [
       "<Figure size 432x288 with 1 Axes>"
      ]
     },
     "metadata": {
      "needs_background": "light"
     },
     "output_type": "display_data"
    }
   ],
   "source": [
    "Y_concat = np.concatenate((np.ones((len(Y_test), 3)), Y_test), axis=1).astype(int)  # add 3 1s to the start of each event\n",
    "truth = Y_concat[:,:-1]  # cut off no-jet jet\n",
    "tag = X_test[:,:,3].astype(int)\n",
    "\n",
    "\n",
    "preds_max = np.argmax(preds, axis=1) + 3\n",
    "preds_arr = np.zeros((len(preds), len(preds[0])+3), dtype=int)\n",
    "for i, p in enumerate(preds_max):\n",
    "    preds_arr[i][p] = 1\n",
    "\n",
    "# make sure we're getting the right accuracy\n",
    "n_events = len(preds_arr)\n",
    "n_correct = 0\n",
    "for i in range(len(preds_arr)):\n",
    "    if all(preds_arr[i][3:] == Y_test[i]):\n",
    "        n_correct += 1\n",
    "    \n",
    "# chop off 'no jet' jet\n",
    "selections = preds_arr[:,:-1].astype(int)\n",
    "\n",
    "\n",
    "# ensure accuracy again\n",
    "n_events = len(truth)\n",
    "n_correct = 0\n",
    "for i in range(len(truth)):\n",
    "    if all(truth[i][3:] == selections[i][3:]):\n",
    "        n_correct += 1\n",
    "\n",
    "import importlib\n",
    "importlib.reload(tools)\n",
    "\n",
    "#print(truth.shape, tag.shape, selections.shape)\n",
    "tools.evaluate_model(truth, tag, selections)\n",
    "\n",
    "plt.title(\"truth\")\n",
    "plt.hist(y.argmax(axis=1), bins=15, density=True)\n",
    "plt.show()\n",
    "\n",
    "\n",
    "plt.title(\"selections\")\n",
    "plt.hist(preds_max, bins=15, density=True)\n",
    "plt.show()\n"
   ]
  },
  {
   "cell_type": "code",
   "execution_count": null,
   "metadata": {},
   "outputs": [],
   "source": []
  },
  {
   "cell_type": "code",
   "execution_count": null,
   "metadata": {},
   "outputs": [],
   "source": [
    "\n"
   ]
  },
  {
   "cell_type": "code",
   "execution_count": null,
   "metadata": {},
   "outputs": [],
   "source": []
  },
  {
   "cell_type": "code",
   "execution_count": null,
   "metadata": {},
   "outputs": [],
   "source": []
  },
  {
   "cell_type": "code",
   "execution_count": null,
   "metadata": {},
   "outputs": [],
   "source": []
  },
  {
   "cell_type": "code",
   "execution_count": null,
   "metadata": {},
   "outputs": [],
   "source": []
  },
  {
   "cell_type": "code",
   "execution_count": null,
   "metadata": {},
   "outputs": [],
   "source": []
  },
  {
   "cell_type": "code",
   "execution_count": null,
   "metadata": {},
   "outputs": [],
   "source": []
  },
  {
   "cell_type": "code",
   "execution_count": null,
   "metadata": {},
   "outputs": [],
   "source": []
  },
  {
   "cell_type": "code",
   "execution_count": null,
   "metadata": {},
   "outputs": [],
   "source": []
  },
  {
   "cell_type": "code",
   "execution_count": null,
   "metadata": {},
   "outputs": [],
   "source": []
  },
  {
   "cell_type": "code",
   "execution_count": null,
   "metadata": {},
   "outputs": [],
   "source": []
  },
  {
   "cell_type": "code",
   "execution_count": null,
   "metadata": {},
   "outputs": [],
   "source": []
  },
  {
   "cell_type": "code",
   "execution_count": null,
   "metadata": {},
   "outputs": [],
   "source": []
  },
  {
   "cell_type": "code",
   "execution_count": null,
   "metadata": {},
   "outputs": [],
   "source": []
  },
  {
   "cell_type": "code",
   "execution_count": null,
   "metadata": {},
   "outputs": [],
   "source": []
  },
  {
   "cell_type": "code",
   "execution_count": null,
   "metadata": {},
   "outputs": [],
   "source": []
  }
 ],
 "metadata": {
  "kernelspec": {
   "display_name": "Python 3",
   "language": "python",
   "name": "python3"
  },
  "language_info": {
   "codemirror_mode": {
    "name": "ipython",
    "version": 3
   },
   "file_extension": ".py",
   "mimetype": "text/x-python",
   "name": "python",
   "nbconvert_exporter": "python",
   "pygments_lexer": "ipython3",
   "version": "3.7.6"
  }
 },
 "nbformat": 4,
 "nbformat_minor": 4
}