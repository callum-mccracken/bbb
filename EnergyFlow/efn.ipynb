{
 "cells": [
  {
   "cell_type": "markdown",
   "metadata": {},
   "source": [
    "\n",
    "# EnergyFlowNetwork"
   ]
  },
  {
   "cell_type": "code",
   "execution_count": 1,
   "metadata": {},
   "outputs": [
    {
     "name": "stderr",
     "output_type": "stream",
     "text": [
      "Using TensorFlow backend.\n"
     ]
    },
    {
     "name": "stdout",
     "output_type": "stream",
     "text": [
      "Loaded jets\n",
      "Finished preprocessing\n",
      "Done train/val/test split\n",
      "Model summary:\n",
      "Model: \"model_1\"\n",
      "__________________________________________________________________________________________________\n",
      "Layer (type)                    Output Shape         Param #     Connected to                     \n",
      "==================================================================================================\n",
      "phats_input (InputLayer)        (None, None, 3)      0                                            \n",
      "__________________________________________________________________________________________________\n",
      "tdist_0 (TimeDistributed)       (None, None, 700)    2800        phats_input[0][0]                \n",
      "__________________________________________________________________________________________________\n",
      "activation_1 (Activation)       (None, None, 700)    0           tdist_0[0][0]                    \n",
      "__________________________________________________________________________________________________\n",
      "tdist_1 (TimeDistributed)       (None, None, 500)    350500      activation_1[0][0]               \n",
      "__________________________________________________________________________________________________\n",
      "activation_2 (Activation)       (None, None, 500)    0           tdist_1[0][0]                    \n",
      "__________________________________________________________________________________________________\n",
      "tdist_2 (TimeDistributed)       (None, None, 300)    150300      activation_2[0][0]               \n",
      "__________________________________________________________________________________________________\n",
      "activation_3 (Activation)       (None, None, 300)    0           tdist_2[0][0]                    \n",
      "__________________________________________________________________________________________________\n",
      "tdist_3 (TimeDistributed)       (None, None, 100)    30100       activation_3[0][0]               \n",
      "__________________________________________________________________________________________________\n",
      "activation_4 (Activation)       (None, None, 100)    0           tdist_3[0][0]                    \n",
      "__________________________________________________________________________________________________\n",
      "zs_input (InputLayer)           (None, None)         0                                            \n",
      "__________________________________________________________________________________________________\n",
      "tdist_4 (TimeDistributed)       (None, None, 50)     5050        activation_4[0][0]               \n",
      "__________________________________________________________________________________________________\n",
      "mask (Lambda)                   (None, None)         0           zs_input[0][0]                   \n",
      "__________________________________________________________________________________________________\n",
      "activation_5 (Activation)       (None, None, 50)     0           tdist_4[0][0]                    \n",
      "__________________________________________________________________________________________________\n",
      "sum (Dot)                       (None, 50)           0           mask[0][0]                       \n",
      "                                                                 activation_5[0][0]               \n",
      "__________________________________________________________________________________________________\n",
      "dense_0 (Dense)                 (None, 700)          35700       sum[0][0]                        \n",
      "__________________________________________________________________________________________________\n",
      "activation_6 (Activation)       (None, 700)          0           dense_0[0][0]                    \n",
      "__________________________________________________________________________________________________\n",
      "dense_1 (Dense)                 (None, 500)          350500      activation_6[0][0]               \n",
      "__________________________________________________________________________________________________\n",
      "activation_7 (Activation)       (None, 500)          0           dense_1[0][0]                    \n",
      "__________________________________________________________________________________________________\n",
      "dense_2 (Dense)                 (None, 300)          150300      activation_7[0][0]               \n",
      "__________________________________________________________________________________________________\n",
      "activation_8 (Activation)       (None, 300)          0           dense_2[0][0]                    \n",
      "__________________________________________________________________________________________________\n",
      "dense_3 (Dense)                 (None, 100)          30100       activation_8[0][0]               \n",
      "__________________________________________________________________________________________________\n",
      "activation_9 (Activation)       (None, 100)          0           dense_3[0][0]                    \n",
      "__________________________________________________________________________________________________\n",
      "dense_4 (Dense)                 (None, 50)           5050        activation_9[0][0]               \n",
      "__________________________________________________________________________________________________\n",
      "activation_10 (Activation)      (None, 50)           0           dense_4[0][0]                    \n",
      "__________________________________________________________________________________________________\n",
      "output (Dense)                  (None, 16)           816         activation_10[0][0]              \n",
      "__________________________________________________________________________________________________\n",
      "activation_11 (Activation)      (None, 16)           0           output[0][0]                     \n",
      "==================================================================================================\n",
      "Total params: 1,111,216\n",
      "Trainable params: 1,111,216\n",
      "Non-trainable params: 0\n",
      "__________________________________________________________________________________________________\n",
      "Train on 410653 samples, validate on 10000 samples\n",
      "Epoch 1/10\n",
      "410653/410653 [==============================] - 127s 309us/step - loss: 1.0548 - acc: 0.5946 - val_loss: 1.0220 - val_acc: 0.5982\n",
      "Epoch 2/10\n",
      "410653/410653 [==============================] - 124s 301us/step - loss: 1.0186 - acc: 0.5952 - val_loss: 1.0107 - val_acc: 0.5974\n",
      "Epoch 3/10\n",
      "410653/410653 [==============================] - 123s 300us/step - loss: 1.0015 - acc: 0.5954 - val_loss: 1.0045 - val_acc: 0.5982\n",
      "Epoch 4/10\n",
      "410653/410653 [==============================] - 122s 296us/step - loss: 0.9911 - acc: 0.5953 - val_loss: 0.9919 - val_acc: 0.5982\n",
      "Epoch 5/10\n",
      "410653/410653 [==============================] - 123s 299us/step - loss: 0.9822 - acc: 0.5953 - val_loss: 0.9771 - val_acc: 0.5982\n",
      "Epoch 6/10\n",
      "410653/410653 [==============================] - 124s 303us/step - loss: 0.9760 - acc: 0.5950 - val_loss: 0.9706 - val_acc: 0.5987\n",
      "Epoch 7/10\n",
      "410653/410653 [==============================] - 123s 299us/step - loss: 0.9683 - acc: 0.5954 - val_loss: 0.9634 - val_acc: 0.5931\n",
      "Epoch 8/10\n",
      "410653/410653 [==============================] - 121s 295us/step - loss: 0.9601 - acc: 0.5952 - val_loss: 0.9524 - val_acc: 0.5984\n",
      "Epoch 9/10\n",
      "410653/410653 [==============================] - 122s 297us/step - loss: 0.9560 - acc: 0.5953 - val_loss: 0.9518 - val_acc: 0.6006\n",
      "Epoch 10/10\n",
      "410653/410653 [==============================] - 123s 299us/step - loss: 0.9524 - acc: 0.5955 - val_loss: 0.9509 - val_acc: 0.6007\n"
     ]
    },
    {
     "data": {
      "text/plain": [
       "<keras.callbacks.callbacks.History at 0x7fd31dd4c3d0>"
      ]
     },
     "execution_count": 1,
     "metadata": {},
     "output_type": "execute_result"
    }
   ],
   "source": [
    "# standard imports\n",
    "import numpy as np\n",
    "import os\n",
    "import sys\n",
    "\n",
    "# energyflow imports\n",
    "import energyflow as ef\n",
    "from energyflow.archs import EFN\n",
    "from energyflow.utils import data_split, standardize, to_categorical\n",
    "\n",
    "# other imports\n",
    "from sklearn.metrics import roc_auc_score, roc_curve\n",
    "import matplotlib.pyplot as plt\n",
    "\n",
    "import EnergyFlow.ef_tools as ef_tools\n",
    "import tools\n",
    "################################### SETTINGS ###################################\n",
    "\n",
    "# data controls\n",
    "test_frac = 0.2\n",
    "\n",
    "# efn parameters\n",
    "\"\"\"\n",
    "Required EFN Hyperparameters\n",
    "\n",
    "input_dim : int\n",
    "    The number of features for each particle.\n",
    "Phi_sizes (formerly ppm_sizes) : {tuple, list} of int\n",
    "    The sizes of the dense layers in the per-particle frontend module Φ.\n",
    "    The last element will be the number of latent observables that the model defines.\n",
    "F_sizes (formerly dense_sizes) : {tuple, list} of int\n",
    "    The sizes of the dense layers in the backend module F.\n",
    "\"\"\"\n",
    "\n",
    "# data controls, can go up to 2000000 total for full dataset\n",
    "train, val, test = 75000, 10000, 15000\n",
    "# train, val, test = 1000000, 200000, 200000\n",
    "\n",
    "# network architecture parameters\n",
    "Phi_sizes, F_sizes = (700, 500, 300, 100, 50), (700, 500, 300, 100, 50)\n",
    "#Phi_sizes, F_sizes = (100, 50), (100, 50)\n",
    "\n",
    "# network training parameters\n",
    "num_epoch = 10\n",
    "batch_size = 500\n",
    "################################################################################\n",
    "\n",
    "# load data\n",
    "if os.path.exists(\"X.npy\"):\n",
    "    X = np.load(\"X.npy\", allow_pickle=True)\n",
    "    y = np.load(\"y.npy\", allow_pickle=True)\n",
    "else:\n",
    "    X, y = ef_tools.open_file(\"/home/callum/Documents/bbb/user.jagrundy.20736236._000001.MiniNTuple.root\")\n",
    "    np.save(\"X.npy\", X, allow_pickle=True)\n",
    "    np.save(\"y.npy\", y, allow_pickle=True)\n",
    "\n",
    "X, tag = X[:,:,:3], X[:,:,3]\n",
    "\n",
    "# convert labels to categorical\n",
    "# our data was already categorical, ignore\n",
    "Y = y\n",
    "#print(Y[0])\n",
    "\n",
    "print('Loaded jets')\n",
    "\n",
    "# preprocess by centering jets and normalizing pts\n",
    "# not actually sure why they do this\n",
    "for x in X:\n",
    "    mask = x[:,0] > 0\n",
    "    etaphi_avg = np.average(x[mask,1:3], weights=x[mask,0], axis=0)\n",
    "    x[mask,1:3] -= etaphi_avg\n",
    "    x[mask,0] /= x[:,0].sum()\n",
    "\n",
    "print('Finished preprocessing')\n",
    "# do train/val/test split \n",
    "(pt_train, pt_val, pt_test, \n",
    " eta_train, eta_val, eta_test,\n",
    " phi_train, phi_val, phi_test,\n",
    " Y_train, Y_val, Y_test) = data_split(X[:,:,0], X[:,:,1], X[:,:,2], Y, val=val, test=test)\n",
    "\n",
    "print('Done train/val/test split')\n",
    "print('Model summary:')\n",
    "\n",
    "# build architecture\n",
    "efn = EFN(input_dim=3, output_dim=16, Phi_sizes=Phi_sizes, F_sizes=F_sizes)\n",
    "\n",
    "# train model\n",
    "X_train = np.empty((len(pt_train), 18, 3))\n",
    "X_train[:,:,0] = pt_train\n",
    "X_train[:,:,1] = eta_train\n",
    "X_train[:,:,2] = phi_train\n",
    "\n",
    "X_val = np.empty((len(pt_val), 18, 3))\n",
    "X_val[:,:,0] = pt_val\n",
    "X_val[:,:,1] = eta_val\n",
    "X_val[:,:,2] = phi_val\n",
    "\n",
    "X_test = np.empty((len(pt_test), 18, 3))\n",
    "X_test[:,:,0] = pt_test\n",
    "X_test[:,:,1] = eta_test\n",
    "X_test[:,:,2] = phi_test\n",
    "\n",
    "efn.fit([pt_train, X_train], Y_train,\n",
    "        epochs=num_epoch,\n",
    "        batch_size=batch_size,\n",
    "        validation_data=([pt_val, X_val], Y_val),\n",
    "        verbose=1)\n"
   ]
  },
  {
   "cell_type": "code",
   "execution_count": 2,
   "metadata": {},
   "outputs": [],
   "source": [
    "# get predictions on test data\n",
    "preds = efn.predict([pt_test, X_test], batch_size=1000)\n",
    "\n",
    "preds_max = np.argmax(preds, axis=1)\n",
    "preds_arr = np.zeros((len(preds_max), 19))\n",
    "for i, p in enumerate(preds_max):\n",
    "    preds_arr[i][p+3] = 1\n",
    "\n",
    "# chop off \"no jet\" jet\n",
    "preds_arr = preds_arr[:,:-1]"
   ]
  },
  {
   "cell_type": "code",
   "execution_count": 3,
   "metadata": {},
   "outputs": [
    {
     "name": "stderr",
     "output_type": "stream",
     "text": [
      "100%|██████████| 15000/15000 [00:00<00:00, 151853.83it/s]"
     ]
    },
    {
     "name": "stdout",
     "output_type": "stream",
     "text": [
      "(15000, 18) (15000, 18) (15000, 18)\n",
      "\r\n"
     ]
    },
    {
     "name": "stderr",
     "output_type": "stream",
     "text": [
      "\n"
     ]
    },
    {
     "data": {
      "image/png": "[encoded data removed]",
      "text/plain": [
       "<Figure size 432x288 with 1 Axes>"
      ]
     },
     "metadata": {
      "needs_background": "light"
     },
     "output_type": "display_data"
    },
    {
     "data": {
      "text/plain": [
       "(1.1452974861690768,\n",
       " 2.154712219741823,\n",
       " 96.6999902940891,\n",
       " 3.4716157205240177,\n",
       " 96.52838427947597)"
      ]
     },
     "execution_count": 3,
     "metadata": {},
     "output_type": "execute_result"
    }
   ],
   "source": [
    "ones = np.ones((len(y), 3))\n",
    "\n",
    "truths = np.concatenate((ones, y), axis=1)[:,:-1]\n",
    "\n",
    "\n",
    "(truth_train, truth_val, truth_test, \n",
    " tag_train, tag_val, tag_test) = data_split(truths, tag, val=val, test=test)\n",
    "\n",
    "print(truth_test.shape, tag_test.shape, preds_arr.shape)\n",
    "tools.evaluate_model(truth_test, tag_test, preds_arr)\n"
   ]
  },
  {
   "cell_type": "code",
   "execution_count": null,
   "metadata": {},
   "outputs": [],
   "source": []
  }
 ],
 "metadata": {
  "kernelspec": {
   "display_name": "Python 3.8.2 64-bit",
   "language": "python",
   "name": "python38264bit1bc87f48281d409ab7479945988ac1ab"
  },
  "language_info": {
   "codemirror_mode": {
    "name": "ipython",
    "version": 3
   },
   "file_extension": ".py",
   "mimetype": "text/x-python",
   "name": "python",
   "nbconvert_exporter": "python",
   "pygments_lexer": "ipython3",
   "version": "3.8.2"
  }
 },
 "nbformat": 4,
 "nbformat_minor": 4
}
