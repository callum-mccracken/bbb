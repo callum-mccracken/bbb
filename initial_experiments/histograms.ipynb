{
 "cells": [
  {
   "cell_type": "markdown",
   "metadata": {},
   "source": [
    "# Welcome to Histogram Heaven"
   ]
  },
  {
   "cell_type": "code",
   "execution_count": 1,
   "metadata": {},
   "outputs": [],
   "source": [
    "import uproot as ur\n",
    "import uproot_methods as urm\n",
    "import awkward\n",
    "import numpy as np\n",
    "import matplotlib as mpl\n",
    "import matplotlib.pyplot as plt"
   ]
  },
  {
   "cell_type": "markdown",
   "metadata": {},
   "source": [
    "Open the ntuple"
   ]
  },
  {
   "cell_type": "code",
   "execution_count": 2,
   "metadata": {},
   "outputs": [],
   "source": [
    "sm_file = ur.open(\"../user.jagrundy.20736236._000001.MiniNTuple.root\")\n",
    "sm_tree = sm_file['XhhMiniNtuple']\n",
    "branches = sm_tree.arrays(branches=[\n",
    "    'resolvedJets_HadronConeExclTruthLabelID',\n",
    "    'resolvedJets_is_DL1r_FixedCutBEff_77'], namedecode='utf-8')\n",
    "table = awkward.Table(branches)\n",
    "\n",
    "# convenience\n",
    "table['truth'] = table['resolvedJets_HadronConeExclTruthLabelID']==5\n",
    "table['tag'] = table['resolvedJets_is_DL1r_FixedCutBEff_77']==1\n"
   ]
  },
  {
   "cell_type": "markdown",
   "metadata": {},
   "source": [
    "Get number of bjets, number of jets overall, number of tagged jets, and filter"
   ]
  },
  {
   "cell_type": "code",
   "execution_count": 3,
   "metadata": {},
   "outputs": [],
   "source": [
    "table['nbjets'] = awkward.AwkwardArray.count_nonzero(table['truth'])\n",
    "\n",
    "table['njets'] = awkward.AwkwardArray.count(table['truth'])\n",
    "\n",
    "table['nbtags'] = awkward.AwkwardArray.count_nonzero(table['tag'])\n",
    "\n",
    "# \"untagged\" = jet (not necessarily real) but not tagged\n",
    "table['n_untagged'] = awkward.AwkwardArray.count_nonzero(table['tag']==0)\n",
    "\n",
    "# filter table so we're looking at events with exactly 3 tags\n",
    "table = table[table.nbtags == 3]\n"
   ]
  },
  {
   "cell_type": "markdown",
   "metadata": {},
   "source": [
    "Make those histograms"
   ]
  },
  {
   "cell_type": "code",
   "execution_count": 4,
   "metadata": {
    "scrolled": true
   },
   "outputs": [
    {
     "data": {
      "text/plain": [
       "<Figure size 432x288 with 0 Axes>"
      ]
     },
     "metadata": {},
     "output_type": "display_data"
    },
    {
     "data": {
      "image/png": "[encoded data removed]",
      "text/plain": [
       "<Figure size 432x288 with 1 Axes>"
      ]
     },
     "metadata": {},
     "output_type": "display_data"
    }
   ],
   "source": [
    "plt.cla(); plt.clf()\n",
    "fig = plt.figure()\n",
    "fig.patch.set_facecolor('white')\n",
    "plt.hist(table.n_untagged, bins=np.max(table.n_untagged)-np.min(table.n_untagged))\n",
    "plt.yscale('log')\n",
    "plt.xlabel('Number of untagged jets, given 3 tags exist')\n",
    "plt.show()\n"
   ]
  },
  {
   "cell_type": "code",
   "execution_count": null,
   "metadata": {},
   "outputs": [],
   "source": []
  }
 ],
 "metadata": {
  "file_extension": ".py",
  "kernelspec": {
   "display_name": "Python 3.8.2 64-bit",
   "language": "python",
   "name": "python38264bit1bc87f48281d409ab7479945988ac1ab"
  },
  "language_info": {
   "codemirror_mode": {
    "name": "ipython",
    "version": 3
   },
   "file_extension": ".py",
   "mimetype": "text/x-python",
   "name": "python",
   "nbconvert_exporter": "python",
   "pygments_lexer": "ipython3",
   "version": "3.8.2"
  },
  "mimetype": "text/x-python",
  "name": "python",
  "npconvert_exporter": "python",
  "pygments_lexer": "ipython3",
  "version": 3
 },
 "nbformat": 4,
 "nbformat_minor": 2
}
