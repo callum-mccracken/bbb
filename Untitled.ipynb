{
 "cells": [
  {
   "cell_type": "code",
   "execution_count": 17,
   "metadata": {},
   "outputs": [
    {
     "name": "stdout",
     "output_type": "stream",
     "text": [
      "699 301 200 101\n"
     ]
    }
   ],
   "source": [
    "import numpy as np\n",
    "from sklearn.model_selection import ShuffleSplit\n",
    "\n",
    "trainfrac = 0.7\n",
    "testfrac = 0.2\n",
    "valfrac = 0.1\n",
    "\n",
    "events = np.array(list(range(10000))).reshape(1000,10)\n",
    "\n",
    "\n",
    "input_item = events\n",
    "train_split = ShuffleSplit(n_splits=1, test_size=testfrac + valfrac, random_state=0)\n",
    "train_index, testval_index = next(train_split.split(input_item))  \n",
    "\n",
    "testval_split = ShuffleSplit(n_splits=1, test_size=valfrac / (valfrac+testfrac), random_state=0)\n",
    "test_index, val_index = next(testval_split.split(testval_index)) \n",
    "print(len(train_index), len(testval_index), len(test_index), len(val_index))"
   ]
  },
  {
   "cell_type": "code",
   "execution_count": 18,
   "metadata": {},
   "outputs": [
    {
     "name": "stdout",
     "output_type": "stream",
     "text": [
      "[[   0    1    2 ...    7    8    9]\n",
      " [  10   11   12 ...   17   18   19]\n",
      " [  20   21   22 ...   27   28   29]\n",
      " ...\n",
      " [9970 9971 9972 ... 9977 9978 9979]\n",
      " [9980 9981 9982 ... 9987 9988 9989]\n",
      " [9990 9991 9992 ... 9997 9998 9999]]\n"
     ]
    }
   ],
   "source": [
    "print(events)"
   ]
  },
  {
   "cell_type": "code",
   "execution_count": 20,
   "metadata": {},
   "outputs": [
    {
     "name": "stdout",
     "output_type": "stream",
     "text": [
      "[[3760 3761 3762 ... 3767 3768 3769]\n",
      " [9410 9411 9412 ... 9417 9418 9419]\n",
      " [5950 5951 5952 ... 5957 5958 5959]\n",
      " ...\n",
      " [5200 5201 5202 ... 5207 5208 5209]\n",
      " [4190 4191 4192 ... 4197 4198 4199]\n",
      " [ 490  491  492 ...  497  498  499]]\n"
     ]
    }
   ],
   "source": [
    "import random\n",
    "\n",
    "shuffled_indices = list(range(len(events)))\n",
    "random.shuffle(shuffled_indices)\n",
    "events = events[shuffled_indices]\n",
    "print(events)"
   ]
  },
  {
   "cell_type": "code",
   "execution_count": null,
   "metadata": {},
   "outputs": [],
   "source": []
  }
 ],
 "metadata": {
  "kernelspec": {
   "display_name": "Python 3",
   "language": "python",
   "name": "python3"
  },
  "language_info": {
   "codemirror_mode": {
    "name": "ipython",
    "version": 3
   },
   "file_extension": ".py",
   "mimetype": "text/x-python",
   "name": "python",
   "nbconvert_exporter": "python",
   "pygments_lexer": "ipython3",
   "version": "3.7.6"
  }
 },
 "nbformat": 4,
 "nbformat_minor": 4
}
