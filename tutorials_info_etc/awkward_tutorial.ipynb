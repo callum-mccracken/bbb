{
 "nbformat": 4,
 "nbformat_minor": 2,
 "metadata": {
  "language_info": {
   "name": "python",
   "codemirror_mode": {
    "name": "ipython",
    "version": 3
   },
   "version": "3.8.2-final"
  },
  "orig_nbformat": 2,
  "file_extension": ".py",
  "mimetype": "text/x-python",
  "name": "python",
  "npconvert_exporter": "python",
  "pygments_lexer": "ipython3",
  "version": 3,
  "kernelspec": {
   "name": "python38264bit1bc87f48281d409ab7479945988ac1ab",
   "display_name": "Python 3.8.2 64-bit"
  }
 },
 "cells": [
  {
   "cell_type": "markdown",
   "metadata": {},
   "source": [
    "**LHC data from a ROOT file**\n",
    "\n",
    "Particle physicsts need structures like these—in fact, they have been a staple of particle physics analyses for decades. The ROOT file format was developed in the mid-90's to serialize arbitrary C++ data structures in a columnar way (replacing ZEBRA and similar Fortran projects that date back to the 70's). The PyROOT library dynamically wraps these objects to present them in Python, though with a performance penalty. The uproot library reads columnar data directly from ROOT files in Python without intermediary C++."
   ]
  },
  {
   "cell_type": "code",
   "execution_count": 1,
   "metadata": {},
   "outputs": [
    {
     "output_type": "execute_result",
     "data": {
      "text/plain": "<Table [<Row 0> <Row 1> <Row 2> ... <Row 2418> <Row 2419> <Row 2420>] at 0x7fa5492b8370>"
     },
     "metadata": {},
     "execution_count": 1
    }
   ],
   "source": [
    "import uproot\n",
    "events = uproot.open(\"http://scikit-hep.org/uproot/examples/HZZ-objects.root\")[\"events\"].lazyarrays()\n",
    "events"
   ]
  },
  {
   "cell_type": "code",
   "execution_count": 2,
   "metadata": {},
   "outputs": [
    {
     "output_type": "execute_result",
     "data": {
      "text/plain": "['jetp4',\n 'jetbtag',\n 'jetid',\n 'muonp4',\n 'muonq',\n 'muoniso',\n 'electronp4',\n 'electronq',\n 'electroniso',\n 'photonp4',\n 'photoniso',\n 'MET',\n 'MC_bquarkhadronic',\n 'MC_bquarkleptonic',\n 'MC_wdecayb',\n 'MC_wdecaybbar',\n 'MC_lepton',\n 'MC_leptonpdgid',\n 'MC_neutrino',\n 'num_primaryvertex',\n 'trigger_isomu24',\n 'eventweight']"
     },
     "metadata": {},
     "execution_count": 2
    }
   ],
   "source": [
    "events.columns"
   ]
  },
  {
   "cell_type": "markdown",
   "metadata": {},
   "source": [
    "This is a typical particle physics dataset (though small!) in that it represents the momentum and energy (\"p4\" for Lorentz 4-momentum) of several different species of particles: \"jet\", \"muon\", \"electron\", and \"photon\". Each collision can produce a different number of particles in each species. Other variables, such as missing transverse energy or \"MET\", have one value per collision event. Events with zero particles in a species are valuable for the event-level data."
   ]
  },
  {
   "cell_type": "code",
   "execution_count": 7,
   "metadata": {},
   "outputs": [
    {
     "output_type": "execute_result",
     "data": {
      "text/plain": "<ChunkedArray [TVector2(5.9128, 2.5636) TVector2(24.765, -16.349) TVector2(-25.785, 16.237) ... TVector2(18.102, 50.291) TVector2(79.875, -52.351) TVector2(19.714, -3.5954)] at 0x7fa5492a5ac0>"
     },
     "metadata": {},
     "execution_count": 7
    }
   ],
   "source": [
    "# The first event has two muons.\n",
    "events.muonp4\n",
    "# The first event has zero jets.\n",
    "events.jetp4\n",
    "# Every event has exactly one MET.\n",
    "events.MET"
   ]
  },
  {
   "cell_type": "markdown",
   "metadata": {},
   "source": [
    "Unlike the exoplanet data, these events cannot be represented as a DataFrame because of the different numbers of particles in each species and because zero-particle events have value. Even with just \"muonp4\", \"jetp4\", and \"MET\", there is no translation."
   ]
  },
  {
   "cell_type": "code",
   "execution_count": 6,
   "metadata": {},
   "outputs": [
    {
     "output_type": "stream",
     "name": "stdout",
     "text": "<class 'NameError'> name 'awkward' is not defined\n"
    }
   ],
   "source": [
    "try:\n",
    "    awkward.topandas(events[[\"muonp4\", \"jetp4\", \"MET\"]], flatten=True)\n",
    "except Exception as err:\n",
    "    print(type(err), str(err))"
   ]
  },
  {
   "cell_type": "markdown",
   "metadata": {},
   "source": [
    "It could be described as a collection of DataFrames, in which every operation relating particles in the same event would require a join. But that would make analysis harder, not easier. An event has meaning on its own."
   ]
  },
  {
   "cell_type": "code",
   "execution_count": 8,
   "metadata": {},
   "outputs": [
    {
     "output_type": "execute_result",
     "data": {
      "text/plain": "{'jetp4': [],\n 'jetbtag': [],\n 'jetid': [],\n 'muonp4': [TLorentzVector(x=-52.899, y=-11.655, z=-8.1608, t=54.779),\n  TLorentzVector(x=37.738, y=0.69347, z=-11.308, t=39.402)],\n 'muonq': [1, -1],\n 'muoniso': [4.200153350830078, 2.1510612964630127],\n 'electronp4': [],\n 'electronq': [],\n 'electroniso': [],\n 'photonp4': [],\n 'photoniso': [],\n 'MET': TVector2(5.9128, 2.5636),\n 'MC_bquarkhadronic': TVector3(0, 0, 0),\n 'MC_bquarkleptonic': TVector3(0, 0, 0),\n 'MC_wdecayb': TVector3(0, 0, 0),\n 'MC_wdecaybbar': TVector3(0, 0, 0),\n 'MC_lepton': TVector3(0, 0, 0),\n 'MC_leptonpdgid': 0,\n 'MC_neutrino': TVector3(0, 0, 0),\n 'num_primaryvertex': 6,\n 'trigger_isomu24': True,\n 'eventweight': 0.009271008893847466}"
     },
     "metadata": {},
     "execution_count": 8
    }
   ],
   "source": [
    "events[0].tolist()"
   ]
  },
  {
   "cell_type": "markdown",
   "metadata": {},
   "source": [
    "Particle physics isn't alone in this: analyzing JSON-formatted log files in production systems or allele likelihoods in genomics are two other fields where variable-length, nested structures can help. Arbitrary data structures are useful and working with them in columns provides a new way to do exploratory data analysis: one array at a time."
   ]
  }
 ]
}