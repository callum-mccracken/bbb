{
 "cells": [
  {
   "cell_type": "markdown",
   "metadata": {},
   "source": [
    "\n",
    "# Notebook to Evaluate / Compare Neural Networks\n",
    "\n",
    "You'll need h5 and json files for a model to use this.\n",
    "If you don't have those, you'll have to train a network.\n",
    "\n",
    "Also, use this to send the csv to others after making a network,\n",
    "rather than using the csv from when the model's created, since that\n",
    "uses scaling parameters for the test subset rather than the whole\n",
    "dataset (they shouldn't be much different but just fyi)."
   ]
  },
  {
   "cell_type": "markdown",
   "metadata": {},
   "source": [
    "Imports, open file"
   ]
  },
  {
   "cell_type": "code",
   "execution_count": 1,
   "metadata": {
    "tags": []
   },
   "outputs": [
    {
     "name": "stderr",
     "output_type": "stream",
     "text": [
      "Using TensorFlow backend.\n"
     ]
    },
    {
     "name": "stdout",
     "output_type": "stream",
     "text": [
      "sorting data by tag\n",
      "777150 total events\n"
     ]
    }
   ],
   "source": [
    "import os\n",
    "os.environ[\"CUDA_DEVICE_ORDER\"]=\"PCI_BUS_ID\"\n",
    "os.environ[\"CUDA_VISIBLE_DEVICES\"]=\"4\"\n",
    "from keras.models import Sequential\n",
    "from keras.optimizers import Adam\n",
    "from keras.regularizers import l1\n",
    "from keras.layers import Dense, Conv2D, Flatten, Dropout\n",
    "import numpy as np\n",
    "import ptetaphi_nn\n",
    "import uproot_methods as urm\n",
    "import awkward\n",
    "import tools\n",
    "with open(\"filepath.txt\", 'r') as f:\n",
    "    filename = f.read().strip(\"\\n\")\n",
    "    \n",
    "s_table = tools.open_file(filename, sort_by=\"tag\")#, pt_cut=40, eta_cut=2.5)\n",
    "print(len(s_table.resolved_lv.pt), 'total events')"
   ]
  },
  {
   "cell_type": "markdown",
   "metadata": {},
   "source": [
    "Filter events"
   ]
  },
  {
   "cell_type": "code",
   "execution_count": 2,
   "metadata": {
    "tags": []
   },
   "outputs": [
    {
     "name": "stdout",
     "output_type": "stream",
     "text": [
      "313660 events with 3 b tags\n"
     ]
    }
   ],
   "source": [
    "nt3 = s_table.nbtags==3  # 3 b tags\n",
    "events = s_table[nt3]\n",
    "print(len(events), 'events with 3 b tags')\n",
    "\n",
    "cutoff = 10  # not many events have >10 jets\n",
    "# \"pad\" = ensure all events have same length, cut off ends if needed\n",
    "events = tools.pad(events, cutoff)"
   ]
  },
  {
   "cell_type": "code",
   "execution_count": 3,
   "metadata": {},
   "outputs": [],
   "source": [
    "for t in events.tag:\n",
    "    if len(t[t==1]) != 3:\n",
    "        print(t)"
   ]
  },
  {
   "cell_type": "markdown",
   "metadata": {},
   "source": [
    "Create network"
   ]
  },
  {
   "cell_type": "code",
   "execution_count": 4,
   "metadata": {
    "tags": []
   },
   "outputs": [
    {
     "name": "stdout",
     "output_type": "stream",
     "text": [
      "Loading model... \n",
      "Using architecture: models/architecture_23_07_2020.json \n",
      "and weights: models/weights_23_07_2020.h5\n",
      "Model: \"sequential_1\"\n",
      "_________________________________________________________________\n",
      "Layer (type)                 Output Shape              Param #   \n",
      "=================================================================\n",
      "dense_1 (Dense)              (None, 30)                930       \n",
      "_________________________________________________________________\n",
      "dense_2 (Dense)              (None, 700)               21700     \n",
      "_________________________________________________________________\n",
      "dropout_1 (Dropout)          (None, 700)               0         \n",
      "_________________________________________________________________\n",
      "dense_3 (Dense)              (None, 500)               350500    \n",
      "_________________________________________________________________\n",
      "dropout_2 (Dropout)          (None, 500)               0         \n",
      "_________________________________________________________________\n",
      "dense_4 (Dense)              (None, 300)               150300    \n",
      "_________________________________________________________________\n",
      "dropout_3 (Dropout)          (None, 300)               0         \n",
      "_________________________________________________________________\n",
      "dense_5 (Dense)              (None, 100)               30100     \n",
      "_________________________________________________________________\n",
      "dropout_4 (Dropout)          (None, 100)               0         \n",
      "_________________________________________________________________\n",
      "dense_6 (Dense)              (None, 50)                5050      \n",
      "_________________________________________________________________\n",
      "dense_7 (Dense)              (None, 8)                 408       \n",
      "=================================================================\n",
      "Total params: 558,988\n",
      "Trainable params: 558,988\n",
      "Non-trainable params: 0\n",
      "_________________________________________________________________\n"
     ]
    }
   ],
   "source": [
    "nn = ptetaphi_nn.PtEtaPhiNN(events, load=(\"models/architecture_23_07_2020.json\", \"models/weights_23_07_2020.h5\"), njets=10, chop=0, print_summary=True)"
   ]
  },
  {
   "cell_type": "markdown",
   "metadata": {},
   "source": [
    "Evaluate network"
   ]
  },
  {
   "cell_type": "code",
   "execution_count": 5,
   "metadata": {
    "tags": []
   },
   "outputs": [
    {
     "name": "stderr",
     "output_type": "stream",
     "text": [
      "100%|██████████| 313660/313660 [00:01<00:00, 159469.11it/s]\n"
     ]
    },
    {
     "name": "stdout",
     "output_type": "stream",
     "text": [
      "overall accuracy: 59.99 percent\n",
      "ignoring 2.61 percent (8197 events) of 313660 events\n"
     ]
    },
    {
     "data": {
      "image/png": "[encoded data removed]",
      "text/plain": [
       "<Figure size 432x288 with 1 Axes>"
      ]
     },
     "metadata": {
      "needs_background": "light"
     },
     "output_type": "display_data"
    }
   ],
   "source": [
    "selections = nn.evaluate(events)"
   ]
  },
  {
   "cell_type": "markdown",
   "metadata": {},
   "source": [
    "Make csv with scaling parameters, "
   ]
  },
  {
   "cell_type": "code",
   "execution_count": 6,
   "metadata": {
    "tags": []
   },
   "outputs": [
    {
     "name": "stderr",
     "output_type": "stream",
     "text": [
      "100%|██████████| 313660/313660 [00:01<00:00, 157438.95it/s]\n"
     ]
    },
    {
     "name": "stdout",
     "output_type": "stream",
     "text": [
      "overall accuracy: 59.99 percent\n",
      "ignoring 2.61 percent (8197 events) of 313660 events\n"
     ]
    },
    {
     "data": {
      "image/png": "[encoded data removed]",
      "text/plain": [
       "<Figure size 432x288 with 1 Axes>"
      ]
     },
     "metadata": {
      "needs_background": "light"
     },
     "output_type": "display_data"
    },
    {
     "data": {
      "text/plain": [
       "array([[0, 0, 0, ..., 0, 0, 0],\n",
       "       [0, 0, 0, ..., 0, 0, 0],\n",
       "       [0, 0, 0, ..., 0, 0, 0],\n",
       "       ...,\n",
       "       [0, 0, 0, ..., 0, 0, 0],\n",
       "       [0, 0, 0, ..., 0, 0, 0],\n",
       "       [0, 0, 0, ..., 0, 0, 0]])"
      ]
     },
     "execution_count": 6,
     "metadata": {},
     "output_type": "execute_result"
    }
   ],
   "source": [
    "truth = events.truth\n",
    "tag = events.tag\n",
    "\n",
    "# give people the csv from here when trying to compare models\n",
    "nn_inputs = tools.scale_nn_input(events, chop=0, save_csv=\"models/scaling_parameters_23_07_2020_v2\")\n",
    "\n",
    "# get model outputs\n",
    "scores = nn.model.predict(nn_inputs)\n",
    "\n",
    "# convert nn scores into \"selections\"\n",
    "select=np.argmax(scores,axis=-1)\n",
    "selections = np.zeros((len(scores), len(tag[0])+1), dtype=int)\n",
    "for i, s in enumerate(select):\n",
    "    selections[i][s+3] = 1\n",
    "    \n",
    "# chop off the last \"no selection\" jet\n",
    "selections = selections[:,:-1]\n",
    "\n",
    "# evaluate again\n",
    "tools.evaluate_model(truth, tag, selections)"
   ]
  },
  {
   "cell_type": "markdown",
   "metadata": {},
   "source": [
    "Get network inputs and outputs for a specific event, to allow event-by-event comparison between models"
   ]
  },
  {
   "cell_type": "code",
   "execution_count": 7,
   "metadata": {},
   "outputs": [
    {
     "name": "stdout",
     "output_type": "stream",
     "text": [
      "Event 297\n",
      "Inputs [-6.18521214e-01 -1.88911140e-01  1.77924782e-02 -3.27163842e-03\n",
      "  2.31345296e-01  2.48493180e-01  1.06336164e+00 -3.29360187e-01\n",
      " -1.94782004e-01 -1.10037595e-01  7.36411512e-01  5.15906364e-02\n",
      "  1.81509364e+00  1.71740949e+00  6.52299374e-02  1.37767816e+00\n",
      " -8.48666608e-01 -2.05967342e-03  1.09038805e-03 -2.64976034e-03\n",
      " -5.47137439e-01 -2.64361918e-01  1.04922152e+00  1.49571919e+00\n",
      " -1.61229396e+00  9.07914102e-01  8.25049222e-01 -4.05969005e-03\n",
      "  1.08107866e-03  2.81306473e-03]\n",
      "Outputs\n",
      "   0 0.9214\n",
      "   1 0.0\n",
      "   2 0.0065\n",
      "   3 1e-04\n",
      "   4 0.0\n",
      "   5 0.0\n",
      "   6 0.0\n",
      "   7 0.072\n",
      "\n"
     ]
    }
   ],
   "source": [
    "i_to_compare = 297\n",
    "print(\"Event\",i_to_compare)\n",
    "print(\"Inputs\",nn_inputs[i_to_compare])\n",
    "print(\"Outputs\")\n",
    "for j in range(len(scores[i_to_compare])):\n",
    "    print(\"  \",j,round(scores[i_to_compare][j],4))\n",
    "print(\"\")"
   ]
  },
  {
   "cell_type": "code",
   "execution_count": 8,
   "metadata": {},
   "outputs": [
    {
     "name": "stderr",
     "output_type": "stream",
     "text": [
      "100%|██████████| 313660/313660 [00:02<00:00, 139892.51it/s]"
     ]
    },
    {
     "name": "stdout",
     "output_type": "stream",
     "text": [
      "104 filler events picked out of 313660 total events, that's 0.00033%\n"
     ]
    },
    {
     "name": "stderr",
     "output_type": "stream",
     "text": [
      "\n"
     ]
    }
   ],
   "source": [
    "njets = 10  # number of jets in each event\n",
    "\n",
    "# go through all events and try to find the times we picked a fake jet\n",
    "n_filler_picked = 0\n",
    "from tqdm import tqdm\n",
    "for i in tqdm(range(len(events))):\n",
    "    s = select[i]  # number of jet selected, njets-3 means no jet\n",
    "    # did we make any selection?\n",
    "    if s != njets - 3:\n",
    "        # and if so, was it a filler jet?\n",
    "        pt0 = events.resolved_lv.pt[i][s] == 0\n",
    "        eta0 = events.resolved_lv.eta[i][s] == 0\n",
    "        phi0 = events.resolved_lv.phi[i][s] == 0\n",
    "        filler = pt0 and eta0 and phi0\n",
    "        if filler:\n",
    "            n_filler_picked += 1\n",
    "\n",
    "percent = n_filler_picked/len(events)\n",
    "print(n_filler_picked, 'filler events picked out of', len(events), \n",
    "     f\"total events, that's {percent:.5f}%\")"
   ]
  },
  {
   "cell_type": "code",
   "execution_count": null,
   "metadata": {},
   "outputs": [],
   "source": []
  },
  {
   "cell_type": "code",
   "execution_count": null,
   "metadata": {},
   "outputs": [],
   "source": []
  },
  {
   "cell_type": "code",
   "execution_count": null,
   "metadata": {},
   "outputs": [],
   "source": []
  },
  {
   "cell_type": "code",
   "execution_count": null,
   "metadata": {},
   "outputs": [],
   "source": []
  },
  {
   "cell_type": "code",
   "execution_count": null,
   "metadata": {},
   "outputs": [],
   "source": []
  },
  {
   "cell_type": "code",
   "execution_count": null,
   "metadata": {},
   "outputs": [],
   "source": []
  },
  {
   "cell_type": "code",
   "execution_count": null,
   "metadata": {},
   "outputs": [],
   "source": []
  },
  {
   "cell_type": "code",
   "execution_count": null,
   "metadata": {},
   "outputs": [],
   "source": []
  }
 ],
 "metadata": {
  "kernelspec": {
   "display_name": "Python 3",
   "language": "python",
   "name": "python3"
  },
  "language_info": {
   "codemirror_mode": {
    "name": "ipython",
    "version": 3
   },
   "file_extension": ".py",
   "mimetype": "text/x-python",
   "name": "python",
   "nbconvert_exporter": "python",
   "pygments_lexer": "ipython3",
   "version": "3.7.6"
  }
 },
 "nbformat": 4,
 "nbformat_minor": 4
}
