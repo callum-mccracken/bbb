{
 "cells": [
  {
   "cell_type": "markdown",
   "metadata": {},
   "source": [
    "\n",
    "# How does the shape / size of our network affect its ability to learn?"
   ]
  },
  {
   "cell_type": "code",
   "execution_count": 1,
   "metadata": {},
   "outputs": [
    {
     "name": "stderr",
     "output_type": "stream",
     "text": [
      "Using TensorFlow backend.\n"
     ]
    },
    {
     "name": "stdout",
     "output_type": "stream",
     "text": [
      "sorting data by tag\n"
     ]
    }
   ],
   "source": [
    "import os\n",
    "os.environ[\"CUDA_DEVICE_ORDER\"]=\"PCI_BUS_ID\"   # see issue #152\n",
    "os.environ[\"CUDA_VISIBLE_DEVICES\"]=\"6\"\n",
    "from keras.models import Sequential\n",
    "from keras.optimizers import Adam\n",
    "from keras.regularizers import l1\n",
    "from keras.layers import Dense, Conv2D, Flatten, Dropout\n",
    "import ptetaphi_nn\n",
    "import tools\n",
    "with open(\"filepath.txt\", 'r') as f:\n",
    "    filename = f.read()\n",
    "    \n",
    "s_table = tools.open_file(filename, sort_by=\"tag\")"
   ]
  },
  {
   "cell_type": "code",
   "execution_count": 2,
   "metadata": {},
   "outputs": [
    {
     "name": "stdout",
     "output_type": "stream",
     "text": [
      "308955\n",
      "303925\n",
      "[65.84481  55.581104 52.658108 56.41042   0.        0.        0.\n",
      "  0.        0.        0.      ]\n",
      "[1 1 1 0 0 0 0 0 0 0]\n",
      "303925\n"
     ]
    }
   ],
   "source": [
    "# filter by realistic situation where we have 3 tags and 3 or 4 jets.\n",
    "# ignore the case where there may be >4 since those are pretty rare\n",
    "nb4 = (s_table.nbjets == 3) | (s_table.nbjets == 4) # 3 or 4 b-jets exist\n",
    "nt3 = s_table.nbtags==3  # 3 b tags\n",
    "nb4nt3 = nb4 & nt3\n",
    "events = s_table[nb4nt3]\n",
    "print(len(events))\n",
    "\n",
    "vents = s_table[nt3]\n",
    "\n",
    "# and ensure that the 3 tags are actually correct\n",
    "# this results in very little event loss\n",
    "events = events[events.truth[:,0] == 1]\n",
    "events = events[events.truth[:,1] == 1]\n",
    "events = events[events.truth[:,2] == 1]\n",
    "print(len(events))\n",
    "\n",
    "cutoff = 10  # not many events have >10 jets\n",
    "# \"pad\" = ensure all events have same length, cut off ends if needed\n",
    "events = tools.pad(events, cutoff)\n",
    "\n",
    "# then ensure require pt >= 40 and |eta| <= 2.5\n",
    "pt_filter = events.resolved_lv.pt <= 40\n",
    "events.resolved_lv.pt[pt_filter] = 0\n",
    "events.resolved_lv.eta[pt_filter] = 0\n",
    "events.resolved_lv.phi[pt_filter] = 0\n",
    "\n",
    "eta_filter = (events.resolved_lv.eta >= -2.5) & (events.resolved_lv.eta >= 2.5)\n",
    "events.resolved_lv.pt[eta_filter] = 0\n",
    "events.resolved_lv.eta[eta_filter] = 0\n",
    "events.resolved_lv.phi[eta_filter] = 0\n",
    "print(events.resolved_lv.pt[0])\n",
    "print(events.tag[0])\n",
    "print(len(events))"
   ]
  },
  {
   "cell_type": "code",
   "execution_count": 7,
   "metadata": {},
   "outputs": [
    {
     "name": "stdout",
     "output_type": "stream",
     "text": [
      "scaling\n",
      "DATA FOR .csv file:\n",
      "pt_mean,pt_mean,pt_var,eta_mean,eta_var,phi_mean,phi_var\n",
      "256.31926975623963,28002.162204528897,-0.0011182470524250965,1.0668815076637497,0.0059166731456395194,3.2939911869626477\n",
      "165.19714898705237,14678.807516109595,-0.005035429247770503,1.1332807109908833,-0.0037738410750480966,3.2528703871575653\n",
      "71.28253170922466,2601.1974988115267,-0.0005726554464193643,0.9482846550071378,-6.080123821136251e-05,2.71479103549647\n",
      "149.69398241112594,22323.41626698641,-0.15032644723394134,1.587565877256741,0.009579089603642784,2.762661295595709\n",
      "46.46214265503773,4728.972587169259,-0.14575822743754402,1.1539118216296498,0.0017263933883823487,1.5835106188182952\n",
      "14.289153115103941,1081.441464258451,-0.07777478134246826,0.5651223530065548,0.00010363542291488327,0.6676842272938854\n",
      "3.9062325319938287,248.18075517923177,-0.029618675253727154,0.20130375279499416,0.0007399833097378556,0.22064506774057785\n",
      "0.922864866715626,52.74821213303246,-0.008164926272285546,0.054006339564912256,0.0009388227090419745,0.0584511111414349\n",
      "0.18258257259121946,9.789299408425805,-0.0018486098139968538,0.011460492349063439,0.00010814527575267673,0.011744592652555287\n",
      "0.030073809311893355,1.5634482279704198,-0.00026410981935527926,0.0019215617182706908,-0.0001298403601100313,0.002087603849233442\n",
      "loading model. \n",
      "Using architecture: architecture_same_filters.json and weights: weights_same_filters.h5\n"
     ]
    }
   ],
   "source": [
    "import importlib\n",
    "importlib.reload(ptetaphi_nn)\n",
    "nn = ptetaphi_nn.PtEtaPhiNN(events, load=(\"architecture_same_filters.json\", \"weights_same_filters.h5\"), njets=10)"
   ]
  },
  {
   "cell_type": "code",
   "execution_count": 32,
   "metadata": {},
   "outputs": [
    {
     "name": "stderr",
     "output_type": "stream",
     "text": [
      "100%|██████████| 1/1 [00:00<00:00, 2531.26it/s]"
     ]
    },
    {
     "name": "stdout",
     "output_type": "stream",
     "text": [
      "using different data than when this model was created\n",
      "scaling\n",
      "DATA FOR .csv file:\n",
      "pt_mean,pt_mean,pt_var,eta_mean,eta_var,phi_mean,phi_var\n",
      "236.20181274414062,0.0,-1.2858734130859375,0.0,-1.4166144132614136,0.0\n",
      "67.19342803955078,0.0,-1.4730103015899658,0.0,1.6427026987075806,0.0\n",
      "42.153621673583984,0.0,0.06353621184825897,0.0,-2.7302451133728027,0.0\n",
      "332.3666687011719,0.0,0.30277934670448303,0.0,1.8544366359710693,0.0\n",
      "124.79906463623047,0.0,-1.692347526550293,0.0,-0.9179929494857788,0.0\n",
      "0.0,0.0,0.0,0.0,0.0,0.0\n",
      "0.0,0.0,0.0,0.0,0.0,0.0\n",
      "0.0,0.0,0.0,0.0,0.0,0.0\n",
      "0.0,0.0,0.0,0.0,0.0,0.0\n",
      "0.0,0.0,0.0,0.0,0.0,0.0\n",
      "[[0 0 0 1 0 0 0 0 0 0]]\n",
      "[[1 1 1 0 1 0 0 0 0 0]]\n",
      "\n"
     ]
    },
    {
     "name": "stderr",
     "output_type": "stream",
     "text": [
      "\n"
     ]
    },
    {
     "data": {
      "image/png": "[encoded data removed]",
      "text/plain": [
       "<Figure size 432x288 with 1 Axes>"
      ]
     },
     "metadata": {
      "needs_background": "light"
     },
     "output_type": "display_data"
    }
   ],
   "source": [
    "import awkward\n",
    "import uproot_methods as urm\n",
    "importlib.reload(tools)\n",
    "one_event = awkward.Table()\n",
    "\n",
    "index = 10\n",
    "\n",
    "lv = urm.TLorentzVectorArray.from_ptetaphie(events.resolved_lv.pt[index].reshape(1, -1),\n",
    "                                            events.resolved_lv.eta[index].reshape(1, -1),\n",
    "                                            events.resolved_lv.phi[index].reshape(1, -1),\n",
    "                                            events.resolved_lv.E[index].reshape(1, -1))\n",
    "\n",
    "one_event.resolved_lv = lv\n",
    "one_event.truth = events.truth[index].reshape(1, -1)\n",
    "one_event.tag = events.tag[index].reshape(1, -1)\n",
    "nn.evaluate(one_event)"
   ]
  },
  {
   "cell_type": "code",
   "execution_count": 3,
   "metadata": {},
   "outputs": [],
   "source": []
  },
  {
   "cell_type": "code",
   "execution_count": null,
   "metadata": {},
   "outputs": [],
   "source": []
  },
  {
   "cell_type": "code",
   "execution_count": null,
   "metadata": {},
   "outputs": [],
   "source": []
  }
 ],
 "metadata": {
  "kernelspec": {
   "display_name": "Python 3",
   "language": "python",
   "name": "python3"
  },
  "language_info": {
   "codemirror_mode": {
    "name": "ipython",
    "version": 3
   },
   "file_extension": ".py",
   "mimetype": "text/x-python",
   "name": "python",
   "nbconvert_exporter": "python",
   "pygments_lexer": "ipython3",
   "version": "3.6.9"
  }
 },
 "nbformat": 4,
 "nbformat_minor": 4
}
